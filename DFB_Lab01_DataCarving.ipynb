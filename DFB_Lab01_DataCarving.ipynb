{
  "cells": [
    {
      "cell_type": "code",
      "execution_count": 15,
      "id": "e919b1a9-8857-4033-afe8-bd2b50ec4ad4",
      "metadata": {
        "colab": {
          "base_uri": "https://localhost:8080/"
        },
        "id": "e919b1a9-8857-4033-afe8-bd2b50ec4ad4",
        "outputId": "68c0694b-c3cb-4fa3-e285-5e819453d6f9"
      },
      "outputs": [
        {
          "output_type": "stream",
          "name": "stdout",
          "text": [
            "Cloning into '/tmp/DFB_lab_init'...\n",
            "remote: Enumerating objects: 65, done.\u001b[K\n",
            "remote: Counting objects: 100% (21/21), done.\u001b[K\n",
            "remote: Compressing objects: 100% (16/16), done.\u001b[K\n",
            "remote: Total 65 (delta 8), reused 16 (delta 3), pack-reused 44 (from 1)\u001b[K\n",
            "Receiving objects: 100% (65/65), 113.72 MiB | 30.71 MiB/s, done.\n",
            "Resolving deltas: 100% (16/16), done.\n",
            "Cloning into '/opt/datacarving-lab'...\n",
            "remote: Enumerating objects: 55, done.\u001b[K\n",
            "remote: Counting objects: 100% (11/11), done.\u001b[K\n",
            "remote: Compressing objects: 100% (9/9), done.\u001b[K\n",
            "remote: Total 55 (delta 5), reused 8 (delta 2), pack-reused 44 (from 1)\u001b[K\n",
            "Receiving objects: 100% (55/55), 113.71 MiB | 29.86 MiB/s, done.\n",
            "Resolving deltas: 100% (13/13), done.\n",
            "ln: failed to create symbolic link '/opt/datacarving-lab/ext4.dd': File exists\n",
            "Reading package lists... Done\n",
            "Building dependency tree... Done\n",
            "Reading state information... Done\n",
            "binwalk is already the newest version (2.3.3+dfsg1-2).\n",
            "dcfldd is already the newest version (1.7.1-1).\n",
            "scalpel is already the newest version (1.60-9).\n",
            "sleuthkit is already the newest version (4.11.1+dfsg-1).\n",
            "xxd is already the newest version (2:8.2.3995-1ubuntu2.24).\n",
            "0 upgraded, 0 newly installed, 0 to remove and 38 not upgraded.\n"
          ]
        },
        {
          "output_type": "execute_result",
          "data": {
            "text/plain": []
          },
          "metadata": {},
          "execution_count": 15
        }
      ],
      "source": [
        "%%shell\n",
        "# SETUP OF GOOGLE COLAB ENVIRONMENT\n",
        "git clone -b colab --single-branch https://github.com/lucadomene/DFB_Lab01_DataCarving /tmp/DFB_lab_init\n",
        "sh /tmp/DFB_lab_init/initialize.sh"
      ]
    },
    {
      "cell_type": "markdown",
      "id": "5fd26209-b741-47b6-89bf-32b1399d21a2",
      "metadata": {
        "id": "5fd26209-b741-47b6-89bf-32b1399d21a2"
      },
      "source": [
        "# Laboratory on Data Carving\n",
        "_Digital Forensics and Biometrics_ A.A. 2025/2026\n",
        "\n",
        "Lecturer: prof. **Simone Milani** (simone.milani@dei.unipd.it)\n",
        "\n",
        "Teaching Assistants: **Mattia Tamiazzo** (mattia.tamiazzo@studenti.unipd.it); **Luca Domeneghetti** (luca.domeneghetti@studenti.unipd.it)\n",
        "\n",
        "### Prerequisites\n",
        "This laboratory requires no prior knowledge concerning digital forensics. Although, basic knowledge of the Unix enviromnent might benefit the understanding of the deletion/recovery process.\n",
        "\n",
        "In general, the following aspects are expected to be known and will not be covered in detail:\n",
        "- Unix paradigm of files, directories and devices\n",
        "- Basic Shell usage\n",
        "- `Ext4` filesystem layout: inodes, block sectors, journaling\n",
        "- Calculations with hexadecimal byte offsets\n",
        "\n",
        "### Contents\n",
        "The goal of this laboratory is to provide the basic theoretical and practical notions on data carving and file recovery. The details related to file system's structure and I/O mechanisms – despite being crucial for a potentially successful data recovery – are out of scope and will be provided as a further reading for the student.\n",
        "\n",
        "At the end of the laboratory the student will have acquired the following skills:\n",
        "- Perform a forensic disk copy using Unix imaging tools (`dcfldd`)\n",
        "- Analyze the partition layout of a disk image\n",
        "- List the files within a filesystem\n",
        "- **Retrieve deallocated/deleted files**\n",
        "- **Perform data carving** (manually and using dedicated tools)\n",
        "___\n",
        "## Theoretical aspects of filesystem forensics\n",
        "Before diving into the practice, a brief theoretical detour is essential to understand how a recovery procedure is to be carried out.\n",
        "\n",
        "Having in mind how a specific filesystem works helps to understand how deletion processes work, how files are allocated logically and physically, and most importantly where to look for when searching for deallocated data.\n",
        "\n",
        "### The Ext filesystem\n",
        "This laboratory will be focused on Ext filesystems as it is widely implemented and tested under Linux environment. Its simplicity makes it the suitable starting point for a comprehensive data forensic approach.\n",
        "\n",
        "#### Inodes\n",
        "An **inode** (index nodes) is a data structure used by Unix filesystems (including the Ext family) to represent metadata on files. Each inode stores the following information:\n",
        "\n",
        "- File type (e.g., regular file, directory, symlink)\n",
        "- Permissions and ownership (UID, GID)\n",
        "- Timestamps (created, modified, accessed)\n",
        "- File size\n",
        "- Link count\n",
        "- Pointers to data blocks\n",
        "\n",
        "Inodes do **not** store the file name or its path — these are maintained in directory entries to map symbolic names to inode numbers. This separation is critical in forensic analysis and data carving where inodes may remain allocated even if directory structures are damaged or missing (this is the case for _orphan files_).\n",
        "\n",
        "Within an Ext partition, inodes are located in inode tables. Each inode is marked as allocated or deallocated by using inode bitmaps.\n",
        "\n",
        "[![](https://www.virtualcuriosities.com/wp-content/uploads/2025/03/linux-diagram-hard-links-inodes-20250326.webp)](https://www.virtualcuriosities.com/articles/4507/how-hard-links-and-inodes-work-on-linux)\n",
        "\n",
        "#### Directories\n",
        "In Ext filesystems, directories are special files (file code `0x2`) that store a list of **directory entries**, each mapping a filename to an **inode number**. These entries are stored sequentially in data blocks and are arranged as such:\n",
        "\n",
        "| Offset | Size                | Name                   | Description                                               |\n",
        "|--------|---------------------|------------------------|-----------------------------------------------------------|\n",
        "| 0x0    | __le32              | inode                  | Number of the inode that this directory entry points to.  |\n",
        "| 0x4    | __le16              | rec_len                | Length of this directory entry.                           |\n",
        "| 0x6    | __u8                | name_len               | Length of the file name.                                  |\n",
        "| 0x7    | __u8                | file_type              | File type code                                            |\n",
        "| 0x8    | char\\[255]          | name                   | File name.                                                |\n",
        "\n",
        "This structure allows multiple filenames (hard links) to point to the same inode.\n",
        "\n",
        "In Ext2 and Ext3, directory entries are stored in a linear list, which can become inefficient as directories grow. Ext4 introduced **HTree indexing**, a hashed B-tree-like structure, to improve performance in large directories.\n",
        "\n",
        "### NTFS and FAT\n",
        "\n",
        "Aside from Ext filesystems, NTFS and FAT filesystems are frequently employed in Windows environments or external data storage (e.g. USBs). Although they share some similarities, understanding the differences is key for a successful file recovery.\n",
        "\n",
        "- **Metadata Handling**:  \n",
        "  Ext uses **inodes** to store file metadata separately from directory entries. In contrast, **NTFS** stores metadata in the **Master File Table (MFT)**, with each file represented as a record. **FAT**, being simpler, uses a **File Allocation Table** and directory entries that contain both metadata and file location info.\n",
        "\n",
        "- **File Deletion Behavior**:  \n",
        "  In **Ext**, when a file is deleted, its directory entry and inode may persist until overwritten, which aids data recovery. **NTFS** marks MFT entries as deleted but often retains significant metadata. **FAT** simply marks the first character of the filename as deleted and updates the FAT chain.\n",
        "\n",
        "- **Journaling**:  \n",
        "  **Ext3/4** and **NTFS** are journaling filesystems, enhancing data integrity but sometimes complicating recovery due to overwrites. **FAT** lacks journaling, making it more vulnerable to corruption but also leaving raw data more directly accessible for carving.\n",
        "\n",
        "- **File Name and Path Storage**:  \n",
        "  Ext separates names (in directory entries) from inodes, while NTFS stores file name attributes directly within MFT records. FAT embeds the file name directly in the directory entry."
      ]
    },
    {
      "cell_type": "markdown",
      "id": "fbf4ac68-701a-4c4b-81b0-cf30c6f45e0f",
      "metadata": {
        "id": "fbf4ac68-701a-4c4b-81b0-cf30c6f45e0f"
      },
      "source": [
        "___\n",
        "## Exercise 01: perform a forensic disk imaging\n",
        "When in possess of a digital forensic device (e.g. an hard disk, USB drive, internal SSD...), the first crucial step is to perform a copy of it as to avoid any accidental modification of the original.\n",
        "\n",
        "This process is called **disk imaging** and abides the following principles:\n",
        "1. the copy is an exact duplicate of the original device\n",
        "2. the original device remains unaltered by the process\n",
        "\n",
        "To avoid that unwanted (or intentional!) modifications are introduced during subsequent procedures, it is important to keep track of the **hash signature** of the original device. This step has to be performed during the first acquisition of the digital media.\n",
        "\n",
        "The target device is located at `/dev/loop0` in the virtual Unix machine. It is **important** to select the root device `loop0` and not any of its partitions (e.g. `loop0p1`) in order to perform a full disk image."
      ]
    },
    {
      "cell_type": "code",
      "execution_count": 16,
      "id": "b9c49ac2-9773-4406-8728-810c6ff10602",
      "metadata": {
        "colab": {
          "base_uri": "https://localhost:8080/"
        },
        "id": "b9c49ac2-9773-4406-8728-810c6ff10602",
        "outputId": "326f0946-fd2d-47d8-f757-70a3d7c8c9e3"
      },
      "outputs": [
        {
          "output_type": "stream",
          "name": "stdout",
          "text": [
            "1536 blocks (48Mb) written.\n",
            "1600+0 records in\n",
            "1600+0 records out\n"
          ]
        },
        {
          "output_type": "execute_result",
          "data": {
            "text/plain": []
          },
          "metadata": {},
          "execution_count": 16
        }
      ],
      "source": [
        "%%shell\n",
        "# `dcfldd` is an advanced version of Unix's `dd` tool to perform bit-by-bit copies of files/devices\n",
        "# if = input file\n",
        "# of = output file\n",
        "\n",
        "# Task: perform a disk image of device /dev/loop0 and save it as whatever you prefer.\n",
        "# How can I make `dcfldd` also compute the MD5 and SHA256 hash of the original disk device?\n",
        "\n",
        "dcfldd if=/dev/loop0 of=image.dd hash=md5,sha256 hashlog=hash.txt"
      ]
    },
    {
      "cell_type": "code",
      "execution_count": 17,
      "id": "d5321aa1-9c48-4749-9910-3abe67a77c72",
      "metadata": {
        "colab": {
          "base_uri": "https://localhost:8080/"
        },
        "id": "d5321aa1-9c48-4749-9910-3abe67a77c72",
        "outputId": "ab33b64a-fa4a-4692-9ea7-85e9750d4c86"
      },
      "outputs": [
        {
          "output_type": "stream",
          "name": "stdout",
          "text": [
            "004ad369505907411c07cf0da7a01af6  image.dd\n",
            "f20dc2134f06a54dda6b02ba834fa62a0da6bc35b99e61f496c168be50e2f44c  image.dd\n",
            "\n",
            "Total (md5): 004ad369505907411c07cf0da7a01af6\n",
            "\n",
            "Total (sha256): f20dc2134f06a54dda6b02ba834fa62a0da6bc35b99e61f496c168be50e2f44c\n"
          ]
        },
        {
          "output_type": "execute_result",
          "data": {
            "text/plain": []
          },
          "metadata": {},
          "execution_count": 17
        }
      ],
      "source": [
        "%%shell\n",
        "# Task: compare the MD5 and SHA256 hash digest of the original device (as provided by `dcfldd`) to the one of the disk image\n",
        "md5sum image.dd\n",
        "sha256sum image.dd\n",
        "\n",
        "cat hash.txt"
      ]
    },
    {
      "cell_type": "markdown",
      "id": "d7669c4d-e925-4132-a580-4b5d6c1e948b",
      "metadata": {
        "id": "d7669c4d-e925-4132-a580-4b5d6c1e948b"
      },
      "source": [
        "___\n",
        "## Exercise 02: obtain filesystem info of the disk image\n",
        "Each filesystem differs in the way data is arranged physically on the device. Even similar filesystems (e.g. Ext3 and Ext4) or the same filesystem may prefer an arrangement to another when considering the total space available on the device, the flags that were toggled during installation or the characteristics of the device itself (SSD, HDD...).\n",
        "\n",
        "For convenience, it is better to extract the partition from the complete image using `dcfldd` with `if={your_image}.dd` (hint: look at options `bs`, `seek` and `count`).\n",
        "\n",
        "TheSleuthKit (abbreviated as TSK) provides two commands to do so: `mmls` and `fsstat`"
      ]
    },
    {
      "cell_type": "code",
      "execution_count": 18,
      "id": "4f4b68ad-9cd1-470c-9d64-d0d65ca3a7c4",
      "metadata": {
        "colab": {
          "base_uri": "https://localhost:8080/"
        },
        "id": "4f4b68ad-9cd1-470c-9d64-d0d65ca3a7c4",
        "outputId": "ee2d2f0d-5b0c-4407-e2ab-df1215b36cf9"
      },
      "outputs": [
        {
          "output_type": "stream",
          "name": "stdout",
          "text": [
            "DOS Partition Table\n",
            "Offset Sector: 0\n",
            "Units are in 512-byte sectors\n",
            "\n",
            "      Slot      Start        End          Length       Description\n",
            "000:  Meta      0000000000   0000000000   0000000001   Primary Table (#0)\n",
            "001:  -------   0000000000   0000002047   0000002048   Unallocated\n",
            "002:  000:000   0000002048   0000102399   0000100352   Linux (0x83)\n",
            "\r256 blocks (0Mb) written.\r512 blocks (0Mb) written.\r768 blocks (0Mb) written.\r1024 blocks (0Mb) written.\r1280 blocks (0Mb) written.\r1536 blocks (0Mb) written.\r1792 blocks (0Mb) written.\r2048 blocks (1Mb) written.\r2304 blocks (1Mb) written.\r2560 blocks (1Mb) written.\r2816 blocks (1Mb) written.\r3072 blocks (1Mb) written.\r3328 blocks (1Mb) written.\r3584 blocks (1Mb) written.\r3840 blocks (1Mb) written.\r4096 blocks (2Mb) written.\r4352 blocks (2Mb) written.\r4608 blocks (2Mb) written.\r4864 blocks (2Mb) written.\r5120 blocks (2Mb) written.\r5376 blocks (2Mb) written.\r5632 blocks (2Mb) written.\r5888 blocks (2Mb) written.\r6144 blocks (3Mb) written.\r6400 blocks (3Mb) written.\r6656 blocks (3Mb) written.\r6912 blocks (3Mb) written.\r7168 blocks (3Mb) written.\r7424 blocks (3Mb) written.\r7680 blocks (3Mb) written.\r7936 blocks (3Mb) written.\r8192 blocks (4Mb) written.\r8448 blocks (4Mb) written.\r8704 blocks (4Mb) written.\r8960 blocks (4Mb) written.\r9216 blocks (4Mb) written.\r9472 blocks (4Mb) written.\r9728 blocks (4Mb) written.\r9984 blocks (4Mb) written.\r10240 blocks (5Mb) written.\r10496 blocks (5Mb) written.\r10752 blocks (5Mb) written.\r11008 blocks (5Mb) written.\r11264 blocks (5Mb) written.\r11520 blocks (5Mb) written.\r11776 blocks (5Mb) written.\r12032 blocks (5Mb) written.\r12288 blocks (6Mb) written.\r12544 blocks (6Mb) written.\r12800 blocks (6Mb) written.\r13056 blocks (6Mb) written.\r13312 blocks (6Mb) written.\r13568 blocks (6Mb) written.\r13824 blocks (6Mb) written.\r14080 blocks (6Mb) written.\r14336 blocks (7Mb) written.\r14592 blocks (7Mb) written.\r14848 blocks (7Mb) written.\r15104 blocks (7Mb) written.\r15360 blocks (7Mb) written.\r15616 blocks (7Mb) written.\r15872 blocks (7Mb) written.\r16128 blocks (7Mb) written.\r16384 blocks (8Mb) written.\r16640 blocks (8Mb) written.\r16896 blocks (8Mb) written.\r17152 blocks (8Mb) written.\r17408 blocks (8Mb) written.\r17664 blocks (8Mb) written.\r17920 blocks (8Mb) written.\r18176 blocks (8Mb) written.\r18432 blocks (9Mb) written.\r18688 blocks (9Mb) written.\r18944 blocks (9Mb) written.\r19200 blocks (9Mb) written.\r19456 blocks (9Mb) written.\r19712 blocks (9Mb) written.\r19968 blocks (9Mb) written.\r20224 blocks (9Mb) written.\r20480 blocks (10Mb) written.\r20736 blocks (10Mb) written.\r20992 blocks (10Mb) written.\r21248 blocks (10Mb) written.\r21504 blocks (10Mb) written.\r21760 blocks (10Mb) written.\r22016 blocks (10Mb) written.\r22272 blocks (10Mb) written.\r22528 blocks (11Mb) written.\r22784 blocks (11Mb) written.\r23040 blocks (11Mb) written.\r23296 blocks (11Mb) written.\r23552 blocks (11Mb) written.\r23808 blocks (11Mb) written.\r24064 blocks (11Mb) written.\r24320 blocks (11Mb) written.\r24576 blocks (12Mb) written.\r24832 blocks (12Mb) written.\r25088 blocks (12Mb) written.\r25344 blocks (12Mb) written.\r25600 blocks (12Mb) written.\r25856 blocks (12Mb) written.\r26112 blocks (12Mb) written.\r26368 blocks (12Mb) written.\r26624 blocks (13Mb) written.\r26880 blocks (13Mb) written.\r27136 blocks (13Mb) written.\r27392 blocks (13Mb) written.\r27648 blocks (13Mb) written.\r27904 blocks (13Mb) written.\r28160 blocks (13Mb) written.\r28416 blocks (13Mb) written.\r28672 blocks (14Mb) written.\r28928 blocks (14Mb) written.\r29184 blocks (14Mb) written.\r29440 blocks (14Mb) written.\r29696 blocks (14Mb) written.\r29952 blocks (14Mb) written.\r30208 blocks (14Mb) written.\r30464 blocks (14Mb) written.\r30720 blocks (15Mb) written.\r30976 blocks (15Mb) written.\r31232 blocks (15Mb) written.\r31488 blocks (15Mb) written.\r31744 blocks (15Mb) written.\r32000 blocks (15Mb) written.\r32256 blocks (15Mb) written.\r32512 blocks (15Mb) written.\r32768 blocks (16Mb) written.\r33024 blocks (16Mb) written.\r33280 blocks (16Mb) written.\r33536 blocks (16Mb) written.\r33792 blocks (16Mb) written.\r34048 blocks (16Mb) written.\r34304 blocks (16Mb) written.\r34560 blocks (16Mb) written.\r34816 blocks (17Mb) written.\r35072 blocks (17Mb) written.\r35328 blocks (17Mb) written.\r35584 blocks (17Mb) written.\r35840 blocks (17Mb) written.\r36096 blocks (17Mb) written.\r36352 blocks (17Mb) written.\r36608 blocks (17Mb) written.\r36864 blocks (18Mb) written.\r37120 blocks (18Mb) written.\r37376 blocks (18Mb) written.\r37632 blocks (18Mb) written.\r37888 blocks (18Mb) written.\r38144 blocks (18Mb) written.\r38400 blocks (18Mb) written.\r38656 blocks (18Mb) written.\r38912 blocks (19Mb) written.\r39168 blocks (19Mb) written.\r39424 blocks (19Mb) written.\r39680 blocks (19Mb) written.\r39936 blocks (19Mb) written.\r40192 blocks (19Mb) written.\r40448 blocks (19Mb) written.\r40704 blocks (19Mb) written.\r40960 blocks (20Mb) written.\r41216 blocks (20Mb) written.\r41472 blocks (20Mb) written.\r41728 blocks (20Mb) written.\r41984 blocks (20Mb) written.\r42240 blocks (20Mb) written.\r42496 blocks (20Mb) written.\r42752 blocks (20Mb) written.\r43008 blocks (21Mb) written.\r43264 blocks (21Mb) written.\r43520 blocks (21Mb) written.\r43776 blocks (21Mb) written.\r44032 blocks (21Mb) written.\r44288 blocks (21Mb) written.\r44544 blocks (21Mb) written.\r44800 blocks (21Mb) written.\r45056 blocks (22Mb) written.\r45312 blocks (22Mb) written.\r45568 blocks (22Mb) written.\r45824 blocks (22Mb) written.\r46080 blocks (22Mb) written.\r46336 blocks (22Mb) written.\r46592 blocks (22Mb) written.\r46848 blocks (22Mb) written.\r47104 blocks (23Mb) written.\r47360 blocks (23Mb) written.\r47616 blocks (23Mb) written.\r47872 blocks (23Mb) written.\r48128 blocks (23Mb) written.\r48384 blocks (23Mb) written.\r48640 blocks (23Mb) written.\r48896 blocks (23Mb) written.\r49152 blocks (24Mb) written.\r49408 blocks (24Mb) written.\r49664 blocks (24Mb) written.\r49920 blocks (24Mb) written.\r50176 blocks (24Mb) written.\r50432 blocks (24Mb) written.\r50688 blocks (24Mb) written.\r50944 blocks (24Mb) written.\r51200 blocks (25Mb) written.\r51456 blocks (25Mb) written.\r51712 blocks (25Mb) written.\r51968 blocks (25Mb) written.\r52224 blocks (25Mb) written.\r52480 blocks (25Mb) written.\r52736 blocks (25Mb) written.\r52992 blocks (25Mb) written.\r53248 blocks (26Mb) written.\r53504 blocks (26Mb) written.\r53760 blocks (26Mb) written.\r54016 blocks (26Mb) written.\r54272 blocks (26Mb) written.\r54528 blocks (26Mb) written.\r54784 blocks (26Mb) written.\r55040 blocks (26Mb) written.\r55296 blocks (27Mb) written.\r55552 blocks (27Mb) written.\r55808 blocks (27Mb) written.\r56064 blocks (27Mb) written.\r56320 blocks (27Mb) written.\r56576 blocks (27Mb) written.\r56832 blocks (27Mb) written.\r57088 blocks (27Mb) written.\r57344 blocks (28Mb) written.\r57600 blocks (28Mb) written.\r57856 blocks (28Mb) written.\r58112 blocks (28Mb) written.\r58368 blocks (28Mb) written.\r58624 blocks (28Mb) written.\r58880 blocks (28Mb) written.\r59136 blocks (28Mb) written.\r59392 blocks (29Mb) written.\r59648 blocks (29Mb) written.\r59904 blocks (29Mb) written.\r60160 blocks (29Mb) written.\r60416 blocks (29Mb) written.\r60672 blocks (29Mb) written.\r60928 blocks (29Mb) written.\r61184 blocks (29Mb) written.\r61440 blocks (30Mb) written.\r61696 blocks (30Mb) written.\r61952 blocks (30Mb) written.\r62208 blocks (30Mb) written.\r62464 blocks (30Mb) written.\r62720 blocks (30Mb) written.\r62976 blocks (30Mb) written.\r63232 blocks (30Mb) written.\r63488 blocks (31Mb) written.\r63744 blocks (31Mb) written.\r64000 blocks (31Mb) written.\r64256 blocks (31Mb) written.\r64512 blocks (31Mb) written.\r64768 blocks (31Mb) written.\r65024 blocks (31Mb) written.\r65280 blocks (31Mb) written.\r65536 blocks (32Mb) written.\r65792 blocks (32Mb) written.\r66048 blocks (32Mb) written.\r66304 blocks (32Mb) written.\r66560 blocks (32Mb) written.\r66816 blocks (32Mb) written.\r67072 blocks (32Mb) written.\r67328 blocks (32Mb) written.\r67584 blocks (33Mb) written.\r67840 blocks (33Mb) written.\r68096 blocks (33Mb) written.\r68352 blocks (33Mb) written.\r68608 blocks (33Mb) written.\r68864 blocks (33Mb) written.\r69120 blocks (33Mb) written.\r69376 blocks (33Mb) written.\r69632 blocks (34Mb) written.\r69888 blocks (34Mb) written.\r70144 blocks (34Mb) written.\r70400 blocks (34Mb) written.\r70656 blocks (34Mb) written.\r70912 blocks (34Mb) written.\r71168 blocks (34Mb) written.\r71424 blocks (34Mb) written.\r71680 blocks (35Mb) written.\r71936 blocks (35Mb) written.\r72192 blocks (35Mb) written.\r72448 blocks (35Mb) written.\r72704 blocks (35Mb) written.\r72960 blocks (35Mb) written.\r73216 blocks (35Mb) written.\r73472 blocks (35Mb) written.\r73728 blocks (36Mb) written.\r73984 blocks (36Mb) written.\r74240 blocks (36Mb) written.\r74496 blocks (36Mb) written.\r74752 blocks (36Mb) written.\r75008 blocks (36Mb) written.\r75264 blocks (36Mb) written.\r75520 blocks (36Mb) written.\r75776 blocks (37Mb) written.\r76032 blocks (37Mb) written.\r76288 blocks (37Mb) written.\r76544 blocks (37Mb) written.\r76800 blocks (37Mb) written.\r77056 blocks (37Mb) written.\r77312 blocks (37Mb) written.\r77568 blocks (37Mb) written.\r77824 blocks (38Mb) written.\r78080 blocks (38Mb) written.\r78336 blocks (38Mb) written.\r78592 blocks (38Mb) written.\r78848 blocks (38Mb) written.\r79104 blocks (38Mb) written.\r79360 blocks (38Mb) written.\r79616 blocks (38Mb) written.\r79872 blocks (39Mb) written.\r80128 blocks (39Mb) written.\r80384 blocks (39Mb) written.\r80640 blocks (39Mb) written.\r80896 blocks (39Mb) written.\r81152 blocks (39Mb) written.\r81408 blocks (39Mb) written.\r81664 blocks (39Mb) written.\r81920 blocks (40Mb) written.\r82176 blocks (40Mb) written.\r82432 blocks (40Mb) written.\r82688 blocks (40Mb) written.\r82944 blocks (40Mb) written.\r83200 blocks (40Mb) written.\r83456 blocks (40Mb) written.\r83712 blocks (40Mb) written.\r83968 blocks (41Mb) written.\r84224 blocks (41Mb) written.\r84480 blocks (41Mb) written.\r84736 blocks (41Mb) written.\r84992 blocks (41Mb) written.\r85248 blocks (41Mb) written.\r85504 blocks (41Mb) written.\r85760 blocks (41Mb) written.\r86016 blocks (42Mb) written.\r86272 blocks (42Mb) written.\r86528 blocks (42Mb) written.\r86784 blocks (42Mb) written.\r87040 blocks (42Mb) written.\r87296 blocks (42Mb) written.\r87552 blocks (42Mb) written.\r87808 blocks (42Mb) written.\r88064 blocks (43Mb) written.\r88320 blocks (43Mb) written.\r88576 blocks (43Mb) written.\r88832 blocks (43Mb) written.\r89088 blocks (43Mb) written.\r89344 blocks (43Mb) written.\r89600 blocks (43Mb) written.\r89856 blocks (43Mb) written.\r90112 blocks (44Mb) written.\r90368 blocks (44Mb) written.\r90624 blocks (44Mb) written.\r90880 blocks (44Mb) written.\r91136 blocks (44Mb) written.\r91392 blocks (44Mb) written.\r91648 blocks (44Mb) written.\r91904 blocks (44Mb) written.\r92160 blocks (45Mb) written.\r92416 blocks (45Mb) written.\r92672 blocks (45Mb) written.\r92928 blocks (45Mb) written.\r93184 blocks (45Mb) written.\r93440 blocks (45Mb) written.\r93696 blocks (45Mb) written.\r93952 blocks (45Mb) written.\r94208 blocks (46Mb) written.\r94464 blocks (46Mb) written.\r94720 blocks (46Mb) written.\r94976 blocks (46Mb) written.\r95232 blocks (46Mb) written.\r95488 blocks (46Mb) written.\r95744 blocks (46Mb) written.\r96000 blocks (46Mb) written.\r96256 blocks (47Mb) written.\r96512 blocks (47Mb) written.\r96768 blocks (47Mb) written.\r97024 blocks (47Mb) written.\r97280 blocks (47Mb) written.\r97536 blocks (47Mb) written.\r97792 blocks (47Mb) written.\r98048 blocks (47Mb) written.\r98304 blocks (48Mb) written.\r98560 blocks (48Mb) written.\r98816 blocks (48Mb) written.\r99072 blocks (48Mb) written.\r99328 blocks (48Mb) written.\r99584 blocks (48Mb) written.\r99840 blocks (48Mb) written.\r100096 blocks (48Mb) written.\r100352 blocks (49Mb) written.\n",
            "100352+0 records in\n",
            "100352+0 records out\n"
          ]
        },
        {
          "output_type": "execute_result",
          "data": {
            "text/plain": []
          },
          "metadata": {},
          "execution_count": 18
        }
      ],
      "source": [
        "%%shell\n",
        "# `mmls` provides information on the overall layout scheme of the disk image\n",
        "# Task: list the partition table and extract the Linux partition\n",
        "mmls image.dd\n",
        "\n",
        "dcfldd if=image.dd of=linux_part.dd skip=2048 count=100352 bs=512"
      ]
    },
    {
      "cell_type": "code",
      "execution_count": 19,
      "id": "74b13a59-ac34-4f4e-ab5a-0e08db0684fb",
      "metadata": {
        "colab": {
          "base_uri": "https://localhost:8080/"
        },
        "id": "74b13a59-ac34-4f4e-ab5a-0e08db0684fb",
        "outputId": "56e0c5ca-9fd9-4bd1-839e-2dd5aa2d4993"
      },
      "outputs": [
        {
          "output_type": "stream",
          "name": "stdout",
          "text": [
            "FILE SYSTEM INFORMATION\n",
            "--------------------------------------------\n",
            "File System Type: Ext4\n",
            "Volume Name: \n",
            "Volume ID: 5731a81e5f937b38c4a726d628b6b2d\n",
            "\n",
            "Last Written at: 2025-10-12 12:33:07 (UTC)\n",
            "Last Checked at: 2025-10-05 16:29:36 (UTC)\n",
            "\n",
            "Last Mounted at: 2025-10-05 16:29:36 (UTC)\n",
            "Unmounted properly\n",
            "\n",
            "Source OS: Linux\n",
            "Dynamic Structure\n",
            "Compat Features: Journal, Ext Attributes, Resize Inode, Dir Index\n",
            "InCompat Features: Filetype, Extents, 64bit, Flexible Block Groups, \n",
            "Read Only Compat Features: Sparse Super, Large File, Huge File, Extra Inode Size\n",
            "\n",
            "Journal ID: 00\n",
            "Journal Inode: 8\n",
            "\n",
            "METADATA INFORMATION\n",
            "--------------------------------------------\n",
            "Inode Range: 1 - 12545\n",
            "Root Directory: 2\n",
            "Free Inodes: 12519\n",
            "Inode Size: 256\n",
            "\n",
            "CONTENT INFORMATION\n",
            "--------------------------------------------\n",
            "Block Groups Per Flex Group: 16\n",
            "Block Range: 0 - 50175\n",
            "Block Size: 1024\n",
            "Reserved Blocks Before Block Groups: 1\n",
            "Free Blocks: 24846\n",
            "\n",
            "BLOCK GROUP INFORMATION\n",
            "--------------------------------------------\n",
            "Number of Block Groups: 7\n",
            "Inodes per group: 1792\n",
            "Blocks per group: 8192\n",
            "\n",
            "Group: 0:\n",
            "  Block Group Flags: [\b\b]\n",
            "  Inode Range: 1 - 1792\n",
            "  Block Range: 1 - 8192\n",
            "  Layout:\n",
            "    Super Block: 1 - 1\n",
            "    Group Descriptor Table: 2 - 2\n",
            "    Group Descriptor Growth Blocks: 3 - 258\n",
            "    Data bitmap: 259 - 259\n",
            "    Inode bitmap: 266 - 266\n",
            "    Inode Table: 273 - 720\n",
            "    Uninit Data Bitmaps: 266 - 274\n",
            "    Uninit Inode Bitmaps: 273 - 281\n",
            "    Uninit Inode Table: 3409 - 7440\n",
            "    Data Blocks: 7459 - 8192\n",
            "  Free Inodes: 1769 (98%)\n",
            "  Free Blocks: 4767 (58%)\n",
            "  Total Directories: 3\n",
            "  Stored Checksum: 0x0000\n",
            "\n",
            "Group: 1:\n",
            "  Block Group Flags: [\b\b]\n",
            "  Inode Range: 1793 - 3584\n",
            "  Block Range: 8193 - 16384\n",
            "  Layout:\n",
            "    Super Block: 8193 - 8193\n",
            "    Group Descriptor Table: 8194 - 8194\n",
            "    Group Descriptor Growth Blocks: 8195 - 8450\n",
            "    Data bitmap: 260 - 260\n",
            "    Inode bitmap: 267 - 267\n",
            "    Inode Table: 721 - 1168\n",
            "    Data Blocks: 8451 - 16384\n",
            "  Free Inodes: 1790 (99%)\n",
            "  Free Blocks: 1936 (23%)\n",
            "  Total Directories: 2\n",
            "  Stored Checksum: 0x0000\n",
            "\n",
            "Group: 2:\n",
            "  Block Group Flags: [\b\b]\n",
            "  Inode Range: 3585 - 5376\n",
            "  Block Range: 16385 - 24576\n",
            "  Layout:\n",
            "    Data bitmap: 261 - 261\n",
            "    Inode bitmap: 268 - 268\n",
            "    Inode Table: 1169 - 1616\n",
            "    Data Blocks: 16385 - 24576\n",
            "  Free Inodes: 1792 (100%)\n",
            "  Free Blocks: 549 (6%)\n",
            "  Total Directories: 0\n",
            "  Stored Checksum: 0x0000\n",
            "\n",
            "Group: 3:\n",
            "  Block Group Flags: [\b\b]\n",
            "  Inode Range: 5377 - 7168\n",
            "  Block Range: 24577 - 32768\n",
            "  Layout:\n",
            "    Super Block: 24577 - 24577\n",
            "    Group Descriptor Table: 24578 - 24578\n",
            "    Group Descriptor Growth Blocks: 24579 - 24834\n",
            "    Data bitmap: 262 - 262\n",
            "    Inode bitmap: 269 - 269\n",
            "    Inode Table: 1617 - 2064\n",
            "    Data Blocks: 24835 - 32768\n",
            "  Free Inodes: 1792 (100%)\n",
            "  Free Blocks: 2425 (29%)\n",
            "  Total Directories: 0\n",
            "  Stored Checksum: 0x0000\n",
            "\n",
            "Group: 4:\n",
            "  Block Group Flags: [\b\b]\n",
            "  Inode Range: 7169 - 8960\n",
            "  Block Range: 32769 - 40960\n",
            "  Layout:\n",
            "    Data bitmap: 263 - 263\n",
            "    Inode bitmap: 270 - 270\n",
            "    Inode Table: 2065 - 2512\n",
            "    Data Blocks: 32769 - 40960\n",
            "  Free Inodes: 1792 (100%)\n",
            "  Free Blocks: 6212 (75%)\n",
            "  Total Directories: 0\n",
            "  Stored Checksum: 0x0000\n",
            "\n",
            "Group: 5:\n",
            "  Block Group Flags: [\b\b]\n",
            "  Inode Range: 8961 - 10752\n",
            "  Block Range: 40961 - 49152\n",
            "  Layout:\n",
            "    Super Block: 40961 - 40961\n",
            "    Group Descriptor Table: 40962 - 40962\n",
            "    Group Descriptor Growth Blocks: 40963 - 41218\n",
            "    Data bitmap: 264 - 264\n",
            "    Inode bitmap: 271 - 271\n",
            "    Inode Table: 2513 - 2960\n",
            "    Data Blocks: 41219 - 49152\n",
            "  Free Inodes: 1792 (100%)\n",
            "  Free Blocks: 7934 (96%)\n",
            "  Total Directories: 0\n",
            "  Stored Checksum: 0x0000\n",
            "\n",
            "Group: 6:\n",
            "  Block Group Flags: [\b\b]\n",
            "  Inode Range: 10753 - 12544\n",
            "  Block Range: 49153 - 50175\n",
            "  Layout:\n",
            "    Data bitmap: 265 - 265\n",
            "    Inode bitmap: 272 - 272\n",
            "    Inode Table: 2961 - 3408\n",
            "    Data Blocks: 49153 - 50175\n",
            "  Free Inodes: 1792 (100%)\n",
            "  Free Blocks: 1023 (99%)\n",
            "  Total Directories: 0\n",
            "  Stored Checksum: 0x0000\n"
          ]
        },
        {
          "output_type": "execute_result",
          "data": {
            "text/plain": []
          },
          "metadata": {},
          "execution_count": 19
        }
      ],
      "source": [
        "%%shell\n",
        "# `fsstat` provides information on a single filesystem partition\n",
        "# Task: obtain information on the Ext4 partition within the disk image\n",
        "fsstat linux_part.dd\n",
        "\n",
        "# Question: what is the size of a single inode entry? What is the size of a block?"
      ]
    },
    {
      "cell_type": "markdown",
      "id": "abd64cba-15f0-419d-bab4-e6d221a4efd8",
      "metadata": {
        "id": "abd64cba-15f0-419d-bab4-e6d221a4efd8"
      },
      "source": [
        "___\n",
        "## Exercise 03: recover deallocated files\n",
        "There are multiple ways by which a file can be deleted. A common technique (especially employed if the underlying device is an HDD) is to just **deallocate** the data blocks associated to file's data, deallocate its inode entry and add a \"deleted\" timestamp to it.\n",
        "\n",
        "Under these circumstances, it easily possible to recover the original file's data, provided that none if its data blocks have been overwritten in the meantime."
      ]
    },
    {
      "cell_type": "code",
      "execution_count": 21,
      "id": "6063ccef-2ea4-436e-90e6-647ce2ffb57e",
      "metadata": {
        "colab": {
          "base_uri": "https://localhost:8080/"
        },
        "id": "6063ccef-2ea4-436e-90e6-647ce2ffb57e",
        "outputId": "ace3c811-c2c2-43af-d5ca-fcbda412761a"
      },
      "outputs": [
        {
          "output_type": "stream",
          "name": "stdout",
          "text": [
            "d/d 11:\tlost+found\n",
            "d/d 12:\tDocuments\n",
            "+ r/r * 13:\tpaper.pdf\n",
            "+ r/r 14:\texample.pdf\n",
            "+ r/r 15:\tsample3.docx\n",
            "d/d 1793:\tMusic\n",
            "+ r/r 16:\tbeepboop.wav\n",
            "+ r/r 17:\tfunky.mp3\n",
            "+ r/r 18:\tgalway.wav\n",
            "d/d 1794:\tPictures\n",
            "+ r/r 19:\tpadova.jpg\n",
            "+ r/r 20:\tferrara.jpg\n",
            "+ r/r 21:\tf1.jpeg\n",
            "+ r/r 22:\ts4a.jpg\n",
            "+ r/r 23:\tmario.png\n",
            "+ r/r 24:\tdog.bmp\n",
            "+ r/r 25:\tcat.bmp\n",
            "V/V 12545:\t$OrphanFiles\n"
          ]
        },
        {
          "output_type": "execute_result",
          "data": {
            "text/plain": []
          },
          "metadata": {},
          "execution_count": 21
        }
      ],
      "source": [
        "%%shell\n",
        "# `fls` is the `ls` equivalent when inspecting a disk image\n",
        "# Task: roam around the filesystem. Then, list all files recursively\n",
        "fls -r linux_part.dd\n",
        "\n",
        "# Question: what are the numbers displayed on the left-hand side of the output?"
      ]
    },
    {
      "cell_type": "markdown",
      "id": "c1a95ce9-6342-4a3e-90fc-bfe5df34932b",
      "metadata": {
        "id": "c1a95ce9-6342-4a3e-90fc-bfe5df34932b"
      },
      "source": [
        "Given an inode number, it is easy to display the associated metadata information by using the command `istat`. To retrieve the associated data blocks, multiple commands can be used, namely `icat`, `blkcat` and `blkls`."
      ]
    },
    {
      "cell_type": "code",
      "execution_count": 23,
      "id": "9bd5e558-1f4f-4343-8e5e-57ba392e0252",
      "metadata": {
        "colab": {
          "base_uri": "https://localhost:8080/"
        },
        "id": "9bd5e558-1f4f-4343-8e5e-57ba392e0252",
        "outputId": "70c17e62-d788-4a86-fc2d-9c3d4cf1622a"
      },
      "outputs": [
        {
          "output_type": "stream",
          "name": "stdout",
          "text": [
            "inode: 13\n",
            "Not Allocated\n",
            "Group: 0\n",
            "Generation Id: 3843439179\n",
            "uid / gid: 1000 / 1000\n",
            "mode: rrw-r--r--\n",
            "Flags: Extents, \n",
            "size: 351048\n",
            "num of links: 0\n",
            "\n",
            "Inode Times:\n",
            "Accessed:\t2025-10-05 16:29:36.199632256 (UTC)\n",
            "File Modified:\t2025-10-05 16:29:36.199939997 (UTC)\n",
            "Inode Modified:\t2025-10-05 16:29:36.199939997 (UTC)\n",
            "File Created:\t2025-10-05 16:29:36.199632256 (UTC)\n",
            "Deleted:\t2025-10-12 08:35:22 (UTC)\n",
            "\n",
            "Direct Blocks:\n",
            "8451 8452 8453 8454 8455 8456 8457 8458 \n",
            "8459 8460 8461 8462 8463 8464 8465 8466 \n",
            "8467 8468 8469 8470 8471 8472 8473 8474 \n",
            "8475 8476 8477 8478 8479 8480 8481 8482 \n",
            "8483 8484 8485 8486 8487 8488 8489 8490 \n",
            "8491 8492 8493 8494 8495 8496 8497 8498 \n",
            "8499 8500 8501 8502 8503 8504 8505 8506 \n",
            "8507 8508 8509 8510 8511 8512 8513 8514 \n",
            "8515 8516 8517 8518 8519 8520 8521 8522 \n",
            "8523 8524 8525 8526 8527 8528 8529 8530 \n",
            "8531 8532 8533 8534 8535 8536 8537 8538 \n",
            "8539 8540 8541 8542 8543 8544 8545 8546 \n",
            "8547 8548 8549 8550 8551 8552 8553 8554 \n",
            "8555 8556 8557 8558 8559 8560 8561 8562 \n",
            "8563 8564 8565 8566 8567 8568 8569 8570 \n",
            "8571 8572 8573 8574 8575 8576 8577 8578 \n",
            "8579 8580 8581 8582 8583 8584 8585 8586 \n",
            "8587 8588 8589 8590 8591 8592 8593 8594 \n",
            "8595 8596 8597 8598 8599 8600 8601 8602 \n",
            "8603 8604 8605 8606 8607 8608 8609 8610 \n",
            "8611 8612 8613 8614 8615 8616 8617 8618 \n",
            "8619 8620 8621 8622 8623 8624 8625 8626 \n",
            "8627 8628 8629 8630 8631 8632 8633 8634 \n",
            "8635 8636 8637 8638 8639 8640 8641 8642 \n",
            "8643 8644 8645 8646 8647 8648 8649 8650 \n",
            "8651 8652 8653 8654 8655 8656 8657 8658 \n",
            "8659 8660 8661 8662 8663 8664 8665 8666 \n",
            "8667 8668 8669 8670 8671 8672 8673 8674 \n",
            "8675 8676 8677 8678 8679 8680 8681 8682 \n",
            "8683 8684 8685 8686 8687 8688 8689 8690 \n",
            "8691 8692 8693 8694 8695 8696 8697 8698 \n",
            "8699 8700 8701 8702 8703 8704 8705 8706 \n",
            "8707 8708 8709 8710 8711 8712 8713 8714 \n",
            "8715 8716 8717 8718 8719 8720 8721 8722 \n",
            "8723 8724 8725 8726 8727 8728 8729 8730 \n",
            "8731 8732 8733 8734 8735 8736 8737 8738 \n",
            "8739 8740 8741 8742 8743 8744 8745 8746 \n",
            "8747 8748 8749 8750 8751 8752 8753 8754 \n",
            "8755 8756 8757 8758 8759 8760 8761 8762 \n",
            "8763 8764 8765 8766 8767 8768 8769 8770 \n",
            "8771 8772 8773 8774 8775 8776 8777 8778 \n",
            "8779 8780 8781 8782 8783 8784 8785 8786 \n",
            "8787 8788 8789 8790 8791 8792 8793 \n"
          ]
        },
        {
          "output_type": "execute_result",
          "data": {
            "text/plain": []
          },
          "metadata": {},
          "execution_count": 23
        }
      ],
      "source": [
        "%%shell\n",
        "# `istat` is used to display the metadata contained within an inode\n",
        "# Task: display the metadata information regarding a regular file and a deleted one. What are the differences?\n",
        "istat linux_part.dd 13\n"
      ]
    },
    {
      "cell_type": "code",
      "execution_count": 25,
      "id": "1ef98609-33e7-472c-a315-64b0e008626b",
      "metadata": {
        "colab": {
          "base_uri": "https://localhost:8080/"
        },
        "id": "1ef98609-33e7-472c-a315-64b0e008626b",
        "outputId": "4066ac91-5f0b-4ad0-f0fb-6aaf6394870f"
      },
      "outputs": [
        {
          "output_type": "stream",
          "name": "stdout",
          "text": [
            "00000000: 2550 4446 2d31 2e35 0a25 e2e3 cfd3 0a0a  %PDF-1.5.%......\n",
            "00000010: 3120 3020 6f62 6a0a 3c3c 2f54 7970 6520  1 0 obj.<</Type \n",
            "00000020: 2f43 6174 616c 6f67 0a2f 5061 6765 7320  /Catalog./Pages \n",
            "00000030: 3220 3020 520a 2f4f 7574 6c69 6e65 7320  2 0 R./Outlines \n",
            "00000040: 3620 3020 523e 3e0a 656e 646f 626a 0a0a  6 0 R>>.endobj..\n",
            "00000050: 3720 3020 6f62 6a0a 3c3c 2f4c 656e 6774  7 0 obj.<</Lengt\n",
            "00000060: 6820 3920 3020 520a 2f46 696c 7465 7220  h 9 0 R./Filter \n",
            "00000070: 2f46 6c61 7465 4465 636f 6465 0a2f 5479  /FlateDecode./Ty\n",
            "00000080: 7065 202f 4f62 6a53 746d 0a2f 4e20 320a  pe /ObjStm./N 2.\n",
            "00000090: 2f46 6972 7374 2039 3e3e 0a73 7472 6561  /First 9>>.strea\n"
          ]
        },
        {
          "output_type": "execute_result",
          "data": {
            "text/plain": []
          },
          "metadata": {},
          "execution_count": 25
        }
      ],
      "source": [
        "%%shell\n",
        "# Task: use either `icat`, `blkcat` or `blkls` to display the binary data (in hex form) from a given inode\n",
        "icat linux_part.dd 13 | xxd | head\n",
        "# Question: when displaying the same file type, pay attention to the beginning of the hex output\n"
      ]
    },
    {
      "cell_type": "code",
      "execution_count": 27,
      "id": "a132662d-27f0-437c-9d14-49fbf0e0f838",
      "metadata": {
        "colab": {
          "base_uri": "https://localhost:8080/"
        },
        "id": "a132662d-27f0-437c-9d14-49fbf0e0f838",
        "outputId": "706fef7b-52e3-40f0-f9e7-f4d363543c79"
      },
      "outputs": [
        {
          "output_type": "execute_result",
          "data": {
            "text/plain": []
          },
          "metadata": {},
          "execution_count": 27
        }
      ],
      "source": [
        "%%shell\n",
        "# Task: use either `icat`, `blkcat` or `blkls` to recover a file from a given inode\n",
        "icat linux_part.dd 13 > retrieved_data/recovered.pdf\n",
        "\n",
        "# Using the side menu \"Files\", you can navigate to /content/retrieved_data and download the recovered file"
      ]
    },
    {
      "cell_type": "markdown",
      "id": "039b7ee8-78e5-4fa9-9832-f941a3be9c0c",
      "metadata": {
        "id": "039b7ee8-78e5-4fa9-9832-f941a3be9c0c"
      },
      "source": [
        "___\n",
        "## Exercise 04: recover orphan files\n",
        "When a directory entry gets corrupted or deleted, an inode might lose its only hard link in the filesystem by which a file was to be accessed. This causes the file to be inaccessible, even if the original inode metadata and data blocks are still properly allocated in the filesystem.\n",
        "\n",
        "Provided by the Linux Kernel Archive package, the `fsck` tool provides a way to check for all inodes looking for a potential mismatch between their metadata \"link count\" and the actual one in the filesystem. Should it find an inode with an actual link count of 0 and a metadata link count greater than 0, such inode is considered \"orphaned\" and gets attached to the `lost+found` directory."
      ]
    },
    {
      "cell_type": "code",
      "execution_count": 28,
      "id": "7673c1a0-18b9-49d0-ad1b-d66ff2f8a181",
      "metadata": {
        "colab": {
          "base_uri": "https://localhost:8080/"
        },
        "id": "7673c1a0-18b9-49d0-ad1b-d66ff2f8a181",
        "outputId": "56eefdc6-1698-4ce2-936f-c35dd14ce86f"
      },
      "outputs": [
        {
          "output_type": "stream",
          "name": "stdout",
          "text": [
            "fsck from util-linux 2.37.2\n"
          ]
        },
        {
          "output_type": "execute_result",
          "data": {
            "text/plain": []
          },
          "metadata": {},
          "execution_count": 28
        }
      ],
      "source": [
        "%%shell\n",
        "# Task: perform `fsck` on the Ext4 partition\n",
        "fsck.ext4 -f linux_part.dd\n"
      ]
    },
    {
      "cell_type": "code",
      "execution_count": null,
      "id": "f042b175-f8bb-4f49-8931-44823275d176",
      "metadata": {
        "id": "f042b175-f8bb-4f49-8931-44823275d176"
      },
      "outputs": [],
      "source": [
        "%%shell\n",
        "# Task: recover the newly attached orphan file (see exercise 03)\n"
      ]
    },
    {
      "cell_type": "markdown",
      "id": "727024b8-0151-4081-ae31-c69280252366",
      "metadata": {
        "id": "727024b8-0151-4081-ae31-c69280252366"
      },
      "source": [
        "___\n",
        "## Exercise 05: perform data carving\n",
        "When the inode content is deallocated and overwritten, the only hope for a successful file recovery is to look in the data blocks (both allocated and deallocated). Each file has a unique heading (and sometime trailing) signature, which makes the recovery process a \"matching game\" against the signatures.\n",
        "| Filetype | Header                              | Trailer                          |\n",
        "|----------|--------------------------------------|----------------------------------|\n",
        "| JPG      | `FF D8`                              | `FF D9`                          |\n",
        "| PNG      | `89 50 4E 47 0D 0A 1A 0A`             | `49 45 4E 44 AE 42 60 82`        |\n",
        "| PDF      | `25 50 44 46`                        | multiple                         |\n",
        "| DOC      | `D0 CF 11 E0 A1 B1 1A E1`             | multiple                         |\n",
        "\n",
        "Data carving is a process that can be performed on single files when embedded data is present (e.g. DOC, PDF...) or on whole disk images.\n",
        "\n",
        "### Task A: recover an embedded image from a DOC/PDF file\n",
        "Recover the file `my_dog.docx` using the techniques seen in Exercise 03, and try to open it using Microsoft Word or any other `.docx` opener.\n",
        "\n",
        "When a **container file** (such as DOC/DOCX, PDF) gets corrupted, it may still be possible to retrieve the embedded files. Knowing that `my_dog.docx` contains a single JPG image, perform data carving on it and extract the image."
      ]
    },
    {
      "cell_type": "code",
      "execution_count": null,
      "id": "1fd1dfb7-1d09-4037-aa31-32c9438a799b",
      "metadata": {
        "id": "1fd1dfb7-1d09-4037-aa31-32c9438a799b"
      },
      "outputs": [],
      "source": [
        "%%shell\n",
        "# Tip 1: use `grep` with a regular expression to isolate the JPG hexadecimal data\n",
        "# Tip 2: `xxd` can be used to dump the hexadecimal data of a given file, but also do the opposite process\n",
        "xxd ???\n"
      ]
    },
    {
      "cell_type": "markdown",
      "id": "99be475a-f232-4087-914d-4ffd1d68f867",
      "metadata": {
        "id": "99be475a-f232-4087-914d-4ffd1d68f867"
      },
      "source": [
        "It is also possible to use dedicated tools that analyze binary data searching for embedded/hidden files. `binwalk` allows both to list and extract the embedded data from a given file. Use it to recover the image from `my_dog.docx`, and try it on other container files."
      ]
    },
    {
      "cell_type": "code",
      "execution_count": null,
      "id": "c2973980-acc8-4404-b33e-0f75f33b85f0",
      "metadata": {
        "id": "c2973980-acc8-4404-b33e-0f75f33b85f0"
      },
      "outputs": [],
      "source": [
        "%%shell\n",
        "# Task: use `binwalk` to extract embedded files\n",
        "binwalk ???\n"
      ]
    },
    {
      "cell_type": "markdown",
      "id": "a9501da1-8a1e-45be-bc84-371385229fd9",
      "metadata": {
        "id": "a9501da1-8a1e-45be-bc84-371385229fd9"
      },
      "source": [
        "### Task B: recover all files from a disk image\n",
        "Dealing with an entire disk image, it is *unconvenient* to `xxd | grep` for each filetype. Instead, resorting to dedicated tools is a much more efficient option, especially when the amount and diversity of files is considerable.\n",
        "\n",
        "For this experience, `scalpel` will be used to perform a complete data carving on our disk image.\n",
        "\n",
        "**Attention**: `scalpel` requires a configuration file as one of its argument. In the Linux system provided, it is located under `/etc/scalpel.conf`. Please check your specific OS layout should it be any different."
      ]
    },
    {
      "cell_type": "code",
      "execution_count": null,
      "id": "8fde8714-8cf2-4c01-ba52-11263010e25d",
      "metadata": {
        "id": "8fde8714-8cf2-4c01-ba52-11263010e25d"
      },
      "outputs": [],
      "source": [
        "%%shell\n",
        "# Task: use `scalpel` to perform data carving on the disk image\n",
        "scalpel -c /etc/scalpel.conf ???\n"
      ]
    },
    {
      "cell_type": "markdown",
      "id": "dc4c1fa8-3d91-4e8a-b836-c28b7af155bd",
      "metadata": {
        "id": "dc4c1fa8-3d91-4e8a-b836-c28b7af155bd"
      },
      "source": [
        "___\n",
        "## Challenge: CTF on a FAT32 disk image\n",
        "Find the flag within the `disko-3.dd` disk image.\n",
        "\n",
        "The flag's format is the following: `picoCTF{...}`\n",
        "\n",
        "*(courtesy of picoCTF)*"
      ]
    }
  ],
  "metadata": {
    "kernelspec": {
      "display_name": "Python 3 (ipykernel)",
      "language": "python",
      "name": "python3"
    },
    "language_info": {
      "codemirror_mode": {
        "name": "ipython",
        "version": 3
      },
      "file_extension": ".py",
      "mimetype": "text/x-python",
      "name": "python",
      "nbconvert_exporter": "python",
      "pygments_lexer": "ipython3",
      "version": "3.14.0"
    },
    "colab": {
      "provenance": []
    }
  },
  "nbformat": 4,
  "nbformat_minor": 5
}