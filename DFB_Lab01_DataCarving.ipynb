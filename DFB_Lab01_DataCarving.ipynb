{
  "cells": [
    {
      "cell_type": "code",
      "execution_count": 15,
      "id": "e919b1a9-8857-4033-afe8-bd2b50ec4ad4",
      "metadata": {
        "colab": {
          "base_uri": "https://localhost:8080/",
          "height": 408
        },
        "id": "e919b1a9-8857-4033-afe8-bd2b50ec4ad4",
        "outputId": "489b7c8a-7530-4e33-f805-a90f2277a836"
      },
      "outputs": [
        {
          "output_type": "stream",
          "name": "stdout",
          "text": [
            "fatal: destination path '/tmp/DFB_lab_init' already exists and is not an empty directory.\n",
            "fatal: destination path '/opt/datacarving-lab' already exists and is not an empty directory.\n",
            "ln: failed to create symbolic link '/dev/loop0': File exists\n"
          ]
        },
        {
          "output_type": "error",
          "ename": "CalledProcessError",
          "evalue": "Command '# SETUP OF GOOGLE COLAB ENVIRONMENT\ngit clone -b colab --single-branch https://github.com/lucadomene/DFB_Lab01_DataCarving /tmp/DFB_lab_init\nsh /tmp/DFB_lab_init/initialize.sh\n' died with <Signals.SIGINT: 2>.",
          "traceback": [
            "\u001b[0;31m---------------------------------------------------------------------------\u001b[0m",
            "\u001b[0;31mCalledProcessError\u001b[0m                        Traceback (most recent call last)",
            "\u001b[0;32m/tmp/ipython-input-1864228061.py\u001b[0m in \u001b[0;36m<cell line: 0>\u001b[0;34m()\u001b[0m\n\u001b[0;32m----> 1\u001b[0;31m \u001b[0mget_ipython\u001b[0m\u001b[0;34m(\u001b[0m\u001b[0;34m)\u001b[0m\u001b[0;34m.\u001b[0m\u001b[0mrun_cell_magic\u001b[0m\u001b[0;34m(\u001b[0m\u001b[0;34m'shell'\u001b[0m\u001b[0;34m,\u001b[0m \u001b[0;34m''\u001b[0m\u001b[0;34m,\u001b[0m \u001b[0;34m'# SETUP OF GOOGLE COLAB ENVIRONMENT\\ngit clone -b colab --single-branch https://github.com/lucadomene/DFB_Lab01_DataCarving /tmp/DFB_lab_init\\nsh /tmp/DFB_lab_init/initialize.sh\\n'\u001b[0m\u001b[0;34m)\u001b[0m\u001b[0;34m\u001b[0m\u001b[0;34m\u001b[0m\u001b[0m\n\u001b[0m",
            "\u001b[0;32m/usr/local/lib/python3.12/dist-packages/google/colab/_shell.py\u001b[0m in \u001b[0;36mrun_cell_magic\u001b[0;34m(self, magic_name, line, cell)\u001b[0m\n\u001b[1;32m    274\u001b[0m     \u001b[0;32mif\u001b[0m \u001b[0mline\u001b[0m \u001b[0;32mand\u001b[0m \u001b[0;32mnot\u001b[0m \u001b[0mcell\u001b[0m\u001b[0;34m:\u001b[0m\u001b[0;34m\u001b[0m\u001b[0;34m\u001b[0m\u001b[0m\n\u001b[1;32m    275\u001b[0m       \u001b[0mcell\u001b[0m \u001b[0;34m=\u001b[0m \u001b[0;34m' '\u001b[0m\u001b[0;34m\u001b[0m\u001b[0;34m\u001b[0m\u001b[0m\n\u001b[0;32m--> 276\u001b[0;31m     \u001b[0;32mreturn\u001b[0m \u001b[0msuper\u001b[0m\u001b[0;34m(\u001b[0m\u001b[0;34m)\u001b[0m\u001b[0;34m.\u001b[0m\u001b[0mrun_cell_magic\u001b[0m\u001b[0;34m(\u001b[0m\u001b[0mmagic_name\u001b[0m\u001b[0;34m,\u001b[0m \u001b[0mline\u001b[0m\u001b[0;34m,\u001b[0m \u001b[0mcell\u001b[0m\u001b[0;34m)\u001b[0m\u001b[0;34m\u001b[0m\u001b[0;34m\u001b[0m\u001b[0m\n\u001b[0m\u001b[1;32m    277\u001b[0m \u001b[0;34m\u001b[0m\u001b[0m\n\u001b[1;32m    278\u001b[0m \u001b[0;34m\u001b[0m\u001b[0m\n",
            "\u001b[0;32m/usr/local/lib/python3.12/dist-packages/IPython/core/interactiveshell.py\u001b[0m in \u001b[0;36mrun_cell_magic\u001b[0;34m(self, magic_name, line, cell)\u001b[0m\n\u001b[1;32m   2471\u001b[0m             \u001b[0;32mwith\u001b[0m \u001b[0mself\u001b[0m\u001b[0;34m.\u001b[0m\u001b[0mbuiltin_trap\u001b[0m\u001b[0;34m:\u001b[0m\u001b[0;34m\u001b[0m\u001b[0;34m\u001b[0m\u001b[0m\n\u001b[1;32m   2472\u001b[0m                 \u001b[0margs\u001b[0m \u001b[0;34m=\u001b[0m \u001b[0;34m(\u001b[0m\u001b[0mmagic_arg_s\u001b[0m\u001b[0;34m,\u001b[0m \u001b[0mcell\u001b[0m\u001b[0;34m)\u001b[0m\u001b[0;34m\u001b[0m\u001b[0;34m\u001b[0m\u001b[0m\n\u001b[0;32m-> 2473\u001b[0;31m                 \u001b[0mresult\u001b[0m \u001b[0;34m=\u001b[0m \u001b[0mfn\u001b[0m\u001b[0;34m(\u001b[0m\u001b[0;34m*\u001b[0m\u001b[0margs\u001b[0m\u001b[0;34m,\u001b[0m \u001b[0;34m**\u001b[0m\u001b[0mkwargs\u001b[0m\u001b[0;34m)\u001b[0m\u001b[0;34m\u001b[0m\u001b[0;34m\u001b[0m\u001b[0m\n\u001b[0m\u001b[1;32m   2474\u001b[0m             \u001b[0;32mreturn\u001b[0m \u001b[0mresult\u001b[0m\u001b[0;34m\u001b[0m\u001b[0;34m\u001b[0m\u001b[0m\n\u001b[1;32m   2475\u001b[0m \u001b[0;34m\u001b[0m\u001b[0m\n",
            "\u001b[0;32m/usr/local/lib/python3.12/dist-packages/google/colab/_system_commands.py\u001b[0m in \u001b[0;36m_shell_cell_magic\u001b[0;34m(args, cmd)\u001b[0m\n\u001b[1;32m    110\u001b[0m   \u001b[0mresult\u001b[0m \u001b[0;34m=\u001b[0m \u001b[0m_run_command\u001b[0m\u001b[0;34m(\u001b[0m\u001b[0mcmd\u001b[0m\u001b[0;34m,\u001b[0m \u001b[0mclear_streamed_output\u001b[0m\u001b[0;34m=\u001b[0m\u001b[0;32mFalse\u001b[0m\u001b[0;34m)\u001b[0m\u001b[0;34m\u001b[0m\u001b[0;34m\u001b[0m\u001b[0m\n\u001b[1;32m    111\u001b[0m   \u001b[0;32mif\u001b[0m \u001b[0;32mnot\u001b[0m \u001b[0mparsed_args\u001b[0m\u001b[0;34m.\u001b[0m\u001b[0mignore_errors\u001b[0m\u001b[0;34m:\u001b[0m\u001b[0;34m\u001b[0m\u001b[0;34m\u001b[0m\u001b[0m\n\u001b[0;32m--> 112\u001b[0;31m     \u001b[0mresult\u001b[0m\u001b[0;34m.\u001b[0m\u001b[0mcheck_returncode\u001b[0m\u001b[0;34m(\u001b[0m\u001b[0;34m)\u001b[0m\u001b[0;34m\u001b[0m\u001b[0;34m\u001b[0m\u001b[0m\n\u001b[0m\u001b[1;32m    113\u001b[0m   \u001b[0;32mreturn\u001b[0m \u001b[0mresult\u001b[0m\u001b[0;34m\u001b[0m\u001b[0;34m\u001b[0m\u001b[0m\n\u001b[1;32m    114\u001b[0m \u001b[0;34m\u001b[0m\u001b[0m\n",
            "\u001b[0;32m/usr/local/lib/python3.12/dist-packages/google/colab/_system_commands.py\u001b[0m in \u001b[0;36mcheck_returncode\u001b[0;34m(self)\u001b[0m\n\u001b[1;32m    135\u001b[0m   \u001b[0;32mdef\u001b[0m \u001b[0mcheck_returncode\u001b[0m\u001b[0;34m(\u001b[0m\u001b[0mself\u001b[0m\u001b[0;34m)\u001b[0m\u001b[0;34m:\u001b[0m\u001b[0;34m\u001b[0m\u001b[0;34m\u001b[0m\u001b[0m\n\u001b[1;32m    136\u001b[0m     \u001b[0;32mif\u001b[0m \u001b[0mself\u001b[0m\u001b[0;34m.\u001b[0m\u001b[0mreturncode\u001b[0m\u001b[0;34m:\u001b[0m\u001b[0;34m\u001b[0m\u001b[0;34m\u001b[0m\u001b[0m\n\u001b[0;32m--> 137\u001b[0;31m       raise subprocess.CalledProcessError(\n\u001b[0m\u001b[1;32m    138\u001b[0m           \u001b[0mreturncode\u001b[0m\u001b[0;34m=\u001b[0m\u001b[0mself\u001b[0m\u001b[0;34m.\u001b[0m\u001b[0mreturncode\u001b[0m\u001b[0;34m,\u001b[0m \u001b[0mcmd\u001b[0m\u001b[0;34m=\u001b[0m\u001b[0mself\u001b[0m\u001b[0;34m.\u001b[0m\u001b[0margs\u001b[0m\u001b[0;34m,\u001b[0m \u001b[0moutput\u001b[0m\u001b[0;34m=\u001b[0m\u001b[0mself\u001b[0m\u001b[0;34m.\u001b[0m\u001b[0moutput\u001b[0m\u001b[0;34m\u001b[0m\u001b[0;34m\u001b[0m\u001b[0m\n\u001b[1;32m    139\u001b[0m       )\n",
            "\u001b[0;31mCalledProcessError\u001b[0m: Command '# SETUP OF GOOGLE COLAB ENVIRONMENT\ngit clone -b colab --single-branch https://github.com/lucadomene/DFB_Lab01_DataCarving /tmp/DFB_lab_init\nsh /tmp/DFB_lab_init/initialize.sh\n' died with <Signals.SIGINT: 2>."
          ]
        }
      ],
      "source": [
        "%%shell\n",
        "# SETUP OF GOOGLE COLAB ENVIRONMENT\n",
        "git clone -b colab --single-branch https://github.com/lucadomene/DFB_Lab01_DataCarving /tmp/DFB_lab_init\n",
        "sh /tmp/DFB_lab_init/initialize.sh"
      ]
    },
    {
      "cell_type": "markdown",
      "id": "5fd26209-b741-47b6-89bf-32b1399d21a2",
      "metadata": {
        "id": "5fd26209-b741-47b6-89bf-32b1399d21a2"
      },
      "source": [
        "# Laboratory on Data Carving\n",
        "_Digital Forensics and Biometrics_ A.A. 2025/2026\n",
        "\n",
        "Lecturer: prof. **Simone Milani** (simone.milani@dei.unipd.it)\n",
        "\n",
        "Teaching Assistants: **Mattia Tamiazzo** (mattia.tamiazzo@studenti.unipd.it); **Luca Domeneghetti** (luca.domeneghetti@studenti.unipd.it)\n",
        "\n",
        "### Prerequisites\n",
        "This laboratory requires no prior knowledge concerning digital forensics. Although, basic knowledge of the Unix enviromnent might benefit the understanding of the deletion/recovery process.\n",
        "\n",
        "In general, the following aspects are expected to be known and will not be covered in detail:\n",
        "- Unix paradigm of files, directories and devices\n",
        "- Basic Shell usage\n",
        "- `Ext4` filesystem layout: inodes, block sectors, journaling\n",
        "- Calculations with hexadecimal byte offsets\n",
        "\n",
        "### Contents\n",
        "The goal of this laboratory is to provide the basic theoretical and practical notions on data carving and file recovery. The details related to file system's structure and I/O mechanisms – despite being crucial for a potentially successful data recovery – are out of scope and will be provided as a further reading for the student.\n",
        "\n",
        "At the end of the laboratory the student will have acquired the following skills:\n",
        "- Perform a forensic disk copy using Unix imaging tools (`dcfldd`)\n",
        "- Analyze the partition layout of a disk image\n",
        "- List the files within a filesystem\n",
        "- **Retrieve deallocated/deleted files**\n",
        "- **Perform data carving** (manually and using dedicated tools)\n",
        "___\n",
        "## Theoretical aspects of filesystem forensics\n",
        "Before diving into the practice, a brief theoretical detour is essential to understand how a recovery procedure is to be carried out.\n",
        "\n",
        "Having in mind how a specific filesystem works helps to understand how deletion processes work, how files are allocated logically and physically, and most importantly where to look for when searching for deallocated data.\n",
        "\n",
        "### The Ext filesystem\n",
        "This laboratory will be focused on Ext filesystems as it is widely implemented and tested under Linux environment. Its simplicity makes it the suitable starting point for a comprehensive data forensic approach.\n",
        "\n",
        "#### Inodes\n",
        "An **inode** (index nodes) is a data structure used by Unix filesystems (including the Ext family) to represent metadata on files. Each inode stores the following information:\n",
        "\n",
        "- File type (e.g., regular file, directory, symlink)\n",
        "- Permissions and ownership (UID, GID)\n",
        "- Timestamps (created, modified, accessed)\n",
        "- File size\n",
        "- Link count\n",
        "- Pointers to data blocks\n",
        "\n",
        "Inodes do **not** store the file name or its path — these are maintained in directory entries to map symbolic names to inode numbers. This separation is critical in forensic analysis and data carving where inodes may remain allocated even if directory structures are damaged or missing (this is the case for _orphan files_).\n",
        "\n",
        "Within an Ext partition, inodes are located in inode tables. Each inode is marked as allocated or deallocated by using inode bitmaps.\n",
        "\n",
        "[![](https://www.virtualcuriosities.com/wp-content/uploads/2025/03/linux-diagram-hard-links-inodes-20250326.webp)](https://www.virtualcuriosities.com/articles/4507/how-hard-links-and-inodes-work-on-linux)\n",
        "\n",
        "#### Directories\n",
        "In Ext filesystems, directories are special files (file code `0x2`) that store a list of **directory entries**, each mapping a filename to an **inode number**. These entries are stored sequentially in data blocks and are arranged as such:\n",
        "\n",
        "| Offset | Size                | Name                   | Description                                               |\n",
        "|--------|---------------------|------------------------|-----------------------------------------------------------|\n",
        "| 0x0    | __le32              | inode                  | Number of the inode that this directory entry points to.  |\n",
        "| 0x4    | __le16              | rec_len                | Length of this directory entry.                           |\n",
        "| 0x6    | __u8                | name_len               | Length of the file name.                                  |\n",
        "| 0x7    | __u8                | file_type              | File type code                                            |\n",
        "| 0x8    | char\\[255]          | name                   | File name.                                                |\n",
        "\n",
        "This structure allows multiple filenames (hard links) to point to the same inode.\n",
        "\n",
        "In Ext2 and Ext3, directory entries are stored in a linear list, which can become inefficient as directories grow. Ext4 introduced **HTree indexing**, a hashed B-tree-like structure, to improve performance in large directories.\n",
        "\n",
        "### NTFS and FAT\n",
        "\n",
        "Aside from Ext filesystems, NTFS and FAT filesystems are frequently employed in Windows environments or external data storage (e.g. USBs). Although they share some similarities, understanding the differences is key for a successful file recovery.\n",
        "\n",
        "- **Metadata Handling**:  \n",
        "  Ext uses **inodes** to store file metadata separately from directory entries. In contrast, **NTFS** stores metadata in the **Master File Table (MFT)**, with each file represented as a record. **FAT**, being simpler, uses a **File Allocation Table** and directory entries that contain both metadata and file location info.\n",
        "\n",
        "- **File Deletion Behavior**:  \n",
        "  In **Ext**, when a file is deleted, its directory entry and inode may persist until overwritten, which aids data recovery. **NTFS** marks MFT entries as deleted but often retains significant metadata. **FAT** simply marks the first character of the filename as deleted and updates the FAT chain.\n",
        "\n",
        "- **Journaling**:  \n",
        "  **Ext3/4** and **NTFS** are journaling filesystems, enhancing data integrity but sometimes complicating recovery due to overwrites. **FAT** lacks journaling, making it more vulnerable to corruption but also leaving raw data more directly accessible for carving.\n",
        "\n",
        "- **File Name and Path Storage**:  \n",
        "  Ext separates names (in directory entries) from inodes, while NTFS stores file name attributes directly within MFT records. FAT embeds the file name directly in the directory entry."
      ]
    },
    {
      "cell_type": "markdown",
      "id": "fbf4ac68-701a-4c4b-81b0-cf30c6f45e0f",
      "metadata": {
        "id": "fbf4ac68-701a-4c4b-81b0-cf30c6f45e0f"
      },
      "source": [
        "___\n",
        "## Exercise 01: perform a forensic disk imaging\n",
        "When in possess of a digital forensic device (e.g. an hard disk, USB drive, internal SSD...), the first crucial step is to perform a copy of it as to avoid any accidental modification of the original.\n",
        "\n",
        "This process is called **disk imaging** and abides the following principles:\n",
        "1. the copy is an exact duplicate of the original device\n",
        "2. the original device remains unaltered by the process\n",
        "\n",
        "To avoid that unwanted (or intentional!) modifications are introduced during subsequent procedures, it is important to keep track of the **hash signature** of the original device. This step has to be performed during the first acquisition of the digital media.\n",
        "\n",
        "The target device is located at `/dev/loop0` in the virtual Unix machine. It is **important** to select the root device `loop0` and not any of its partitions (e.g. `loop0p1`) in order to perform a full disk image.\n",
        "\n",
        "```\n",
        "Usage: dcfldd [OPTION]...\n",
        "Enhanced version of dd for forensics and security.\n",
        "\n",
        "  bs=BYTES            force ibs=BYTES and obs=BYTES (default=32768)\n",
        "  count=BLOCKS        copy only BLOCKS input blocks\n",
        "  if=FILE             read from FILE instead of stdin\n",
        "  of=FILE             write to FILE instead of stdout\n",
        "  seek=BLOCKS         skip BLOCKS obs-sized blocks at start of output\n",
        "  skip=BLOCKS         skip BLOCKS ibs-sized blocks at start of input\n",
        "  pattern=HEX         use the specified binary pattern as input\n",
        "  textpattern=TEXT    use repeating TEXT as input\n",
        "  errlog=FILE         send error messages to FILE as well as stderr\n",
        "  hash=NAME           do hash calculation (md5, sha1, sha256, sha384 or sha512)\n",
        "  hashlog=FILE        send hash output to FILE instead of stderr\n",
        "  hashwindow=BYTES    perform a hash on every BYTES amount of data\n",
        "  status=[on|off]          display a continual status message on stderr\n",
        "  statusinterval=N         update the status message every N blocks\n",
        "  sizeprobe=[if|of|BYTES]  what to use as value to percentage indicator\n",
        "  vf=FILE                  verify that FILE matches the specified input\n",
        "  verifylog=FILE           send verify results to FILE instead of stderr\n",
        "```"
      ]
    },
    {
      "cell_type": "code",
      "execution_count": null,
      "id": "b9c49ac2-9773-4406-8728-810c6ff10602",
      "metadata": {
        "colab": {
          "base_uri": "https://localhost:8080/"
        },
        "id": "b9c49ac2-9773-4406-8728-810c6ff10602",
        "outputId": "e32b289d-c51c-413e-df98-2c132780ec5e"
      },
      "outputs": [
        {
          "output_type": "stream",
          "name": "stdout",
          "text": [
            "1536 blocks (48Mb) written.\n",
            "1600+0 records in\n",
            "1600+0 records out\n"
          ]
        },
        {
          "output_type": "execute_result",
          "data": {
            "text/plain": []
          },
          "metadata": {},
          "execution_count": 2
        }
      ],
      "source": [
        "%%shell\n",
        "# Task: perform a disk image of device /dev/loop0 and save it as whatever you prefer.\n",
        "# How can I make `dcfldd` also compute the MD5 and SHA256 hash of the original disk device?\n",
        "\n",
        "dcfldd if=/dev/loop0 of=image.dd hash=md5,sha256 hashlog=hash.txt"
      ]
    },
    {
      "cell_type": "code",
      "execution_count": null,
      "id": "d5321aa1-9c48-4749-9910-3abe67a77c72",
      "metadata": {
        "colab": {
          "base_uri": "https://localhost:8080/"
        },
        "id": "d5321aa1-9c48-4749-9910-3abe67a77c72",
        "outputId": "914ce2d4-ac60-4c69-8f6f-0ea76f8f83a5"
      },
      "outputs": [
        {
          "output_type": "stream",
          "name": "stdout",
          "text": [
            "b657578d04bf0934e853116492cbb44b  image.dd\n",
            "5a6c90218a26f6cd0413355266fb49ed8ae9e0fcdd1bcf4761e1d81dde4de713  image.dd\n",
            "\n",
            "Total (md5): b657578d04bf0934e853116492cbb44b\n",
            "\n",
            "Total (sha256): 5a6c90218a26f6cd0413355266fb49ed8ae9e0fcdd1bcf4761e1d81dde4de713\n"
          ]
        },
        {
          "output_type": "execute_result",
          "data": {
            "text/plain": []
          },
          "metadata": {},
          "execution_count": 3
        }
      ],
      "source": [
        "%%shell\n",
        "# Task: compare the MD5 and SHA256 hash digest of the original device (as provided by `dcfldd`) to the one of the disk image\n",
        "md5sum image.dd\n",
        "sha256sum image.dd\n",
        "\n",
        "cat hash.txt"
      ]
    },
    {
      "cell_type": "markdown",
      "id": "d7669c4d-e925-4132-a580-4b5d6c1e948b",
      "metadata": {
        "id": "d7669c4d-e925-4132-a580-4b5d6c1e948b"
      },
      "source": [
        "___\n",
        "## Exercise 02: obtain filesystem info of the disk image\n",
        "Each filesystem differs in the way data is arranged physically on the device. Even similar filesystems (e.g. Ext3 and Ext4) or the same filesystem may prefer an arrangement to another when considering the total space available on the device, the flags that were toggled during installation or the characteristics of the device itself (SSD, HDD...).\n",
        "\n",
        "For convenience, it is better to extract the partition from the complete image using `dcfldd` with `if={your_image}.dd` (hint: look at options `bs`, `seek` and `count`).\n",
        "\n",
        "TheSleuthKit (abbreviated as TSK) provides two commands to do so: `mmls` and `fsstat`\n",
        "\n",
        "```\n",
        "usage: mmls [-i imgtype] [-o imgoffset] image [images]\n",
        "\n",
        "usage: fsstat [-f fstype] [-i imgtype] [-o imgoffset] image\n",
        "```"
      ]
    },
    {
      "cell_type": "code",
      "execution_count": null,
      "id": "4f4b68ad-9cd1-470c-9d64-d0d65ca3a7c4",
      "metadata": {
        "id": "4f4b68ad-9cd1-470c-9d64-d0d65ca3a7c4",
        "outputId": "85c7700b-23e2-4a81-8907-d442bc71b792",
        "colab": {
          "base_uri": "https://localhost:8080/"
        }
      },
      "outputs": [
        {
          "output_type": "stream",
          "name": "stdout",
          "text": [
            "DOS Partition Table\n",
            "Offset Sector: 0\n",
            "Units are in 512-byte sectors\n",
            "\n",
            "      Slot      Start        End          Length       Description\n",
            "000:  Meta      0000000000   0000000000   0000000001   Primary Table (#0)\n",
            "001:  -------   0000000000   0000002047   0000002048   Unallocated\n",
            "002:  000:000   0000002048   0000102399   0000100352   Linux (0x83)\n"
          ]
        },
        {
          "output_type": "execute_result",
          "data": {
            "text/plain": []
          },
          "metadata": {},
          "execution_count": 4
        }
      ],
      "source": [
        "%%shell\n",
        "# `mmls` provides information on the overall layout scheme of the disk image\n",
        "# Task: list the partition table\n",
        "mmls image.dd\n"
      ]
    },
    {
      "cell_type": "code",
      "source": [
        "%%shell\n",
        "# Task: extract the Linux partition\n",
        "dcfldd if=image.dd of=linux_part.dd skip=2048 count=100352 bs=512\n"
      ],
      "metadata": {
        "id": "l9T7HiPBTxdn",
        "outputId": "2045de0c-c0f2-4654-a0f0-595cdbd2496e",
        "colab": {
          "base_uri": "https://localhost:8080/"
        }
      },
      "id": "l9T7HiPBTxdn",
      "execution_count": null,
      "outputs": [
        {
          "output_type": "stream",
          "name": "stdout",
          "text": [
            "\r256 blocks (0Mb) written.\r512 blocks (0Mb) written.\r768 blocks (0Mb) written.\r1024 blocks (0Mb) written.\r1280 blocks (0Mb) written.\r1536 blocks (0Mb) written.\r1792 blocks (0Mb) written.\r2048 blocks (1Mb) written.\r2304 blocks (1Mb) written.\r2560 blocks (1Mb) written.\r2816 blocks (1Mb) written.\r3072 blocks (1Mb) written.\r3328 blocks (1Mb) written.\r3584 blocks (1Mb) written.\r3840 blocks (1Mb) written.\r4096 blocks (2Mb) written.\r4352 blocks (2Mb) written.\r4608 blocks (2Mb) written.\r4864 blocks (2Mb) written.\r5120 blocks (2Mb) written.\r5376 blocks (2Mb) written.\r5632 blocks (2Mb) written.\r5888 blocks (2Mb) written.\r6144 blocks (3Mb) written.\r6400 blocks (3Mb) written.\r6656 blocks (3Mb) written.\r6912 blocks (3Mb) written.\r7168 blocks (3Mb) written.\r7424 blocks (3Mb) written.\r7680 blocks (3Mb) written.\r7936 blocks (3Mb) written.\r8192 blocks (4Mb) written.\r8448 blocks (4Mb) written.\r8704 blocks (4Mb) written.\r8960 blocks (4Mb) written.\r9216 blocks (4Mb) written.\r9472 blocks (4Mb) written.\r9728 blocks (4Mb) written.\r9984 blocks (4Mb) written.\r10240 blocks (5Mb) written.\r10496 blocks (5Mb) written.\r10752 blocks (5Mb) written.\r11008 blocks (5Mb) written.\r11264 blocks (5Mb) written.\r11520 blocks (5Mb) written.\r11776 blocks (5Mb) written.\r12032 blocks (5Mb) written.\r12288 blocks (6Mb) written.\r12544 blocks (6Mb) written.\r12800 blocks (6Mb) written.\r13056 blocks (6Mb) written.\r13312 blocks (6Mb) written.\r13568 blocks (6Mb) written.\r13824 blocks (6Mb) written.\r14080 blocks (6Mb) written.\r14336 blocks (7Mb) written.\r14592 blocks (7Mb) written.\r14848 blocks (7Mb) written.\r15104 blocks (7Mb) written.\r15360 blocks (7Mb) written.\r15616 blocks (7Mb) written.\r15872 blocks (7Mb) written.\r16128 blocks (7Mb) written.\r16384 blocks (8Mb) written.\r16640 blocks (8Mb) written.\r16896 blocks (8Mb) written.\r17152 blocks (8Mb) written.\r17408 blocks (8Mb) written.\r17664 blocks (8Mb) written.\r17920 blocks (8Mb) written.\r18176 blocks (8Mb) written.\r18432 blocks (9Mb) written.\r18688 blocks (9Mb) written.\r18944 blocks (9Mb) written.\r19200 blocks (9Mb) written.\r19456 blocks (9Mb) written.\r19712 blocks (9Mb) written.\r19968 blocks (9Mb) written.\r20224 blocks (9Mb) written.\r20480 blocks (10Mb) written.\r20736 blocks (10Mb) written.\r20992 blocks (10Mb) written.\r21248 blocks (10Mb) written.\r21504 blocks (10Mb) written.\r21760 blocks (10Mb) written.\r22016 blocks (10Mb) written.\r22272 blocks (10Mb) written.\r22528 blocks (11Mb) written.\r22784 blocks (11Mb) written.\r23040 blocks (11Mb) written.\r23296 blocks (11Mb) written.\r23552 blocks (11Mb) written.\r23808 blocks (11Mb) written.\r24064 blocks (11Mb) written.\r24320 blocks (11Mb) written.\r24576 blocks (12Mb) written.\r24832 blocks (12Mb) written.\r25088 blocks (12Mb) written.\r25344 blocks (12Mb) written.\r25600 blocks (12Mb) written.\r25856 blocks (12Mb) written.\r26112 blocks (12Mb) written.\r26368 blocks (12Mb) written.\r26624 blocks (13Mb) written.\r26880 blocks (13Mb) written.\r27136 blocks (13Mb) written.\r27392 blocks (13Mb) written.\r27648 blocks (13Mb) written.\r27904 blocks (13Mb) written.\r28160 blocks (13Mb) written.\r28416 blocks (13Mb) written.\r28672 blocks (14Mb) written.\r28928 blocks (14Mb) written.\r29184 blocks (14Mb) written.\r29440 blocks (14Mb) written.\r29696 blocks (14Mb) written.\r29952 blocks (14Mb) written.\r30208 blocks (14Mb) written.\r30464 blocks (14Mb) written.\r30720 blocks (15Mb) written.\r30976 blocks (15Mb) written.\r31232 blocks (15Mb) written.\r31488 blocks (15Mb) written.\r31744 blocks (15Mb) written.\r32000 blocks (15Mb) written.\r32256 blocks (15Mb) written.\r32512 blocks (15Mb) written.\r32768 blocks (16Mb) written.\r33024 blocks (16Mb) written.\r33280 blocks (16Mb) written.\r33536 blocks (16Mb) written.\r33792 blocks (16Mb) written.\r34048 blocks (16Mb) written.\r34304 blocks (16Mb) written.\r34560 blocks (16Mb) written.\r34816 blocks (17Mb) written.\r35072 blocks (17Mb) written.\r35328 blocks (17Mb) written.\r35584 blocks (17Mb) written.\r35840 blocks (17Mb) written.\r36096 blocks (17Mb) written.\r36352 blocks (17Mb) written.\r36608 blocks (17Mb) written.\r36864 blocks (18Mb) written.\r37120 blocks (18Mb) written.\r37376 blocks (18Mb) written.\r37632 blocks (18Mb) written.\r37888 blocks (18Mb) written.\r38144 blocks (18Mb) written.\r38400 blocks (18Mb) written.\r38656 blocks (18Mb) written.\r38912 blocks (19Mb) written.\r39168 blocks (19Mb) written.\r39424 blocks (19Mb) written.\r39680 blocks (19Mb) written.\r39936 blocks (19Mb) written.\r40192 blocks (19Mb) written.\r40448 blocks (19Mb) written.\r40704 blocks (19Mb) written.\r40960 blocks (20Mb) written.\r41216 blocks (20Mb) written.\r41472 blocks (20Mb) written.\r41728 blocks (20Mb) written.\r41984 blocks (20Mb) written.\r42240 blocks (20Mb) written.\r42496 blocks (20Mb) written.\r42752 blocks (20Mb) written.\r43008 blocks (21Mb) written.\r43264 blocks (21Mb) written.\r43520 blocks (21Mb) written.\r43776 blocks (21Mb) written.\r44032 blocks (21Mb) written.\r44288 blocks (21Mb) written.\r44544 blocks (21Mb) written.\r44800 blocks (21Mb) written.\r45056 blocks (22Mb) written.\r45312 blocks (22Mb) written.\r45568 blocks (22Mb) written.\r45824 blocks (22Mb) written.\r46080 blocks (22Mb) written.\r46336 blocks (22Mb) written.\r46592 blocks (22Mb) written.\r46848 blocks (22Mb) written.\r47104 blocks (23Mb) written.\r47360 blocks (23Mb) written.\r47616 blocks (23Mb) written.\r47872 blocks (23Mb) written.\r48128 blocks (23Mb) written.\r48384 blocks (23Mb) written.\r48640 blocks (23Mb) written.\r48896 blocks (23Mb) written.\r49152 blocks (24Mb) written.\r49408 blocks (24Mb) written.\r49664 blocks (24Mb) written.\r49920 blocks (24Mb) written.\r50176 blocks (24Mb) written.\r50432 blocks (24Mb) written.\r50688 blocks (24Mb) written.\r50944 blocks (24Mb) written.\r51200 blocks (25Mb) written.\r51456 blocks (25Mb) written.\r51712 blocks (25Mb) written.\r51968 blocks (25Mb) written.\r52224 blocks (25Mb) written.\r52480 blocks (25Mb) written.\r52736 blocks (25Mb) written.\r52992 blocks (25Mb) written.\r53248 blocks (26Mb) written.\r53504 blocks (26Mb) written.\r53760 blocks (26Mb) written.\r54016 blocks (26Mb) written.\r54272 blocks (26Mb) written.\r54528 blocks (26Mb) written.\r54784 blocks (26Mb) written.\r55040 blocks (26Mb) written.\r55296 blocks (27Mb) written.\r55552 blocks (27Mb) written.\r55808 blocks (27Mb) written.\r56064 blocks (27Mb) written.\r56320 blocks (27Mb) written.\r56576 blocks (27Mb) written.\r56832 blocks (27Mb) written.\r57088 blocks (27Mb) written.\r57344 blocks (28Mb) written.\r57600 blocks (28Mb) written.\r57856 blocks (28Mb) written.\r58112 blocks (28Mb) written.\r58368 blocks (28Mb) written.\r58624 blocks (28Mb) written.\r58880 blocks (28Mb) written.\r59136 blocks (28Mb) written.\r59392 blocks (29Mb) written.\r59648 blocks (29Mb) written.\r59904 blocks (29Mb) written.\r60160 blocks (29Mb) written.\r60416 blocks (29Mb) written.\r60672 blocks (29Mb) written.\r60928 blocks (29Mb) written.\r61184 blocks (29Mb) written.\r61440 blocks (30Mb) written.\r61696 blocks (30Mb) written.\r61952 blocks (30Mb) written.\r62208 blocks (30Mb) written.\r62464 blocks (30Mb) written.\r62720 blocks (30Mb) written.\r62976 blocks (30Mb) written.\r63232 blocks (30Mb) written.\r63488 blocks (31Mb) written.\r63744 blocks (31Mb) written.\r64000 blocks (31Mb) written.\r64256 blocks (31Mb) written.\r64512 blocks (31Mb) written.\r64768 blocks (31Mb) written.\r65024 blocks (31Mb) written.\r65280 blocks (31Mb) written.\r65536 blocks (32Mb) written.\r65792 blocks (32Mb) written.\r66048 blocks (32Mb) written.\r66304 blocks (32Mb) written.\r66560 blocks (32Mb) written.\r66816 blocks (32Mb) written.\r67072 blocks (32Mb) written.\r67328 blocks (32Mb) written.\r67584 blocks (33Mb) written.\r67840 blocks (33Mb) written.\r68096 blocks (33Mb) written.\r68352 blocks (33Mb) written.\r68608 blocks (33Mb) written.\r68864 blocks (33Mb) written.\r69120 blocks (33Mb) written.\r69376 blocks (33Mb) written.\r69632 blocks (34Mb) written.\r69888 blocks (34Mb) written.\r70144 blocks (34Mb) written.\r70400 blocks (34Mb) written.\r70656 blocks (34Mb) written.\r70912 blocks (34Mb) written.\r71168 blocks (34Mb) written.\r71424 blocks (34Mb) written.\r71680 blocks (35Mb) written.\r71936 blocks (35Mb) written.\r72192 blocks (35Mb) written.\r72448 blocks (35Mb) written.\r72704 blocks (35Mb) written.\r72960 blocks (35Mb) written.\r73216 blocks (35Mb) written.\r73472 blocks (35Mb) written.\r73728 blocks (36Mb) written.\r73984 blocks (36Mb) written.\r74240 blocks (36Mb) written.\r74496 blocks (36Mb) written.\r74752 blocks (36Mb) written.\r75008 blocks (36Mb) written.\r75264 blocks (36Mb) written.\r75520 blocks (36Mb) written.\r75776 blocks (37Mb) written.\r76032 blocks (37Mb) written.\r76288 blocks (37Mb) written.\r76544 blocks (37Mb) written.\r76800 blocks (37Mb) written.\r77056 blocks (37Mb) written.\r77312 blocks (37Mb) written.\r77568 blocks (37Mb) written.\r77824 blocks (38Mb) written.\r78080 blocks (38Mb) written.\r78336 blocks (38Mb) written.\r78592 blocks (38Mb) written.\r78848 blocks (38Mb) written.\r79104 blocks (38Mb) written.\r79360 blocks (38Mb) written.\r79616 blocks (38Mb) written.\r79872 blocks (39Mb) written.\r80128 blocks (39Mb) written.\r80384 blocks (39Mb) written.\r80640 blocks (39Mb) written.\r80896 blocks (39Mb) written.\r81152 blocks (39Mb) written.\r81408 blocks (39Mb) written.\r81664 blocks (39Mb) written.\r81920 blocks (40Mb) written.\r82176 blocks (40Mb) written.\r82432 blocks (40Mb) written.\r82688 blocks (40Mb) written.\r82944 blocks (40Mb) written.\r83200 blocks (40Mb) written.\r83456 blocks (40Mb) written.\r83712 blocks (40Mb) written.\r83968 blocks (41Mb) written.\r84224 blocks (41Mb) written.\r84480 blocks (41Mb) written.\r84736 blocks (41Mb) written.\r84992 blocks (41Mb) written.\r85248 blocks (41Mb) written.\r85504 blocks (41Mb) written.\r85760 blocks (41Mb) written.\r86016 blocks (42Mb) written.\r86272 blocks (42Mb) written.\r86528 blocks (42Mb) written.\r86784 blocks (42Mb) written.\r87040 blocks (42Mb) written.\r87296 blocks (42Mb) written.\r87552 blocks (42Mb) written.\r87808 blocks (42Mb) written.\r88064 blocks (43Mb) written.\r88320 blocks (43Mb) written.\r88576 blocks (43Mb) written.\r88832 blocks (43Mb) written.\r89088 blocks (43Mb) written.\r89344 blocks (43Mb) written.\r89600 blocks (43Mb) written.\r89856 blocks (43Mb) written.\r90112 blocks (44Mb) written.\r90368 blocks (44Mb) written.\r90624 blocks (44Mb) written.\r90880 blocks (44Mb) written.\r91136 blocks (44Mb) written.\r91392 blocks (44Mb) written.\r91648 blocks (44Mb) written.\r91904 blocks (44Mb) written.\r92160 blocks (45Mb) written.\r92416 blocks (45Mb) written.\r92672 blocks (45Mb) written.\r92928 blocks (45Mb) written.\r93184 blocks (45Mb) written.\r93440 blocks (45Mb) written.\r93696 blocks (45Mb) written.\r93952 blocks (45Mb) written.\r94208 blocks (46Mb) written.\r94464 blocks (46Mb) written.\r94720 blocks (46Mb) written.\r94976 blocks (46Mb) written.\r95232 blocks (46Mb) written.\r95488 blocks (46Mb) written.\r95744 blocks (46Mb) written.\r96000 blocks (46Mb) written.\r96256 blocks (47Mb) written.\r96512 blocks (47Mb) written.\r96768 blocks (47Mb) written.\r97024 blocks (47Mb) written.\r97280 blocks (47Mb) written.\r97536 blocks (47Mb) written.\r97792 blocks (47Mb) written.\r98048 blocks (47Mb) written.\r98304 blocks (48Mb) written.\r98560 blocks (48Mb) written.\r98816 blocks (48Mb) written.\r99072 blocks (48Mb) written.\r99328 blocks (48Mb) written.\r99584 blocks (48Mb) written.\r99840 blocks (48Mb) written.\r100096 blocks (48Mb) written.\r100352 blocks (49Mb) written.\n",
            "100352+0 records in\n",
            "100352+0 records out\n"
          ]
        },
        {
          "output_type": "execute_result",
          "data": {
            "text/plain": []
          },
          "metadata": {},
          "execution_count": 5
        }
      ]
    },
    {
      "cell_type": "code",
      "execution_count": null,
      "id": "74b13a59-ac34-4f4e-ab5a-0e08db0684fb",
      "metadata": {
        "colab": {
          "base_uri": "https://localhost:8080/"
        },
        "id": "74b13a59-ac34-4f4e-ab5a-0e08db0684fb",
        "outputId": "97fe1226-1217-4e42-dff5-f90205737249"
      },
      "outputs": [
        {
          "output_type": "stream",
          "name": "stdout",
          "text": [
            "FILE SYSTEM INFORMATION\n",
            "--------------------------------------------\n",
            "File System Type: Ext4\n",
            "Volume Name: \n",
            "Volume ID: a0ae383d23c34387b84470e486e6c1ec\n",
            "\n",
            "Last Written at: 2025-10-16 12:01:29 (UTC)\n",
            "Last Checked at: 2025-10-16 11:58:28 (UTC)\n",
            "\n",
            "Last Mounted at: 2025-10-16 11:58:47 (UTC)\n",
            "Unmounted properly\n",
            "Last mounted on: /home/ldomeneghetti/Documents/DFB_Lab01_DataCarving/mount\n",
            "\n",
            "Source OS: Linux\n",
            "Dynamic Structure\n",
            "Compat Features: Journal, Ext Attributes, Resize Inode, Dir Index\n",
            "InCompat Features: Filetype, Extents, 64bit, Flexible Block Groups, \n",
            "Read Only Compat Features: Sparse Super, Large File, Huge File, Extra Inode Size\n",
            "\n",
            "Journal ID: 00\n",
            "Journal Inode: 8\n",
            "\n",
            "METADATA INFORMATION\n",
            "--------------------------------------------\n",
            "Inode Range: 1 - 12545\n",
            "Root Directory: 2\n",
            "Free Inodes: 12514\n",
            "Inode Size: 256\n",
            "\n",
            "CONTENT INFORMATION\n",
            "--------------------------------------------\n",
            "Block Groups Per Flex Group: 16\n",
            "Block Range: 0 - 50175\n",
            "Block Size: 1024\n",
            "Reserved Blocks Before Block Groups: 1\n",
            "Free Blocks: 32278\n",
            "\n",
            "BLOCK GROUP INFORMATION\n",
            "--------------------------------------------\n",
            "Number of Block Groups: 7\n",
            "Inodes per group: 1792\n",
            "Blocks per group: 8192\n",
            "\n",
            "Group: 0:\n",
            "  Block Group Flags: [INODE_ZEROED, \b\b]\n",
            "  Inode Range: 1 - 1792\n",
            "  Block Range: 1 - 8192\n",
            "  Layout:\n",
            "    Super Block: 1 - 1\n",
            "    Group Descriptor Table: 2 - 2\n",
            "    Group Descriptor Growth Blocks: 3 - 258\n",
            "    Data bitmap: 259 - 259\n",
            "    Inode bitmap: 266 - 266\n",
            "    Inode Table: 273 - 720\n",
            "    Uninit Data Bitmaps: 266 - 274\n",
            "    Uninit Inode Bitmaps: 273 - 281\n",
            "    Uninit Inode Table: 3409 - 7440\n",
            "    Data Blocks: 7459 - 8192\n",
            "  Free Inodes: 1764 (98%)\n",
            "  Free Blocks: 4764 (58%)\n",
            "  Total Directories: 6\n",
            "  Stored Checksum: 0x0000\n",
            "\n",
            "Group: 1:\n",
            "  Block Group Flags: [INODE_ZEROED, \b\b]\n",
            "  Inode Range: 1793 - 3584\n",
            "  Block Range: 8193 - 16384\n",
            "  Layout:\n",
            "    Super Block: 8193 - 8193\n",
            "    Group Descriptor Table: 8194 - 8194\n",
            "    Group Descriptor Growth Blocks: 8195 - 8450\n",
            "    Data bitmap: 260 - 260\n",
            "    Inode bitmap: 267 - 267\n",
            "    Inode Table: 721 - 1168\n",
            "    Data Blocks: 8451 - 16384\n",
            "  Free Inodes: 1790 (99%)\n",
            "  Free Blocks: 3295 (40%)\n",
            "  Total Directories: 2\n",
            "  Stored Checksum: 0x0000\n",
            "\n",
            "Group: 2:\n",
            "  Block Group Flags: [INODE_ZEROED, \b\b]\n",
            "  Inode Range: 3585 - 5376\n",
            "  Block Range: 16385 - 24576\n",
            "  Layout:\n",
            "    Data bitmap: 261 - 261\n",
            "    Inode bitmap: 268 - 268\n",
            "    Inode Table: 1169 - 1616\n",
            "    Data Blocks: 16385 - 24576\n",
            "  Free Inodes: 1792 (100%)\n",
            "  Free Blocks: 438 (5%)\n",
            "  Total Directories: 0\n",
            "  Stored Checksum: 0x0000\n",
            "\n",
            "Group: 3:\n",
            "  Block Group Flags: [INODE_ZEROED, \b\b]\n",
            "  Inode Range: 5377 - 7168\n",
            "  Block Range: 24577 - 32768\n",
            "  Layout:\n",
            "    Super Block: 24577 - 24577\n",
            "    Group Descriptor Table: 24578 - 24578\n",
            "    Group Descriptor Growth Blocks: 24579 - 24834\n",
            "    Data bitmap: 262 - 262\n",
            "    Inode bitmap: 269 - 269\n",
            "    Inode Table: 1617 - 2064\n",
            "    Data Blocks: 24835 - 32768\n",
            "  Free Inodes: 1792 (100%)\n",
            "  Free Blocks: 6632 (80%)\n",
            "  Total Directories: 0\n",
            "  Stored Checksum: 0x0000\n",
            "\n",
            "Group: 4:\n",
            "  Block Group Flags: [INODE_ZEROED, \b\b]\n",
            "  Inode Range: 7169 - 8960\n",
            "  Block Range: 32769 - 40960\n",
            "  Layout:\n",
            "    Data bitmap: 263 - 263\n",
            "    Inode bitmap: 270 - 270\n",
            "    Inode Table: 2065 - 2512\n",
            "    Data Blocks: 32769 - 40960\n",
            "  Free Inodes: 1792 (100%)\n",
            "  Free Blocks: 8192 (100%)\n",
            "  Total Directories: 0\n",
            "  Stored Checksum: 0x0000\n",
            "\n",
            "Group: 5:\n",
            "  Block Group Flags: [INODE_ZEROED, \b\b]\n",
            "  Inode Range: 8961 - 10752\n",
            "  Block Range: 40961 - 49152\n",
            "  Layout:\n",
            "    Super Block: 40961 - 40961\n",
            "    Group Descriptor Table: 40962 - 40962\n",
            "    Group Descriptor Growth Blocks: 40963 - 41218\n",
            "    Data bitmap: 264 - 264\n",
            "    Inode bitmap: 271 - 271\n",
            "    Inode Table: 2513 - 2960\n",
            "    Data Blocks: 41219 - 49152\n",
            "  Free Inodes: 1792 (100%)\n",
            "  Free Blocks: 7934 (96%)\n",
            "  Total Directories: 0\n",
            "  Stored Checksum: 0x0000\n",
            "\n",
            "Group: 6:\n",
            "  Block Group Flags: [INODE_ZEROED, \b\b]\n",
            "  Inode Range: 10753 - 12544\n",
            "  Block Range: 49153 - 50175\n",
            "  Layout:\n",
            "    Data bitmap: 265 - 265\n",
            "    Inode bitmap: 272 - 272\n",
            "    Inode Table: 2961 - 3408\n",
            "    Data Blocks: 49153 - 50175\n",
            "  Free Inodes: 1792 (100%)\n",
            "  Free Blocks: 1023 (99%)\n",
            "  Total Directories: 0\n",
            "  Stored Checksum: 0x0000\n"
          ]
        },
        {
          "output_type": "execute_result",
          "data": {
            "text/plain": []
          },
          "metadata": {},
          "execution_count": 6
        }
      ],
      "source": [
        "%%shell\n",
        "# `fsstat` provides information on a single filesystem partition\n",
        "# Task: obtain information on the Ext4 partition within the disk image\n",
        "fsstat linux_part.dd\n",
        "\n",
        "# Question: what is the size of a single inode entry? What is the size of a block?"
      ]
    },
    {
      "cell_type": "markdown",
      "id": "abd64cba-15f0-419d-bab4-e6d221a4efd8",
      "metadata": {
        "id": "abd64cba-15f0-419d-bab4-e6d221a4efd8"
      },
      "source": [
        "___\n",
        "## Exercise 03: recover deallocated files\n",
        "There are multiple ways by which a file can be deleted. A common technique (especially employed if the underlying device is an HDD) is to just **deallocate** the data blocks associated to file's data, deallocate its inode entry and add a \"deleted\" timestamp to it.\n",
        "\n",
        "Under these circumstances, it easily possible to recover the original file's data, provided that none if its data blocks have been overwritten in the meantime.\n",
        "\n",
        "```\n",
        "usage: fls [-f fstype] [-i imgtype] [-o imgoffset] image [images] [inode]\n",
        "```"
      ]
    },
    {
      "cell_type": "code",
      "execution_count": null,
      "id": "6063ccef-2ea4-436e-90e6-647ce2ffb57e",
      "metadata": {
        "colab": {
          "base_uri": "https://localhost:8080/"
        },
        "id": "6063ccef-2ea4-436e-90e6-647ce2ffb57e",
        "outputId": "8aa2a419-b104-4a74-99d4-066818a99f18"
      },
      "outputs": [
        {
          "output_type": "stream",
          "name": "stdout",
          "text": [
            "d/d 11:\tlost+found\n",
            "d/d 12:\tDocuments\n",
            "+ r/r 15:\tsample3.docx\n",
            "+ r/r * 16:\tmy_dog.docx\n",
            "d/d 1793:\tMusic\n",
            "+ r/r * 17:\tbeepboop.wav\n",
            "+ r/r 18:\tfunky.mp3\n",
            "d/d 1794:\tPictures\n",
            "+ r/r * 20:\tcat.bmp\n",
            "+ r/r 21:\tdog.bmp\n",
            "+ r/r 22:\tf1.jpeg\n",
            "+ r/r 23:\tferrara.jpg\n",
            "d/d 27:\t.Trash-1000\n",
            "+ d/d 28:\tinfo\n",
            "++ r/r 30:\ts4a.jpg.trashinfo\n",
            "++ r/r 31:\tmario.png.trashinfo\n",
            "+ d/d 29:\tfiles\n",
            "++ r/r 26:\ts4a.jpg\n",
            "++ r/r 24:\tmario.png\n",
            "V/V 12545:\t$OrphanFiles\n"
          ]
        },
        {
          "output_type": "execute_result",
          "data": {
            "text/plain": []
          },
          "metadata": {},
          "execution_count": 8
        }
      ],
      "source": [
        "%%shell\n",
        "# `fls` is the `ls` equivalent when inspecting a disk image\n",
        "fls -r linux_part.dd\n",
        "\n",
        "# Question: what are the numbers displayed on the left-hand side of the output?"
      ]
    },
    {
      "cell_type": "code",
      "source": [
        "# Task: roam around the filesystem. Then, try to list all files recursively\n"
      ],
      "metadata": {
        "id": "kLmzxykXMA-_"
      },
      "id": "kLmzxykXMA-_",
      "execution_count": null,
      "outputs": []
    },
    {
      "cell_type": "markdown",
      "id": "c1a95ce9-6342-4a3e-90fc-bfe5df34932b",
      "metadata": {
        "id": "c1a95ce9-6342-4a3e-90fc-bfe5df34932b"
      },
      "source": [
        "Given an inode number, it is easy to display the associated metadata information by using the command `istat`. To retrieve the associated data blocks, multiple commands can be used, namely `icat`, `blkcat` and `blkls`.\n",
        "\n",
        "```\n",
        "usage: istat [-f fstype] [-i imgtype] [-o imgoffset] image inum\n",
        "\n",
        "usage: icat [-f fstype] [-i imgtype] [-o imgoffset] image [images] inum[-typ[-id]]\n",
        "\n",
        "usage: blkcat [-f fstype] [-i imgtype] [-o imgoffset] [-P pooltype] [-k password] image [images] unit_addr [num]\n",
        "\n",
        "usage: blkls [-f fstype] [-i imgtype] [-o imgoffset] image [images] [start-stop]\n",
        "```"
      ]
    },
    {
      "cell_type": "code",
      "execution_count": null,
      "id": "9bd5e558-1f4f-4343-8e5e-57ba392e0252",
      "metadata": {
        "colab": {
          "base_uri": "https://localhost:8080/"
        },
        "id": "9bd5e558-1f4f-4343-8e5e-57ba392e0252",
        "outputId": "10838b36-0814-46e5-c01e-8e1c1129a3b7"
      },
      "outputs": [
        {
          "output_type": "stream",
          "name": "stdout",
          "text": [
            "inode: 21\n",
            "Allocated\n",
            "Group: 0\n",
            "Generation Id: 1414688395\n",
            "uid / gid: 1000 / 1000\n",
            "mode: rrw-r--r--\n",
            "Flags: Extents, \n",
            "size: 750414\n",
            "num of links: 1\n",
            "\n",
            "Inode Times:\n",
            "Accessed:\t2025-10-16 11:58:52.388128696 (UTC)\n",
            "File Modified:\t2025-10-16 11:58:28.307791351 (UTC)\n",
            "Inode Modified:\t2025-10-16 11:58:28.307791351 (UTC)\n",
            "File Created:\t2025-10-16 11:58:28.306791337 (UTC)\n",
            "\n",
            "Direct Blocks:\n",
            "21358 21359 21360 21361 21362 21363 21364 21365 \n",
            "21366 21367 21368 21369 21370 21371 21372 21373 \n",
            "21374 21375 21376 21377 21378 21379 21380 21381 \n",
            "21382 21383 21384 21385 21386 21387 21388 21389 \n",
            "21390 21391 21392 21393 21394 21395 21396 21397 \n",
            "21398 21399 21400 21401 21402 21403 21404 21405 \n",
            "21406 21407 21408 21409 21410 21411 21412 21413 \n",
            "21414 21415 21416 21417 21418 21419 21420 21421 \n",
            "21422 21423 21424 21425 21426 21427 21428 21429 \n",
            "21430 21431 21432 21433 21434 21435 21436 21437 \n",
            "21438 21439 21440 21441 21442 21443 21444 21445 \n",
            "21446 21447 21448 21449 21450 21451 21452 21453 \n",
            "21454 21455 21456 21457 21458 21459 21460 21461 \n",
            "21462 21463 21464 21465 21466 21467 21468 21469 \n",
            "21470 21471 21472 21473 21474 21475 21476 21477 \n",
            "21478 21479 21480 21481 21482 21483 21484 21485 \n",
            "21486 21487 21488 21489 21490 21491 21492 21493 \n",
            "21494 21495 21496 21497 21498 21499 21500 21501 \n",
            "21502 21503 21504 21505 21506 21507 21508 21509 \n",
            "21510 21511 21512 21513 21514 21515 21516 21517 \n",
            "21518 21519 21520 21521 21522 21523 21524 21525 \n",
            "21526 21527 21528 21529 21530 21531 21532 21533 \n",
            "21534 21535 21536 21537 21538 21539 21540 21541 \n",
            "21542 21543 21544 21545 21546 21547 21548 21549 \n",
            "21550 21551 21552 21553 21554 21555 21556 21557 \n",
            "21558 21559 21560 21561 21562 21563 21564 21565 \n",
            "21566 21567 21568 21569 21570 21571 21572 21573 \n",
            "21574 21575 21576 21577 21578 21579 21580 21581 \n",
            "21582 21583 21584 21585 21586 21587 21588 21589 \n",
            "21590 21591 21592 21593 21594 21595 21596 21597 \n",
            "21598 21599 21600 21601 21602 21603 21604 21605 \n",
            "21606 21607 21608 21609 21610 21611 21612 21613 \n",
            "21614 21615 21616 21617 21618 21619 21620 21621 \n",
            "21622 21623 21624 21625 21626 21627 21628 21629 \n",
            "21630 21631 21632 21633 21634 21635 21636 21637 \n",
            "21638 21639 21640 21641 21642 21643 21644 21645 \n",
            "21646 21647 21648 21649 21650 21651 21652 21653 \n",
            "21654 21655 21656 21657 21658 21659 21660 21661 \n",
            "21662 21663 21664 21665 21666 21667 21668 21669 \n",
            "21670 21671 21672 21673 21674 21675 21676 21677 \n",
            "21678 21679 21680 21681 21682 21683 21684 21685 \n",
            "21686 21687 21688 21689 21690 21691 21692 21693 \n",
            "21694 21695 21696 21697 21698 21699 21700 21701 \n",
            "21702 21703 21704 21705 21706 21707 21708 21709 \n",
            "21710 21711 21712 21713 21714 21715 21716 21717 \n",
            "21718 21719 21720 21721 21722 21723 21724 21725 \n",
            "21726 21727 21728 21729 21730 21731 21732 21733 \n",
            "21734 21735 21736 21737 21738 21739 21740 21741 \n",
            "21742 21743 21744 21745 21746 21747 21748 21749 \n",
            "21750 21751 21752 21753 21754 21755 21756 21757 \n",
            "21758 21759 21760 21761 21762 21763 21764 21765 \n",
            "21766 21767 21768 21769 21770 21771 21772 21773 \n",
            "21774 21775 21776 21777 21778 21779 21780 21781 \n",
            "21782 21783 21784 21785 21786 21787 21788 21789 \n",
            "21790 21791 21792 21793 21794 21795 21796 21797 \n",
            "21798 21799 21800 21801 21802 21803 21804 21805 \n",
            "21806 21807 21808 21809 21810 21811 21812 21813 \n",
            "21814 21815 21816 21817 21818 21819 21820 21821 \n",
            "21822 21823 21824 21825 21826 21827 21828 21829 \n",
            "21830 21831 21832 21833 21834 21835 21836 21837 \n",
            "21838 21839 21840 21841 21842 21843 21844 21845 \n",
            "21846 21847 21848 21849 21850 21851 21852 21853 \n",
            "21854 21855 21856 21857 21858 21859 21860 21861 \n",
            "21862 21863 21864 21865 21866 21867 21868 21869 \n",
            "21870 21871 21872 21873 21874 21875 21876 21877 \n",
            "21878 21879 21880 21881 21882 21883 21884 21885 \n",
            "21886 21887 21888 21889 21890 21891 21892 21893 \n",
            "21894 21895 21896 21897 21898 21899 21900 21901 \n",
            "21902 21903 21904 21905 21906 21907 21908 21909 \n",
            "21910 21911 21912 21913 21914 21915 21916 21917 \n",
            "21918 21919 21920 21921 21922 21923 21924 21925 \n",
            "21926 21927 21928 21929 21930 21931 21932 21933 \n",
            "21934 21935 21936 21937 21938 21939 21940 21941 \n",
            "21942 21943 21944 21945 21946 21947 21948 21949 \n",
            "21950 21951 21952 21953 21954 21955 21956 21957 \n",
            "21958 21959 21960 21961 21962 21963 21964 21965 \n",
            "21966 21967 21968 21969 21970 21971 21972 21973 \n",
            "21974 21975 21976 21977 21978 21979 21980 21981 \n",
            "21982 21983 21984 21985 21986 21987 21988 21989 \n",
            "21990 21991 21992 21993 21994 21995 21996 21997 \n",
            "21998 21999 22000 22001 22002 22003 22004 22005 \n",
            "22006 22007 22008 22009 22010 22011 22012 22013 \n",
            "22014 22015 22016 22017 22018 22019 22020 22021 \n",
            "22022 22023 22024 22025 22026 22027 22028 22029 \n",
            "22030 22031 22032 22033 22034 22035 22036 22037 \n",
            "22038 22039 22040 22041 22042 22043 22044 22045 \n",
            "22046 22047 22048 22049 22050 22051 22052 22053 \n",
            "22054 22055 22056 22057 22058 22059 22060 22061 \n",
            "22062 22063 22064 22065 22066 22067 22068 22069 \n",
            "22070 22071 22072 22073 22074 22075 22076 22077 \n",
            "22078 22079 22080 22081 22082 22083 22084 22085 \n",
            "22086 22087 22088 22089 22090 \n"
          ]
        },
        {
          "output_type": "execute_result",
          "data": {
            "text/plain": []
          },
          "metadata": {},
          "execution_count": 9
        }
      ],
      "source": [
        "%%shell\n",
        "# `istat` is used to display the metadata contained within an inode\n",
        "# Task: display the metadata information regarding a regular file and a deleted one. What are the differences?\n",
        "istat linux_part.dd 21"
      ]
    },
    {
      "cell_type": "markdown",
      "source": [
        "```\n",
        "Usage:\n",
        "       xxd [options] [infile [outfile]]\n",
        "    or\n",
        "       xxd -r [-s [-]offset] [-c cols] [-ps] [infile [outfile]]\n",
        "Options:\n",
        "    -a          toggle autoskip: A single '*' replaces nul-lines. Default off.\n",
        "    -b          binary digit dump (incompatible with -ps). Default hex.\n",
        "    -C          capitalize variable names in C include file style (-i).\n",
        "    -c cols     format <cols> octets per line. Default 16 (-i: 12, -ps: 30).\n",
        "    -E          show characters in EBCDIC. Default ASCII.\n",
        "    -e          little-endian dump (incompatible with -ps,-i,-r).\n",
        "    -g bytes    number of octets per group in normal output. Default 2 (-e: 4).\n",
        "    -h          print this summary.\n",
        "    -i          output in C include file style.\n",
        "    -l len      stop after <len> octets.\n",
        "    -n name     set the variable name used in C include output (-i).\n",
        "    -o off      add <off> to the displayed file position.\n",
        "    -ps         output in postscript plain hexdump style.\n",
        "    -r          reverse operation: convert (or patch) hexdump into binary.\n",
        "    -r -s off   revert with <off> added to file positions found in hexdump.\n",
        "    -d          show offset in decimal instead of hex.\n",
        "    -s [+][-]seek  start at <seek> bytes abs. (or +: rel.) infile offset.\n",
        "    -u          use upper case hex letters.\n",
        "    -R when     colorize the output; <when> can be 'always', 'auto' or 'never'. Default: 'auto'.\n",
        "    -v          show version: \"xxd 2025-08-24 by Juergen Weigert et al.\".\n",
        "```"
      ],
      "metadata": {
        "id": "HPpO_a8bN-Yg"
      },
      "id": "HPpO_a8bN-Yg"
    },
    {
      "cell_type": "code",
      "execution_count": null,
      "id": "1ef98609-33e7-472c-a315-64b0e008626b",
      "metadata": {
        "colab": {
          "base_uri": "https://localhost:8080/"
        },
        "id": "1ef98609-33e7-472c-a315-64b0e008626b",
        "outputId": "1330869a-78eb-478a-bd34-230f090124ff"
      },
      "outputs": [
        {
          "output_type": "stream",
          "name": "stdout",
          "text": [
            "00000000: ffd8 ffe0 0010 4a46 4946 0001 0201 012c  ......JFIF.....,\n",
            "00000010: 012c 0000 ffed 0d18 5068 6f74 6f73 686f  .,......Photosho\n",
            "00000020: 7020 332e 3000 3842 494d 0404 0000 0000  p 3.0.8BIM......\n",
            "00000030: 001f 1c02 0000 0200 021c 0237 0008 3230  ...........7..20\n",
            "00000040: 3131 3130 3034 1c02 3c00 0630 3634 3534  111004..<..06454\n",
            "00000050: 3900 3842 494d 03ed 0000 0000 0010 012c  9.8BIM.........,\n",
            "00000060: 0000 0001 0002 012c 0000 0001 0002 3842  .......,......8B\n",
            "00000070: 494d 040d 0000 0000 0004 0000 0078 3842  IM...........x8B\n",
            "00000080: 494d 03f3 0000 0000 0008 0000 0000 0000  IM..............\n",
            "00000090: 0000 3842 494d 040a 0000 0000 0001 0000  ..8BIM..........\n"
          ]
        },
        {
          "output_type": "execute_result",
          "data": {
            "text/plain": []
          },
          "metadata": {},
          "execution_count": 10
        }
      ],
      "source": [
        "%%shell\n",
        "icat linux_part.dd 23 | xxd | head"
      ]
    },
    {
      "cell_type": "code",
      "source": [
        "%%shell\n",
        "# Task: display the content of another file with a different file type. What can you notice at the beginning?\n"
      ],
      "metadata": {
        "id": "6bvqWO1EOXfi"
      },
      "id": "6bvqWO1EOXfi",
      "execution_count": null,
      "outputs": []
    },
    {
      "cell_type": "code",
      "execution_count": null,
      "id": "a132662d-27f0-437c-9d14-49fbf0e0f838",
      "metadata": {
        "colab": {
          "base_uri": "https://localhost:8080/"
        },
        "id": "a132662d-27f0-437c-9d14-49fbf0e0f838",
        "outputId": "cddabc96-67a5-4b98-e0ce-93d190322250"
      },
      "outputs": [
        {
          "output_type": "execute_result",
          "data": {
            "text/plain": []
          },
          "metadata": {},
          "execution_count": 11
        }
      ],
      "source": [
        "%%shell\n",
        "icat linux_part.dd 20 > retrieved_data/cat.bmp\n",
        "# Using the side menu \"Files\", you can navigate to /content/retrieved_data and download the recovered file"
      ]
    },
    {
      "cell_type": "code",
      "source": [
        "%%shell\n",
        "# Task: use either `icat`, `blkcat` or `blkls` to recover a file from a given inode\n"
      ],
      "metadata": {
        "id": "t_dVw0fdNwND"
      },
      "id": "t_dVw0fdNwND",
      "execution_count": null,
      "outputs": []
    },
    {
      "cell_type": "markdown",
      "id": "039b7ee8-78e5-4fa9-9832-f941a3be9c0c",
      "metadata": {
        "id": "039b7ee8-78e5-4fa9-9832-f941a3be9c0c"
      },
      "source": [
        "___\n",
        "## Exercise 04: recover orphan files\n",
        "When a directory entry gets corrupted or deleted, an inode might lose its only hard link in the filesystem by which a file was to be accessed. This causes the file to be inaccessible, even if the original inode metadata and data blocks are still properly allocated in the filesystem.\n",
        "\n",
        "Provided by the Linux Kernel Archive package, the `fsck` tool provides a way to check for all inodes looking for a potential mismatch between their metadata \"link count\" and the actual one in the filesystem. Should it find an inode with an actual link count of 0 and a metadata link count greater than 0, such inode is considered \"orphaned\" and gets attached to the `lost+found` directory."
      ]
    },
    {
      "cell_type": "code",
      "execution_count": null,
      "id": "7673c1a0-18b9-49d0-ad1b-d66ff2f8a181",
      "metadata": {
        "id": "7673c1a0-18b9-49d0-ad1b-d66ff2f8a181"
      },
      "outputs": [],
      "source": [
        "%%shell\n",
        "# Task: perform `fsck` on the Ext4 partition, USING THE TERMINAL\n",
        "fsck.ext4 -f linux_part.dd\n"
      ]
    },
    {
      "cell_type": "code",
      "execution_count": null,
      "id": "f042b175-f8bb-4f49-8931-44823275d176",
      "metadata": {
        "id": "f042b175-f8bb-4f49-8931-44823275d176"
      },
      "outputs": [],
      "source": [
        "%%shell\n",
        "# Task: recover the newly attached orphan file (see exercise 03)\n"
      ]
    },
    {
      "cell_type": "markdown",
      "id": "727024b8-0151-4081-ae31-c69280252366",
      "metadata": {
        "id": "727024b8-0151-4081-ae31-c69280252366"
      },
      "source": [
        "___\n",
        "## Exercise 05: perform data carving\n",
        "When the inode content is deallocated and overwritten, the only hope for a successful file recovery is to look in the data blocks (both allocated and deallocated). Each file has a unique heading (and sometime trailing) signature, which makes the recovery process a \"matching game\" against the signatures.\n",
        "| Filetype | Header                              | Trailer                          |\n",
        "|----------|--------------------------------------|----------------------------------|\n",
        "| JPG      | `FF D8`                              | `FF D9`                          |\n",
        "| PNG      | `89 50 4E 47 0D 0A 1A 0A`             | `49 45 4E 44 AE 42 60 82`        |\n",
        "| PDF      | `25 50 44 46`                        | multiple                         |\n",
        "| DOC      | `D0 CF 11 E0 A1 B1 1A E1`             | multiple                         |\n",
        "\n",
        "Data carving is a process that can be performed on single files when embedded data is present (e.g. DOC, PDF...) or on whole disk images.\n",
        "\n",
        "### **Task A: recover an embedded image from a DOC/PDF file**\n",
        "Recover the file `my_dog.docx` using the techniques seen in Exercise 03, and try to open it using Microsoft Word or any other `.docx` opener.\n",
        "\n",
        "When a **container file** (such as DOC/DOCX, PDF) gets corrupted, it may still be possible to retrieve the embedded files. Knowing that `my_dog.docx` contains a single ZIP archive (signature `504b0304`) that holds its data structure, perform data carving on it and extract the image."
      ]
    },
    {
      "cell_type": "code",
      "source": [
        "%%shell\n",
        "# Task: recover the deleted file 'my_dog.docx'\n",
        "icat linux_part.dd 16 > my_dog.docx"
      ],
      "metadata": {
        "id": "CycxqMO47ut2",
        "outputId": "1a1e8209-e3d3-4d8f-d6d8-62c0fca8167d",
        "colab": {
          "base_uri": "https://localhost:8080/"
        }
      },
      "id": "CycxqMO47ut2",
      "execution_count": null,
      "outputs": [
        {
          "output_type": "execute_result",
          "data": {
            "text/plain": []
          },
          "metadata": {},
          "execution_count": 12
        }
      ]
    },
    {
      "cell_type": "code",
      "execution_count": null,
      "id": "1fd1dfb7-1d09-4037-aa31-32c9438a799b",
      "metadata": {
        "id": "1fd1dfb7-1d09-4037-aa31-32c9438a799b",
        "outputId": "8f32cb84-0fc0-4e07-cee5-825ee83515c3",
        "colab": {
          "base_uri": "https://localhost:8080/"
        }
      },
      "outputs": [
        {
          "output_type": "execute_result",
          "data": {
            "text/plain": []
          },
          "metadata": {},
          "execution_count": 14
        }
      ],
      "source": [
        "%%shell\n",
        "# Tip 1: use `grep` with a regular expression to isolate the JPG hexadecimal data\n",
        "# Tip 2: `xxd` can be used to dump the hexadecimal data of a given file, but also do the opposite process\n",
        "xxd -p my_dog.docx | tr -d '\\n' | grep '504b0304' | xxd -r -p - my_dog.zip\n"
      ]
    },
    {
      "cell_type": "code",
      "source": [
        "%%shell\n",
        "# Task: unzip the extracted archive\n",
        "unzip -d my_dog my_dog.zip"
      ],
      "metadata": {
        "id": "9UZxRIM8XpYh"
      },
      "id": "9UZxRIM8XpYh",
      "execution_count": null,
      "outputs": []
    },
    {
      "cell_type": "markdown",
      "id": "99be475a-f232-4087-914d-4ffd1d68f867",
      "metadata": {
        "id": "99be475a-f232-4087-914d-4ffd1d68f867"
      },
      "source": [
        "It is also possible to use dedicated tools that analyze binary data searching for embedded/hidden files. `binwalk` allows both to list and extract the embedded data from a given file. Use it to recover the image from `my_dog.docx`, and try it on other container files.\n",
        "\n",
        "```\n",
        "Analyzes data for embedded file types\n",
        "\n",
        "Usage: binwalk [OPTIONS] [FILE_NAME]\n",
        "\n",
        "Arguments:\n",
        "  [FILE_NAME]  Path to the file to analyze\n",
        "\n",
        "Options:\n",
        "  -L, --list                   List supported signatures and extractors\n",
        "  -q, --quiet                  Supress output to stdout\n",
        "  -v, --verbose                During recursive extraction display *all* results\n",
        "  -e, --extract                Automatically extract known file types\n",
        "  -M, --matryoshka             Recursively scan extracted files\n",
        "  -a, --search-all             Search for all signatures at all offsets\n",
        "  -E, --entropy                Plot the entropy of the specified file\n",
        "  -l, --log <LOG>              Log JSON results to a file\n",
        "  -t, --threads <THREADS>      Manually specify the number of threads to use\n",
        "  -x, --exclude <EXCLUDE>...   Do no scan for these signatures\n",
        "  -y, --include <INCLUDE>...   Only scan for these signatures\n",
        "  -C, --directory <DIRECTORY>  Extract files/folders to a custom directory [default: extractions]\n",
        "  -h, --help                   Print help\n",
        "  -V, --version                Print version\n",
        "```"
      ]
    },
    {
      "cell_type": "code",
      "execution_count": 18,
      "id": "c2973980-acc8-4404-b33e-0f75f33b85f0",
      "metadata": {
        "id": "c2973980-acc8-4404-b33e-0f75f33b85f0",
        "outputId": "fccdba32-0d2c-4f3d-f96e-0fac2e192c49",
        "colab": {
          "base_uri": "https://localhost:8080/",
          "height": 391
        }
      },
      "outputs": [
        {
          "output_type": "stream",
          "name": "stdout",
          "text": [
            "\n",
            "thread 'main' panicked at /root/.cargo/registry/src/index.crates.io-1949cf8c6b5b557f/binwalk-3.1.0/src/main.rs:63:9:\n",
            "No target file name specified! Try --help.\n",
            "note: run with `RUST_BACKTRACE=1` environment variable to display a backtrace\n"
          ]
        },
        {
          "output_type": "error",
          "ename": "CalledProcessError",
          "evalue": "Command 'PATH=/root/.cargo/bin:$PATH\nbinwalk\n' returned non-zero exit status 101.",
          "traceback": [
            "\u001b[0;31m---------------------------------------------------------------------------\u001b[0m",
            "\u001b[0;31mCalledProcessError\u001b[0m                        Traceback (most recent call last)",
            "\u001b[0;32m/tmp/ipython-input-1112480261.py\u001b[0m in \u001b[0;36m<cell line: 0>\u001b[0;34m()\u001b[0m\n\u001b[0;32m----> 1\u001b[0;31m \u001b[0mget_ipython\u001b[0m\u001b[0;34m(\u001b[0m\u001b[0;34m)\u001b[0m\u001b[0;34m.\u001b[0m\u001b[0mrun_cell_magic\u001b[0m\u001b[0;34m(\u001b[0m\u001b[0;34m'shell'\u001b[0m\u001b[0;34m,\u001b[0m \u001b[0;34m''\u001b[0m\u001b[0;34m,\u001b[0m \u001b[0;34m'PATH=/root/.cargo/bin:$PATH\\nbinwalk\\n'\u001b[0m\u001b[0;34m)\u001b[0m\u001b[0;34m\u001b[0m\u001b[0;34m\u001b[0m\u001b[0m\n\u001b[0m",
            "\u001b[0;32m/usr/local/lib/python3.12/dist-packages/google/colab/_shell.py\u001b[0m in \u001b[0;36mrun_cell_magic\u001b[0;34m(self, magic_name, line, cell)\u001b[0m\n\u001b[1;32m    274\u001b[0m     \u001b[0;32mif\u001b[0m \u001b[0mline\u001b[0m \u001b[0;32mand\u001b[0m \u001b[0;32mnot\u001b[0m \u001b[0mcell\u001b[0m\u001b[0;34m:\u001b[0m\u001b[0;34m\u001b[0m\u001b[0;34m\u001b[0m\u001b[0m\n\u001b[1;32m    275\u001b[0m       \u001b[0mcell\u001b[0m \u001b[0;34m=\u001b[0m \u001b[0;34m' '\u001b[0m\u001b[0;34m\u001b[0m\u001b[0;34m\u001b[0m\u001b[0m\n\u001b[0;32m--> 276\u001b[0;31m     \u001b[0;32mreturn\u001b[0m \u001b[0msuper\u001b[0m\u001b[0;34m(\u001b[0m\u001b[0;34m)\u001b[0m\u001b[0;34m.\u001b[0m\u001b[0mrun_cell_magic\u001b[0m\u001b[0;34m(\u001b[0m\u001b[0mmagic_name\u001b[0m\u001b[0;34m,\u001b[0m \u001b[0mline\u001b[0m\u001b[0;34m,\u001b[0m \u001b[0mcell\u001b[0m\u001b[0;34m)\u001b[0m\u001b[0;34m\u001b[0m\u001b[0;34m\u001b[0m\u001b[0m\n\u001b[0m\u001b[1;32m    277\u001b[0m \u001b[0;34m\u001b[0m\u001b[0m\n\u001b[1;32m    278\u001b[0m \u001b[0;34m\u001b[0m\u001b[0m\n",
            "\u001b[0;32m/usr/local/lib/python3.12/dist-packages/IPython/core/interactiveshell.py\u001b[0m in \u001b[0;36mrun_cell_magic\u001b[0;34m(self, magic_name, line, cell)\u001b[0m\n\u001b[1;32m   2471\u001b[0m             \u001b[0;32mwith\u001b[0m \u001b[0mself\u001b[0m\u001b[0;34m.\u001b[0m\u001b[0mbuiltin_trap\u001b[0m\u001b[0;34m:\u001b[0m\u001b[0;34m\u001b[0m\u001b[0;34m\u001b[0m\u001b[0m\n\u001b[1;32m   2472\u001b[0m                 \u001b[0margs\u001b[0m \u001b[0;34m=\u001b[0m \u001b[0;34m(\u001b[0m\u001b[0mmagic_arg_s\u001b[0m\u001b[0;34m,\u001b[0m \u001b[0mcell\u001b[0m\u001b[0;34m)\u001b[0m\u001b[0;34m\u001b[0m\u001b[0;34m\u001b[0m\u001b[0m\n\u001b[0;32m-> 2473\u001b[0;31m                 \u001b[0mresult\u001b[0m \u001b[0;34m=\u001b[0m \u001b[0mfn\u001b[0m\u001b[0;34m(\u001b[0m\u001b[0;34m*\u001b[0m\u001b[0margs\u001b[0m\u001b[0;34m,\u001b[0m \u001b[0;34m**\u001b[0m\u001b[0mkwargs\u001b[0m\u001b[0;34m)\u001b[0m\u001b[0;34m\u001b[0m\u001b[0;34m\u001b[0m\u001b[0m\n\u001b[0m\u001b[1;32m   2474\u001b[0m             \u001b[0;32mreturn\u001b[0m \u001b[0mresult\u001b[0m\u001b[0;34m\u001b[0m\u001b[0;34m\u001b[0m\u001b[0m\n\u001b[1;32m   2475\u001b[0m \u001b[0;34m\u001b[0m\u001b[0m\n",
            "\u001b[0;32m/usr/local/lib/python3.12/dist-packages/google/colab/_system_commands.py\u001b[0m in \u001b[0;36m_shell_cell_magic\u001b[0;34m(args, cmd)\u001b[0m\n\u001b[1;32m    110\u001b[0m   \u001b[0mresult\u001b[0m \u001b[0;34m=\u001b[0m \u001b[0m_run_command\u001b[0m\u001b[0;34m(\u001b[0m\u001b[0mcmd\u001b[0m\u001b[0;34m,\u001b[0m \u001b[0mclear_streamed_output\u001b[0m\u001b[0;34m=\u001b[0m\u001b[0;32mFalse\u001b[0m\u001b[0;34m)\u001b[0m\u001b[0;34m\u001b[0m\u001b[0;34m\u001b[0m\u001b[0m\n\u001b[1;32m    111\u001b[0m   \u001b[0;32mif\u001b[0m \u001b[0;32mnot\u001b[0m \u001b[0mparsed_args\u001b[0m\u001b[0;34m.\u001b[0m\u001b[0mignore_errors\u001b[0m\u001b[0;34m:\u001b[0m\u001b[0;34m\u001b[0m\u001b[0;34m\u001b[0m\u001b[0m\n\u001b[0;32m--> 112\u001b[0;31m     \u001b[0mresult\u001b[0m\u001b[0;34m.\u001b[0m\u001b[0mcheck_returncode\u001b[0m\u001b[0;34m(\u001b[0m\u001b[0;34m)\u001b[0m\u001b[0;34m\u001b[0m\u001b[0;34m\u001b[0m\u001b[0m\n\u001b[0m\u001b[1;32m    113\u001b[0m   \u001b[0;32mreturn\u001b[0m \u001b[0mresult\u001b[0m\u001b[0;34m\u001b[0m\u001b[0;34m\u001b[0m\u001b[0m\n\u001b[1;32m    114\u001b[0m \u001b[0;34m\u001b[0m\u001b[0m\n",
            "\u001b[0;32m/usr/local/lib/python3.12/dist-packages/google/colab/_system_commands.py\u001b[0m in \u001b[0;36mcheck_returncode\u001b[0;34m(self)\u001b[0m\n\u001b[1;32m    135\u001b[0m   \u001b[0;32mdef\u001b[0m \u001b[0mcheck_returncode\u001b[0m\u001b[0;34m(\u001b[0m\u001b[0mself\u001b[0m\u001b[0;34m)\u001b[0m\u001b[0;34m:\u001b[0m\u001b[0;34m\u001b[0m\u001b[0;34m\u001b[0m\u001b[0m\n\u001b[1;32m    136\u001b[0m     \u001b[0;32mif\u001b[0m \u001b[0mself\u001b[0m\u001b[0;34m.\u001b[0m\u001b[0mreturncode\u001b[0m\u001b[0;34m:\u001b[0m\u001b[0;34m\u001b[0m\u001b[0;34m\u001b[0m\u001b[0m\n\u001b[0;32m--> 137\u001b[0;31m       raise subprocess.CalledProcessError(\n\u001b[0m\u001b[1;32m    138\u001b[0m           \u001b[0mreturncode\u001b[0m\u001b[0;34m=\u001b[0m\u001b[0mself\u001b[0m\u001b[0;34m.\u001b[0m\u001b[0mreturncode\u001b[0m\u001b[0;34m,\u001b[0m \u001b[0mcmd\u001b[0m\u001b[0;34m=\u001b[0m\u001b[0mself\u001b[0m\u001b[0;34m.\u001b[0m\u001b[0margs\u001b[0m\u001b[0;34m,\u001b[0m \u001b[0moutput\u001b[0m\u001b[0;34m=\u001b[0m\u001b[0mself\u001b[0m\u001b[0;34m.\u001b[0m\u001b[0moutput\u001b[0m\u001b[0;34m\u001b[0m\u001b[0;34m\u001b[0m\u001b[0m\n\u001b[1;32m    139\u001b[0m       )\n",
            "\u001b[0;31mCalledProcessError\u001b[0m: Command 'PATH=/root/.cargo/bin:$PATH\nbinwalk\n' returned non-zero exit status 101."
          ]
        }
      ],
      "source": [
        "%%shell\n",
        "binwalk my_dog.docx\n"
      ]
    },
    {
      "cell_type": "code",
      "source": [
        "%%shell\n",
        "# Task: use `binwalk` on other container files\n"
      ],
      "metadata": {
        "id": "yFN6XKPRPkkY"
      },
      "id": "yFN6XKPRPkkY",
      "execution_count": null,
      "outputs": []
    },
    {
      "cell_type": "markdown",
      "source": [
        "### **Task B: recover files from journal**\n",
        "A **journaling file system** is a file system capable of keeping track of changes in a record-commit fashion. It is a mechanism to prevent data loss in the event of a system crash or power failure.\n",
        "\n",
        "The **journal** is treated as a Unix file, has its own inode and can be extracted from a disk image partition. Depending on the implementation, a journal may contain both data and its metadata, or just the latter (at the expense of possible data loss)."
      ],
      "metadata": {
        "id": "CEWb4obTNZVE"
      },
      "id": "CEWb4obTNZVE"
    },
    {
      "cell_type": "code",
      "source": [
        "%%shell\n",
        "# Hint: use `fsstat` to retrieve the journal inode number\n",
        "fsstat linux_part.dd\n"
      ],
      "metadata": {
        "id": "z-pM8dqDO01E"
      },
      "id": "z-pM8dqDO01E",
      "execution_count": null,
      "outputs": []
    },
    {
      "cell_type": "code",
      "source": [
        "%%shell\n",
        "# Task: extract the journal and extract its data\n",
        "icat linux_part.dd 8 > journal.raw"
      ],
      "metadata": {
        "id": "qlpC--yfUr-h"
      },
      "id": "qlpC--yfUr-h",
      "execution_count": null,
      "outputs": []
    },
    {
      "cell_type": "code",
      "source": [
        "%%shell\n",
        "# Hint: sometimes, we are not looking for binary files...\n",
        "binwalk journal.raw\n",
        "strings journal.raw | grep 'password'\n",
        "strings journal.raw | grep 'mount'"
      ],
      "metadata": {
        "id": "QJpIe5jUTTBU"
      },
      "id": "QJpIe5jUTTBU",
      "execution_count": null,
      "outputs": []
    },
    {
      "cell_type": "markdown",
      "id": "a9501da1-8a1e-45be-bc84-371385229fd9",
      "metadata": {
        "id": "a9501da1-8a1e-45be-bc84-371385229fd9"
      },
      "source": [
        "### **Task C: recover all files from a disk image**\n",
        "Dealing with an entire disk image, it is *unconvenient* to `xxd | grep` for each filetype. Instead, resorting to dedicated tools is a much more efficient option, especially when the amount and diversity of files is considerable.\n",
        "\n",
        "For this experience, `scalpel` will be used to perform a complete data carving on our disk image.\n",
        "\n",
        "**Attention**: `scalpel` requires a configuration file as one of its argument. In the Linux system provided, it is located under `/etc/scalpel.conf`. Please check your specific OS layout should it be any different."
      ]
    },
    {
      "cell_type": "code",
      "execution_count": null,
      "id": "8fde8714-8cf2-4c01-ba52-11263010e25d",
      "metadata": {
        "id": "8fde8714-8cf2-4c01-ba52-11263010e25d"
      },
      "outputs": [],
      "source": [
        "%%shell\n",
        "# Task: use `scalpel` to perform data carving on the disk image\n",
        "scalpel -c /etc/scalpel.conf -o linux_part_recovery linux_part.dd\n"
      ]
    }
  ],
  "metadata": {
    "kernelspec": {
      "display_name": "Python 3 (ipykernel)",
      "language": "python",
      "name": "python3"
    },
    "language_info": {
      "codemirror_mode": {
        "name": "ipython",
        "version": 3
      },
      "file_extension": ".py",
      "mimetype": "text/x-python",
      "name": "python",
      "nbconvert_exporter": "python",
      "pygments_lexer": "ipython3",
      "version": "3.14.0"
    },
    "colab": {
      "provenance": []
    }
  },
  "nbformat": 4,
  "nbformat_minor": 5
}