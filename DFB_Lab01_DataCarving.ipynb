{
  "cells": [
    {
      "cell_type": "code",
      "execution_count": 1,
      "id": "e919b1a9-8857-4033-afe8-bd2b50ec4ad4",
      "metadata": {
        "id": "e919b1a9-8857-4033-afe8-bd2b50ec4ad4",
        "outputId": "467cef07-9b3b-4d94-bd9a-f4df01e10676",
        "colab": {
          "base_uri": "https://localhost:8080/"
        }
      },
      "outputs": [
        {
          "output_type": "stream",
          "name": "stdout",
          "text": [
            "Cloning into '/tmp/DFB_lab_init'...\n",
            "remote: Enumerating objects: 89, done.\u001b[K\n",
            "remote: Counting objects: 100% (45/45), done.\u001b[K\n",
            "remote: Compressing objects: 100% (24/24), done.\u001b[K\n",
            "remote: Total 89 (delta 16), reused 40 (delta 11), pack-reused 44 (from 1)\u001b[K\n",
            "Receiving objects: 100% (89/89), 113.72 MiB | 38.41 MiB/s, done.\n",
            "Resolving deltas: 100% (24/24), done.\n",
            "Cloning into '/opt/datacarving-lab'...\n",
            "remote: Enumerating objects: 67, done.\u001b[K\n",
            "remote: Counting objects: 100% (23/23), done.\u001b[K\n",
            "remote: Compressing objects: 100% (19/19), done.\u001b[K\n",
            "remote: Total 67 (delta 8), reused 19 (delta 4), pack-reused 44 (from 1)\u001b[K\n",
            "Receiving objects: 100% (67/67), 126.05 MiB | 28.42 MiB/s, done.\n",
            "Resolving deltas: 100% (16/16), done.\n",
            "Reading package lists... Done\n",
            "Building dependency tree... Done\n",
            "Reading state information... Done\n",
            "xxd is already the newest version (2:8.2.3995-1ubuntu2.24).\n",
            "xxd set to manually installed.\n",
            "The following additional packages will be installed:\n",
            "  libafflib0v5 libbfio1 libdate-manip-perl libewf2 libtsk19 libvhdi1 libvmdk1\n",
            "Suggested packages:\n",
            "  autopsy mac-robber\n",
            "The following NEW packages will be installed:\n",
            "  dcfldd libafflib0v5 libbfio1 libdate-manip-perl libewf2 libtsk19 libvhdi1\n",
            "  libvmdk1 scalpel sleuthkit\n",
            "0 upgraded, 10 newly installed, 0 to remove and 38 not upgraded.\n",
            "Need to get 3,860 kB of archives.\n",
            "After this operation, 21.4 MB of additional disk space will be used.\n",
            "Get:1 http://archive.ubuntu.com/ubuntu jammy/universe amd64 dcfldd amd64 1.7.1-1 [38.4 kB]\n",
            "Get:2 http://archive.ubuntu.com/ubuntu jammy/universe amd64 libafflib0v5 amd64 3.7.19-2build1 [222 kB]\n",
            "Get:3 http://archive.ubuntu.com/ubuntu jammy/universe amd64 libbfio1 amd64 20170123-6 [306 kB]\n",
            "Get:4 http://archive.ubuntu.com/ubuntu jammy/main amd64 libdate-manip-perl all 6.86-1 [946 kB]\n",
            "Get:5 http://archive.ubuntu.com/ubuntu jammy/universe amd64 libewf2 amd64 20140807-2ubuntu2 [586 kB]\n",
            "Get:6 http://archive.ubuntu.com/ubuntu jammy/universe amd64 libvhdi1 amd64 20210425-1build1 [446 kB]\n",
            "Get:7 http://archive.ubuntu.com/ubuntu jammy/universe amd64 libvmdk1 amd64 20200926-2build1 [473 kB]\n",
            "Get:8 http://archive.ubuntu.com/ubuntu jammy/universe amd64 libtsk19 amd64 4.11.1+dfsg-1 [447 kB]\n",
            "Get:9 http://archive.ubuntu.com/ubuntu jammy/universe amd64 scalpel amd64 1.60-9 [30.3 kB]\n",
            "Get:10 http://archive.ubuntu.com/ubuntu jammy/universe amd64 sleuthkit amd64 4.11.1+dfsg-1 [365 kB]\n",
            "Fetched 3,860 kB in 1s (4,465 kB/s)\n",
            "Selecting previously unselected package dcfldd.\n",
            "(Reading database ... 126675 files and directories currently installed.)\n",
            "Preparing to unpack .../0-dcfldd_1.7.1-1_amd64.deb ...\n",
            "Unpacking dcfldd (1.7.1-1) ...\n",
            "Selecting previously unselected package libafflib0v5:amd64.\n",
            "Preparing to unpack .../1-libafflib0v5_3.7.19-2build1_amd64.deb ...\n",
            "Unpacking libafflib0v5:amd64 (3.7.19-2build1) ...\n",
            "Selecting previously unselected package libbfio1:amd64.\n",
            "Preparing to unpack .../2-libbfio1_20170123-6_amd64.deb ...\n",
            "Unpacking libbfio1:amd64 (20170123-6) ...\n",
            "Selecting previously unselected package libdate-manip-perl.\n",
            "Preparing to unpack .../3-libdate-manip-perl_6.86-1_all.deb ...\n",
            "Unpacking libdate-manip-perl (6.86-1) ...\n",
            "Selecting previously unselected package libewf2.\n",
            "Preparing to unpack .../4-libewf2_20140807-2ubuntu2_amd64.deb ...\n",
            "Unpacking libewf2 (20140807-2ubuntu2) ...\n",
            "Selecting previously unselected package libvhdi1:amd64.\n",
            "Preparing to unpack .../5-libvhdi1_20210425-1build1_amd64.deb ...\n",
            "Unpacking libvhdi1:amd64 (20210425-1build1) ...\n",
            "Selecting previously unselected package libvmdk1:amd64.\n",
            "Preparing to unpack .../6-libvmdk1_20200926-2build1_amd64.deb ...\n",
            "Unpacking libvmdk1:amd64 (20200926-2build1) ...\n",
            "Selecting previously unselected package libtsk19:amd64.\n",
            "Preparing to unpack .../7-libtsk19_4.11.1+dfsg-1_amd64.deb ...\n",
            "Unpacking libtsk19:amd64 (4.11.1+dfsg-1) ...\n",
            "Selecting previously unselected package scalpel.\n",
            "Preparing to unpack .../8-scalpel_1.60-9_amd64.deb ...\n",
            "Unpacking scalpel (1.60-9) ...\n",
            "Selecting previously unselected package sleuthkit.\n",
            "Preparing to unpack .../9-sleuthkit_4.11.1+dfsg-1_amd64.deb ...\n",
            "Unpacking sleuthkit (4.11.1+dfsg-1) ...\n",
            "Setting up libvhdi1:amd64 (20210425-1build1) ...\n",
            "Setting up libafflib0v5:amd64 (3.7.19-2build1) ...\n",
            "Setting up dcfldd (1.7.1-1) ...\n",
            "Setting up scalpel (1.60-9) ...\n",
            "Setting up libewf2 (20140807-2ubuntu2) ...\n",
            "Setting up libdate-manip-perl (6.86-1) ...\n",
            "Setting up libbfio1:amd64 (20170123-6) ...\n",
            "Setting up libvmdk1:amd64 (20200926-2build1) ...\n",
            "Setting up libtsk19:amd64 (4.11.1+dfsg-1) ...\n",
            "Setting up sleuthkit (4.11.1+dfsg-1) ...\n",
            "Processing triggers for man-db (2.10.2-1) ...\n",
            "Processing triggers for libc-bin (2.35-0ubuntu3.8) ...\n",
            "/sbin/ldconfig.real: /usr/local/lib/libtcm_debug.so.1 is not a symbolic link\n",
            "\n",
            "/sbin/ldconfig.real: /usr/local/lib/libtbbbind_2_0.so.3 is not a symbolic link\n",
            "\n",
            "/sbin/ldconfig.real: /usr/local/lib/libur_loader.so.0 is not a symbolic link\n",
            "\n",
            "/sbin/ldconfig.real: /usr/local/lib/libur_adapter_level_zero.so.0 is not a symbolic link\n",
            "\n",
            "/sbin/ldconfig.real: /usr/local/lib/libtbbmalloc_proxy.so.2 is not a symbolic link\n",
            "\n",
            "/sbin/ldconfig.real: /usr/local/lib/libumf.so.0 is not a symbolic link\n",
            "\n",
            "/sbin/ldconfig.real: /usr/local/lib/libtbbmalloc.so.2 is not a symbolic link\n",
            "\n",
            "/sbin/ldconfig.real: /usr/local/lib/libtbb.so.12 is not a symbolic link\n",
            "\n",
            "/sbin/ldconfig.real: /usr/local/lib/libur_adapter_level_zero_v2.so.0 is not a symbolic link\n",
            "\n",
            "/sbin/ldconfig.real: /usr/local/lib/libtbbbind_2_5.so.3 is not a symbolic link\n",
            "\n",
            "/sbin/ldconfig.real: /usr/local/lib/libhwloc.so.15 is not a symbolic link\n",
            "\n",
            "/sbin/ldconfig.real: /usr/local/lib/libtbbbind.so.3 is not a symbolic link\n",
            "\n",
            "/sbin/ldconfig.real: /usr/local/lib/libtcm.so.1 is not a symbolic link\n",
            "\n",
            "/sbin/ldconfig.real: /usr/local/lib/libur_adapter_opencl.so.0 is not a symbolic link\n",
            "\n",
            "\u001b[1minfo:\u001b[0m downloading installer\n",
            "\u001b[0m\u001b[1minfo: \u001b[0mprofile set to 'default'\n",
            "\u001b[0m\u001b[1minfo: \u001b[0mdefault host triple is x86_64-unknown-linux-gnu\n",
            "\u001b[0m\u001b[1minfo: \u001b[0msyncing channel updates for 'stable-x86_64-unknown-linux-gnu'\n",
            "\u001b[0m\u001b[1minfo: \u001b[0mlatest update on 2025-09-18, rust version 1.90.0 (1159e78c4 2025-09-14)\n",
            "\u001b[0m\u001b[1minfo: \u001b[0mdownloading component 'cargo'\n",
            "\u001b[0m\u001b[1minfo: \u001b[0mdownloading component 'clippy'\n",
            "\u001b[0m\u001b[1minfo: \u001b[0mdownloading component 'rust-docs'\n",
            "\u001b[0m\u001b[1minfo: \u001b[0mdownloading component 'rust-std'\n",
            "\u001b[0m\u001b[1minfo: \u001b[0mdownloading component 'rustc'\n",
            " 78.7 MiB /  78.7 MiB (100 %)  74.4 MiB/s in  1s\n",
            "\u001b[0m\u001b[1minfo: \u001b[0mdownloading component 'rustfmt'\n",
            "\u001b[0m\u001b[1minfo: \u001b[0minstalling component 'cargo'\n",
            " 10.2 MiB /  10.2 MiB (100 %)   9.7 MiB/s in  1s\n",
            "\u001b[0m\u001b[1minfo: \u001b[0minstalling component 'clippy'\n",
            "\u001b[0m\u001b[1minfo: \u001b[0minstalling component 'rust-docs'\n",
            " 20.5 MiB /  20.5 MiB (100 %)   2.4 MiB/s in  6s\n",
            "\u001b[0m\u001b[1minfo: \u001b[0minstalling component 'rust-std'\n",
            " 27.8 MiB /  27.8 MiB (100 %)   8.8 MiB/s in  3s\n",
            "\u001b[0m\u001b[1minfo: \u001b[0minstalling component 'rustc'\n",
            " 78.7 MiB /  78.7 MiB (100 %)   7.4 MiB/s in 10s\n",
            "\u001b[0m\u001b[1minfo: \u001b[0minstalling component 'rustfmt'\n",
            "\u001b[0m\u001b[1minfo: \u001b[0mdefault toolchain set to 'stable-x86_64-unknown-linux-gnu'\n",
            "\n",
            "  \u001b[0m\u001b[1m\u001b[0m\u001b[1m\u001b[32mstable-x86_64-unknown-linux-gnu installed\u001b[0m - rustc 1.90.0 (1159e78c4 2025-09-14)\n",
            "\n",
            "\u001b[0m\u001b[1m\n",
            "Rust is installed now. Great!\n",
            "\u001b[0m\n",
            "To get started you may need to restart your current shell.\n",
            "This would reload your \u001b[0m\u001b[1mPATH\u001b[0m environment variable to include\n",
            "Cargo's bin directory ($HOME/.cargo/bin).\n",
            "\n",
            "To configure your current shell, you need to source\n",
            "the corresponding \u001b[0m\u001b[1menv\u001b[0m file under $HOME/.cargo.\n",
            "\n",
            "This is usually done by running one of the following (note the leading DOT):\n",
            ". \"$HOME/.cargo/env\"            # For sh/bash/zsh/ash/dash/pdksh\n",
            "source \"$HOME/.cargo/env.fish\"  # For fish\n",
            "source $\"($nu.home-path)/.cargo/env.nu\"  # For nushell\n",
            "/tmp/DFB_lab_init/initialize.sh: 13: source: not found\n",
            "\u001b[1m\u001b[32m    Updating\u001b[0m crates.io index\n",
            "\u001b[1m\u001b[32m Downloading\u001b[0m crates ...\n",
            "\u001b[1m\u001b[32m  Downloaded\u001b[0m binwalk v3.1.0\n",
            "\u001b[1m\u001b[32m  Installing\u001b[0m binwalk v3.1.0\n",
            "\u001b[1m\u001b[32m    Updating\u001b[0m crates.io index\n",
            "\u001b[1m\u001b[32m     Locking\u001b[0m 169 packages to latest compatible versions\n",
            "\u001b[1m\u001b[36m      Adding\u001b[0m bzip2 v0.4.4 \u001b[1m\u001b[33m(available: v0.6.1)\u001b[0m\n",
            "\u001b[1m\u001b[36m      Adding\u001b[0m colored v2.2.0 \u001b[1m\u001b[33m(available: v3.0.0)\u001b[0m\n",
            "\u001b[1m\u001b[36m      Adding\u001b[0m crc32-v2 v0.0.4 \u001b[1m\u001b[33m(available: v0.0.5)\u001b[0m\n",
            "\u001b[1m\u001b[32m Downloading\u001b[0m crates ...\n",
            "\u001b[1m\u001b[32m  Downloaded\u001b[0m anstream v0.6.21\n",
            "\u001b[1m\u001b[32m  Downloaded\u001b[0m anstyle v1.0.13\n",
            "\u001b[1m\u001b[32m  Downloaded\u001b[0m adler2 v2.0.1\n",
            "\u001b[1m\u001b[32m  Downloaded\u001b[0m autocfg v1.5.0\n",
            "\u001b[1m\u001b[32m  Downloaded\u001b[0m anstyle-query v1.1.4\n",
            "\u001b[1m\u001b[32m  Downloaded\u001b[0m bitflags v1.3.2\n",
            "\u001b[1m\u001b[32m  Downloaded\u001b[0m colored v2.2.0\n",
            "\u001b[1m\u001b[32m  Downloaded\u001b[0m lazy_static v1.5.0\n",
            "\u001b[1m\u001b[32m  Downloaded\u001b[0m plotters-svg v0.3.7\n",
            "\u001b[1m\u001b[32m  Downloaded\u001b[0m ppv-lite86 v0.2.21\n",
            "\u001b[1m\u001b[32m  Downloaded\u001b[0m proc-macro2 v1.0.101\n",
            "\u001b[1m\u001b[32m  Downloaded\u001b[0m semver v1.0.27\n",
            "\u001b[1m\u001b[32m  Downloaded\u001b[0m xxhash-rust v0.8.15\n",
            "\u001b[1m\u001b[32m  Downloaded\u001b[0m bytemuck v1.24.0\n",
            "\u001b[1m\u001b[32m  Downloaded\u001b[0m weezl v0.1.10\n",
            "\u001b[1m\u001b[32m  Downloaded\u001b[0m zerocopy v0.8.27\n",
            "\u001b[1m\u001b[32m  Downloaded\u001b[0m option-ext v0.2.0\n",
            "\u001b[1m\u001b[32m  Downloaded\u001b[0m unicode-ident v1.0.19\n",
            "\u001b[1m\u001b[32m  Downloaded\u001b[0m yeslogic-fontconfig-sys v6.0.0\n",
            "\u001b[1m\u001b[32m  Downloaded\u001b[0m font-kit v0.14.3\n",
            "\u001b[1m\u001b[32m  Downloaded\u001b[0m regex v1.12.2\n",
            "\u001b[1m\u001b[32m  Downloaded\u001b[0m flate2 v1.1.4\n",
            "\u001b[1m\u001b[32m  Downloaded\u001b[0m regex-automata v0.4.13\n",
            "\u001b[1m\u001b[32m  Downloaded\u001b[0m regex-syntax v0.8.8\n",
            "\u001b[1m\u001b[32m  Downloaded\u001b[0m xz2 v0.1.7\n",
            "\u001b[1m\u001b[32m  Downloaded\u001b[0m uuid-macro-internal v1.18.1\n",
            "\u001b[1m\u001b[32m  Downloaded\u001b[0m threadpool v1.8.1\n",
            "\u001b[1m\u001b[32m  Downloaded\u001b[0m termsize v0.1.9\n",
            "\u001b[1m\u001b[32m  Downloaded\u001b[0m serde_json v1.0.145\n",
            "\u001b[1m\u001b[32m  Downloaded\u001b[0m cc v1.2.41\n",
            "\u001b[1m\u001b[32m  Downloaded\u001b[0m chrono v0.4.42\n",
            "\u001b[1m\u001b[32m  Downloaded\u001b[0m serde_derive v1.0.228\n",
            "\u001b[1m\u001b[32m  Downloaded\u001b[0m serde_core v1.0.228\n",
            "\u001b[1m\u001b[32m  Downloaded\u001b[0m rand v0.9.2\n",
            "\u001b[1m\u001b[32m  Downloaded\u001b[0m quote v1.0.41\n",
            "\u001b[1m\u001b[32m  Downloaded\u001b[0m png v0.17.16\n",
            "\u001b[1m\u001b[32m  Downloaded\u001b[0m plotters-bitmap v0.3.7\n",
            "\u001b[1m\u001b[32m  Downloaded\u001b[0m miniz_oxide v0.8.9\n",
            "\u001b[1m\u001b[32m  Downloaded\u001b[0m memchr v2.7.6\n",
            "\u001b[1m\u001b[32m  Downloaded\u001b[0m plotters v0.3.7\n",
            "\u001b[1m\u001b[32m  Downloaded\u001b[0m pathfinder_simd v0.5.5\n",
            "\u001b[1m\u001b[32m  Downloaded\u001b[0m serde v1.0.228\n",
            "\u001b[1m\u001b[32m  Downloaded\u001b[0m ttf-parser v0.20.0\n",
            "\u001b[1m\u001b[32m  Downloaded\u001b[0m clap_builder v4.5.49\n",
            "\u001b[1m\u001b[32m  Downloaded\u001b[0m jiff v0.2.15\n",
            "\u001b[1m\u001b[32m  Downloaded\u001b[0m jpeg-decoder v0.3.2\n",
            "\u001b[1m\u001b[32m  Downloaded\u001b[0m pathfinder_geometry v0.5.1\n",
            "\u001b[1m\u001b[32m  Downloaded\u001b[0m libloading v0.8.9\n",
            "\u001b[1m\u001b[32m  Downloaded\u001b[0m bzip2-sys v0.1.13+1.0.8\n",
            "\u001b[1m\u001b[32m  Downloaded\u001b[0m is_terminal_polyfill v1.70.1\n",
            "\u001b[1m\u001b[32m  Downloaded\u001b[0m iana-time-zone v0.1.64\n",
            "\u001b[1m\u001b[32m  Downloaded\u001b[0m getrandom v0.3.4\n",
            "\u001b[1m\u001b[32m  Downloaded\u001b[0m env_filter v0.1.4\n",
            "\u001b[1m\u001b[32m  Downloaded\u001b[0m dlib v0.5.2\n",
            "\u001b[1m\u001b[32m  Downloaded\u001b[0m dirs v6.0.0\n",
            "\u001b[1m\u001b[32m  Downloaded\u001b[0m crc32-v2 v0.0.4\n",
            "\u001b[1m\u001b[32m  Downloaded\u001b[0m clap_lex v0.7.6\n",
            "\u001b[1m\u001b[32m  Downloaded\u001b[0m clap_derive v4.5.49\n",
            "\u001b[1m\u001b[32m  Downloaded\u001b[0m clap v4.5.49\n",
            "\u001b[1m\u001b[32m  Downloaded\u001b[0m bzip2 v0.4.4\n",
            "\u001b[1m\u001b[32m  Downloaded\u001b[0m aho-corasick v1.1.3\n",
            "\u001b[1m\u001b[32m  Downloaded\u001b[0m syn v2.0.107\n",
            "\u001b[1m\u001b[32m  Downloaded\u001b[0m simd-adler32 v0.3.7\n",
            "\u001b[1m\u001b[32m  Downloaded\u001b[0m shlex v1.3.0\n",
            "\u001b[1m\u001b[32m  Downloaded\u001b[0m once_cell v1.21.3\n",
            "\u001b[1m\u001b[32m  Downloaded\u001b[0m libc v0.2.177\n",
            "\u001b[1m\u001b[32m  Downloaded\u001b[0m num_cpus v1.17.0\n",
            "\u001b[1m\u001b[32m  Downloaded\u001b[0m num-traits v0.2.19\n",
            "\u001b[1m\u001b[32m  Downloaded\u001b[0m log v0.4.28\n",
            "\u001b[1m\u001b[32m  Downloaded\u001b[0m itoa v1.0.15\n",
            "\u001b[1m\u001b[32m  Downloaded\u001b[0m heck v0.5.0\n",
            "\u001b[1m\u001b[32m  Downloaded\u001b[0m float-ord v0.3.2\n",
            "\u001b[1m\u001b[32m  Downloaded\u001b[0m find-msvc-tools v0.1.4\n",
            "\u001b[1m\u001b[32m  Downloaded\u001b[0m env_logger v0.11.8\n",
            "\u001b[1m\u001b[32m  Downloaded\u001b[0m dirs-sys v0.5.0\n",
            "\u001b[1m\u001b[32m  Downloaded\u001b[0m color_quant v1.1.0\n",
            "\u001b[1m\u001b[32m  Downloaded\u001b[0m cfg-if v1.0.4\n",
            "\u001b[1m\u001b[32m  Downloaded\u001b[0m byteorder v1.5.0\n",
            "\u001b[1m\u001b[32m  Downloaded\u001b[0m bitflags v2.9.4\n",
            "\u001b[1m\u001b[32m  Downloaded\u001b[0m base64 v0.22.1\n",
            "\u001b[1m\u001b[32m  Downloaded\u001b[0m walkdir v2.5.0\n",
            "\u001b[1m\u001b[32m  Downloaded\u001b[0m lzma-sys v0.1.20\n",
            "\u001b[1m\u001b[32m  Downloaded\u001b[0m gif v0.12.0\n",
            "\u001b[1m\u001b[32m  Downloaded\u001b[0m uuid v1.18.1\n",
            "\u001b[1m\u001b[32m  Downloaded\u001b[0m utf8parse v0.2.2\n",
            "\u001b[1m\u001b[32m  Downloaded\u001b[0m strsim v0.11.1\n",
            "\u001b[1m\u001b[32m  Downloaded\u001b[0m same-file v1.0.6\n",
            "\u001b[1m\u001b[32m  Downloaded\u001b[0m ryu v1.0.20\n",
            "\u001b[1m\u001b[32m  Downloaded\u001b[0m rustc_version v0.4.1\n",
            "\u001b[1m\u001b[32m  Downloaded\u001b[0m rand_core v0.9.3\n",
            "\u001b[1m\u001b[32m  Downloaded\u001b[0m rand_chacha v0.9.0\n",
            "\u001b[1m\u001b[32m  Downloaded\u001b[0m plotters-backend v0.3.7\n",
            "\u001b[1m\u001b[32m  Downloaded\u001b[0m pkg-config v0.3.32\n",
            "\u001b[1m\u001b[32m  Downloaded\u001b[0m fdeflate v0.3.7\n",
            "\u001b[1m\u001b[32m  Downloaded\u001b[0m crc32fast v1.5.0\n",
            "\u001b[1m\u001b[32m  Downloaded\u001b[0m crc32c v0.6.8\n",
            "\u001b[1m\u001b[32m  Downloaded\u001b[0m colorchoice v1.0.4\n",
            "\u001b[1m\u001b[32m  Downloaded\u001b[0m anstyle-parse v0.2.7\n",
            "\u001b[1m\u001b[32m  Downloaded\u001b[0m entropy v0.4.2\n",
            "\u001b[1m\u001b[32m  Downloaded\u001b[0m image v0.24.9\n",
            "\u001b[1m\u001b[32m  Downloaded\u001b[0m freetype-sys v0.20.1\n",
            "\u001b[1m\u001b[32m   Compiling\u001b[0m libc v0.2.177\n",
            "\u001b[1m\u001b[32m   Compiling\u001b[0m pkg-config v0.3.32\n",
            "\u001b[1m\u001b[32m   Compiling\u001b[0m shlex v1.3.0\n",
            "\u001b[1m\u001b[32m   Compiling\u001b[0m cfg-if v1.0.4\n",
            "\u001b[1m\u001b[32m   Compiling\u001b[0m find-msvc-tools v0.1.4\n",
            "\u001b[1m\u001b[32m   Compiling\u001b[0m cc v1.2.41\n",
            "\u001b[1m\u001b[32m   Compiling\u001b[0m semver v1.0.27\n",
            "\u001b[1m\u001b[32m   Compiling\u001b[0m proc-macro2 v1.0.101\n",
            "\u001b[1m\u001b[32m   Compiling\u001b[0m rustc_version v0.4.1\n",
            "\u001b[1m\u001b[32m   Compiling\u001b[0m quote v1.0.41\n",
            "\u001b[1m\u001b[32m   Compiling\u001b[0m unicode-ident v1.0.19\n",
            "\u001b[1m\u001b[32m   Compiling\u001b[0m simd-adler32 v0.3.7\n",
            "\u001b[1m\u001b[32m   Compiling\u001b[0m autocfg v1.5.0\n",
            "\u001b[1m\u001b[32m   Compiling\u001b[0m crc32fast v1.5.0\n",
            "\u001b[1m\u001b[32m   Compiling\u001b[0m syn v2.0.107\n",
            "\u001b[1m\u001b[32m   Compiling\u001b[0m num-traits v0.2.19\n",
            "\u001b[1m\u001b[32m   Compiling\u001b[0m adler2 v2.0.1\n",
            "\u001b[1m\u001b[32m   Compiling\u001b[0m memchr v2.7.6\n",
            "\u001b[1m\u001b[32m   Compiling\u001b[0m getrandom v0.3.4\n",
            "\u001b[1m\u001b[32m   Compiling\u001b[0m zerocopy v0.8.27\n",
            "\u001b[1m\u001b[32m   Compiling\u001b[0m miniz_oxide v0.8.9\n",
            "\u001b[1m\u001b[32m   Compiling\u001b[0m freetype-sys v0.20.1\n",
            "\u001b[1m\u001b[32m   Compiling\u001b[0m pathfinder_simd v0.5.5\n",
            "\u001b[1m\u001b[32m   Compiling\u001b[0m yeslogic-fontconfig-sys v6.0.0\n",
            "\u001b[1m\u001b[32m   Compiling\u001b[0m utf8parse v0.2.2\n",
            "\u001b[1m\u001b[32m   Compiling\u001b[0m log v0.4.28\n",
            "\u001b[1m\u001b[32m   Compiling\u001b[0m anstyle-parse v0.2.7\n",
            "\u001b[1m\u001b[32m   Compiling\u001b[0m flate2 v1.1.4\n",
            "\u001b[1m\u001b[32m   Compiling\u001b[0m aho-corasick v1.1.3\n",
            "\u001b[1m\u001b[32m   Compiling\u001b[0m fdeflate v0.3.7\n",
            "\u001b[1m\u001b[32m   Compiling\u001b[0m libloading v0.8.9\n",
            "\u001b[1m\u001b[32m   Compiling\u001b[0m anstyle-query v1.1.4\n",
            "\u001b[1m\u001b[32m   Compiling\u001b[0m bitflags v1.3.2\n",
            "\u001b[1m\u001b[32m   Compiling\u001b[0m is_terminal_polyfill v1.70.1\n",
            "\u001b[1m\u001b[32m   Compiling\u001b[0m anstyle v1.0.13\n",
            "\u001b[1m\u001b[32m   Compiling\u001b[0m serde_core v1.0.228\n",
            "\u001b[1m\u001b[32m   Compiling\u001b[0m colorchoice v1.0.4\n",
            "\u001b[1m\u001b[32m   Compiling\u001b[0m option-ext v0.2.0\n",
            "\u001b[1m\u001b[32m   Compiling\u001b[0m regex-syntax v0.8.8\n",
            "\u001b[1m\u001b[32m   Compiling\u001b[0m byteorder v1.5.0\n",
            "\u001b[1m\u001b[32m   Compiling\u001b[0m color_quant v1.1.0\n",
            "\u001b[1m\u001b[32m   Compiling\u001b[0m regex-automata v0.4.13\n",
            "\u001b[1m\u001b[32m   Compiling\u001b[0m dirs-sys v0.5.0\n",
            "\u001b[1m\u001b[32m   Compiling\u001b[0m anstream v0.6.21\n",
            "\u001b[1m\u001b[32m   Compiling\u001b[0m png v0.17.16\n",
            "\u001b[1m\u001b[32m   Compiling\u001b[0m dlib v0.5.2\n",
            "\u001b[1m\u001b[32m   Compiling\u001b[0m ppv-lite86 v0.2.21\n",
            "\u001b[1m\u001b[32m   Compiling\u001b[0m rand_core v0.9.3\n",
            "\u001b[1m\u001b[32m   Compiling\u001b[0m lzma-sys v0.1.20\n",
            "\u001b[1m\u001b[32m   Compiling\u001b[0m bzip2-sys v0.1.13+1.0.8\n",
            "\u001b[1m\u001b[32m   Compiling\u001b[0m jpeg-decoder v0.3.2\n",
            "\u001b[1m\u001b[32m   Compiling\u001b[0m plotters-backend v0.3.7\n",
            "\u001b[1m\u001b[32m   Compiling\u001b[0m bytemuck v1.24.0\n",
            "\u001b[1m\u001b[32m   Compiling\u001b[0m lazy_static v1.5.0\n",
            "\u001b[1m\u001b[32m   Compiling\u001b[0m same-file v1.0.6\n",
            "\u001b[1m\u001b[32m   Compiling\u001b[0m font-kit v0.14.3\n",
            "\u001b[1m\u001b[32m   Compiling\u001b[0m weezl v0.1.10\n",
            "\u001b[1m\u001b[32m   Compiling\u001b[0m once_cell v1.21.3\n",
            "\u001b[1m\u001b[32m   Compiling\u001b[0m gif v0.12.0\n",
            "\u001b[1m\u001b[32m   Compiling\u001b[0m walkdir v2.5.0\n",
            "\u001b[1m\u001b[32m   Compiling\u001b[0m image v0.24.9\n",
            "\u001b[1m\u001b[32m   Compiling\u001b[0m pathfinder_geometry v0.5.1\n",
            "\u001b[1m\u001b[32m   Compiling\u001b[0m rand_chacha v0.9.0\n",
            "\u001b[1m\u001b[32m   Compiling\u001b[0m dirs v6.0.0\n",
            "\u001b[1m\u001b[32m   Compiling\u001b[0m regex v1.12.2\n",
            "\u001b[1m\u001b[32m   Compiling\u001b[0m crc32c v0.6.8\n",
            "\u001b[1m\u001b[32m   Compiling\u001b[0m clap_lex v0.7.6\n",
            "\u001b[1m\u001b[32m   Compiling\u001b[0m serde_json v1.0.145\n",
            "\u001b[1m\u001b[32m   Compiling\u001b[0m strsim v0.11.1\n",
            "\u001b[1m\u001b[32m   Compiling\u001b[0m heck v0.5.0\n",
            "\u001b[1m\u001b[32m   Compiling\u001b[0m bitflags v2.9.4\n",
            "\u001b[1m\u001b[32m   Compiling\u001b[0m iana-time-zone v0.1.64\n",
            "\u001b[1m\u001b[32m   Compiling\u001b[0m crc32-v2 v0.0.4\n",
            "\u001b[1m\u001b[32m   Compiling\u001b[0m float-ord v0.3.2\n",
            "\u001b[1m\u001b[32m   Compiling\u001b[0m serde v1.0.228\n",
            "\u001b[1m\u001b[32m   Compiling\u001b[0m chrono v0.4.42\n",
            "\u001b[1m\u001b[32m   Compiling\u001b[0m clap_derive v4.5.49\n",
            "\u001b[1m\u001b[32m   Compiling\u001b[0m clap_builder v4.5.49\n",
            "\u001b[1m\u001b[32m   Compiling\u001b[0m env_filter v0.1.4\n",
            "\u001b[1m\u001b[32m   Compiling\u001b[0m rand v0.9.2\n",
            "\u001b[1m\u001b[32m   Compiling\u001b[0m plotters-bitmap v0.3.7\n",
            "\u001b[1m\u001b[32m   Compiling\u001b[0m plotters-svg v0.3.7\n",
            "\u001b[1m\u001b[32m   Compiling\u001b[0m uuid-macro-internal v1.18.1\n",
            "\u001b[1m\u001b[32m   Compiling\u001b[0m serde_derive v1.0.228\n",
            "\u001b[1m\u001b[32m   Compiling\u001b[0m num_cpus v1.17.0\n",
            "\u001b[1m\u001b[32m   Compiling\u001b[0m itoa v1.0.15\n",
            "\u001b[1m\u001b[32m   Compiling\u001b[0m ttf-parser v0.20.0\n",
            "\u001b[1m\u001b[32m   Compiling\u001b[0m jiff v0.2.15\n",
            "\u001b[1m\u001b[32m   Compiling\u001b[0m ryu v1.0.20\n",
            "\u001b[1m\u001b[32m   Compiling\u001b[0m plotters v0.3.7\n",
            "\u001b[1m\u001b[32m   Compiling\u001b[0m env_logger v0.11.8\n",
            "\u001b[1m\u001b[32m   Compiling\u001b[0m threadpool v1.8.1\n",
            "\u001b[1m\u001b[32m   Compiling\u001b[0m uuid v1.18.1\n",
            "\u001b[1m\u001b[32m   Compiling\u001b[0m clap v4.5.49\n",
            "\u001b[1m\u001b[32m   Compiling\u001b[0m bzip2 v0.4.4\n",
            "\u001b[1m\u001b[32m   Compiling\u001b[0m xz2 v0.1.7\n",
            "\u001b[1m\u001b[32m   Compiling\u001b[0m colored v2.2.0\n",
            "\u001b[1m\u001b[32m   Compiling\u001b[0m termsize v0.1.9\n",
            "\u001b[1m\u001b[32m   Compiling\u001b[0m xxhash-rust v0.8.15\n",
            "\u001b[1m\u001b[32m   Compiling\u001b[0m base64 v0.22.1\n",
            "\u001b[1m\u001b[32m   Compiling\u001b[0m entropy v0.4.2\n",
            "\u001b[1m\u001b[32m   Compiling\u001b[0m binwalk v3.1.0\n",
            "\u001b[1m\u001b[32m    Finished\u001b[0m `release` profile [optimized] target(s) in 3m 36s\n",
            "\u001b[1m\u001b[32m  Installing\u001b[0m /root/.cargo/bin/binwalk\n",
            "\u001b[1m\u001b[32m   Installed\u001b[0m package `binwalk v3.1.0` (executable `binwalk`)\n"
          ]
        },
        {
          "output_type": "execute_result",
          "data": {
            "text/plain": []
          },
          "metadata": {},
          "execution_count": 1
        }
      ],
      "source": [
        "%%shell\n",
        "# SETUP OF GOOGLE COLAB ENVIRONMENT\n",
        "git clone -b colab --single-branch https://github.com/lucadomene/DFB_Lab01_DataCarving /tmp/DFB_lab_init\n",
        "sh /tmp/DFB_lab_init/initialize.sh"
      ]
    },
    {
      "cell_type": "markdown",
      "id": "5fd26209-b741-47b6-89bf-32b1399d21a2",
      "metadata": {
        "id": "5fd26209-b741-47b6-89bf-32b1399d21a2"
      },
      "source": [
        "# Laboratory on Data Carving\n",
        "_Digital Forensics and Biometrics_ A.A. 2025/2026\n",
        "\n",
        "Lecturer: prof. **Simone Milani** (simone.milani@dei.unipd.it)\n",
        "\n",
        "Teaching Assistants: **Mattia Tamiazzo** (mattia.tamiazzo.1@phd.unipd.it); **Luca Domeneghetti** (luca.domeneghetti@studenti.unipd.it)\n",
        "\n",
        "### Prerequisites\n",
        "This laboratory requires no prior knowledge concerning digital forensics. Although, basic knowledge of the Unix enviromnent might benefit the understanding of the deletion/recovery process.\n",
        "\n",
        "In general, the following aspects are expected to be known and will not be covered in detail:\n",
        "- Unix paradigm of files, directories and devices\n",
        "- Basic Shell usage\n",
        "- `Ext4` filesystem layout: inodes, block sectors, journaling\n",
        "- Calculations with hexadecimal byte offsets\n",
        "\n",
        "### Contents\n",
        "The goal of this laboratory is to provide the basic theoretical and practical notions on data carving and file recovery. The details related to file system's structure and I/O mechanisms – despite being crucial for a potentially successful data recovery – are out of scope and will be provided as a further reading for the student.\n",
        "\n",
        "At the end of the laboratory the student will have acquired the following skills:\n",
        "- Perform a forensic disk copy using Unix imaging tools (`dcfldd`)\n",
        "- Analyze the partition layout of a disk image\n",
        "- List the files within a filesystem\n",
        "- **Retrieve deallocated/deleted files**\n",
        "- **Perform data carving** (manually and using dedicated tools)\n",
        "___\n",
        "## Theoretical aspects of filesystem forensics\n",
        "Before diving into the practice, a brief theoretical detour is essential to understand how a recovery procedure is to be carried out.\n",
        "\n",
        "Having in mind how a specific filesystem works helps to understand how deletion processes work, how files are allocated logically and physically, and most importantly where to look for when searching for deallocated data.\n",
        "\n",
        "### The Ext filesystem\n",
        "This laboratory will be focused on Ext filesystems as it is widely implemented and tested under Linux environment. Its simplicity makes it the suitable starting point for a comprehensive data forensic approach.\n",
        "\n",
        "#### Inodes\n",
        "An **inode** (index nodes) is a data structure used by Unix filesystems (including the Ext family) to represent metadata on files. Each inode stores the following information:\n",
        "\n",
        "- File type (e.g., regular file, directory, symlink)\n",
        "- Permissions and ownership (UID, GID)\n",
        "- Timestamps (created, modified, accessed)\n",
        "- File size\n",
        "- Link count\n",
        "- Pointers to data blocks\n",
        "\n",
        "Inodes do **not** store the file name or its path — these are maintained in directory entries to map symbolic names to inode numbers. This separation is critical in forensic analysis and data carving where inodes may remain allocated even if directory structures are damaged or missing (this is the case for _orphan files_).\n",
        "\n",
        "Within an Ext partition, inodes are located in inode tables. Each inode is marked as allocated or deallocated by using inode bitmaps.\n",
        "\n",
        "[![](https://www.virtualcuriosities.com/wp-content/uploads/2025/03/linux-diagram-hard-links-inodes-20250326.webp)](https://www.virtualcuriosities.com/articles/4507/how-hard-links-and-inodes-work-on-linux)\n",
        "\n",
        "#### Directories\n",
        "In Ext filesystems, directories are special files (file code `0x2`) that store a list of **directory entries**, each mapping a filename to an **inode number**. These entries are stored sequentially in data blocks and are arranged as such:\n",
        "\n",
        "| Offset | Size                | Name                   | Description                                               |\n",
        "|--------|---------------------|------------------------|-----------------------------------------------------------|\n",
        "| 0x0    | __le32              | inode                  | Number of the inode that this directory entry points to.  |\n",
        "| 0x4    | __le16              | rec_len                | Length of this directory entry.                           |\n",
        "| 0x6    | __u8                | name_len               | Length of the file name.                                  |\n",
        "| 0x7    | __u8                | file_type              | File type code                                            |\n",
        "| 0x8    | char\\[255]          | name                   | File name.                                                |\n",
        "\n",
        "This structure allows multiple filenames (hard links) to point to the same inode.\n",
        "\n",
        "In Ext2 and Ext3, directory entries are stored in a linear list, which can become inefficient as directories grow. Ext4 introduced **HTree indexing**, a hashed B-tree-like structure, to improve performance in large directories.\n",
        "\n",
        "### NTFS and FAT\n",
        "\n",
        "Aside from Ext filesystems, NTFS and FAT filesystems are frequently employed in Windows environments or external data storage (e.g. USBs). Although they share some similarities, understanding the differences is key for a successful file recovery.\n",
        "\n",
        "- **Metadata Handling**:  \n",
        "  Ext uses **inodes** to store file metadata separately from directory entries. In contrast, **NTFS** stores metadata in the **Master File Table (MFT)**, with each file represented as a record. **FAT**, being simpler, uses a **File Allocation Table** and directory entries that contain both metadata and file location info.\n",
        "\n",
        "- **File Deletion Behavior**:  \n",
        "  In **Ext**, when a file is deleted, its directory entry and inode may persist until overwritten, which aids data recovery. **NTFS** marks MFT entries as deleted but often retains significant metadata. **FAT** simply marks the first character of the filename as deleted and updates the FAT chain.\n",
        "\n",
        "- **Journaling**:  \n",
        "  **Ext3/4** and **NTFS** are journaling filesystems, enhancing data integrity but sometimes complicating recovery due to overwrites. **FAT** lacks journaling, making it more vulnerable to corruption but also leaving raw data more directly accessible for carving.\n",
        "\n",
        "- **File Name and Path Storage**:  \n",
        "  Ext separates names (in directory entries) from inodes, while NTFS stores file name attributes directly within MFT records. FAT embeds the file name directly in the directory entry."
      ]
    },
    {
      "cell_type": "markdown",
      "id": "fbf4ac68-701a-4c4b-81b0-cf30c6f45e0f",
      "metadata": {
        "id": "fbf4ac68-701a-4c4b-81b0-cf30c6f45e0f"
      },
      "source": [
        "___\n",
        "## Exercise 01: perform a forensic disk imaging\n",
        "When in possess of a digital forensic device (e.g. an hard disk, USB drive, internal SSD...), the first crucial step is to perform a copy of it as to avoid any accidental modification of the original.\n",
        "\n",
        "This process is called **disk imaging** and abides the following principles:\n",
        "1. the copy is an exact duplicate of the original device\n",
        "2. the original device remains unaltered by the process\n",
        "\n",
        "To avoid that unwanted (or intentional!) modifications are introduced during subsequent procedures, it is important to keep track of the **hash signature** of the original device. This step has to be performed during the first acquisition of the digital media.\n",
        "\n",
        "The target device is located at `/dev/loop0` in the virtual Unix machine. It is **important** to select the root device `loop0` and not any of its partitions (e.g. `loop0p1`) in order to perform a full disk image.\n",
        "\n",
        "```\n",
        "Usage: dcfldd [OPTION]...\n",
        "Enhanced version of dd for forensics and security.\n",
        "\n",
        "  bs=BYTES            force ibs=BYTES and obs=BYTES (default=32768)\n",
        "  count=BLOCKS        copy only BLOCKS input blocks\n",
        "  if=FILE             read from FILE instead of stdin\n",
        "  of=FILE             write to FILE instead of stdout\n",
        "  seek=BLOCKS         skip BLOCKS obs-sized blocks at start of output\n",
        "  skip=BLOCKS         skip BLOCKS ibs-sized blocks at start of input\n",
        "  pattern=HEX         use the specified binary pattern as input\n",
        "  textpattern=TEXT    use repeating TEXT as input\n",
        "  errlog=FILE         send error messages to FILE as well as stderr\n",
        "  hash=NAME           do hash calculation (md5, sha1, sha256, sha384 or sha512)\n",
        "  hashlog=FILE        send hash output to FILE instead of stderr\n",
        "  hashwindow=BYTES    perform a hash on every BYTES amount of data\n",
        "  status=[on|off]          display a continual status message on stderr\n",
        "  statusinterval=N         update the status message every N blocks\n",
        "  sizeprobe=[if|of|BYTES]  what to use as value to percentage indicator\n",
        "  vf=FILE                  verify that FILE matches the specified input\n",
        "  verifylog=FILE           send verify results to FILE instead of stderr\n",
        "```"
      ]
    },
    {
      "cell_type": "code",
      "execution_count": 2,
      "id": "b9c49ac2-9773-4406-8728-810c6ff10602",
      "metadata": {
        "id": "b9c49ac2-9773-4406-8728-810c6ff10602",
        "outputId": "d2ef6d80-eddf-42e2-a266-2d96a8767b56",
        "colab": {
          "base_uri": "https://localhost:8080/"
        }
      },
      "outputs": [
        {
          "output_type": "stream",
          "name": "stdout",
          "text": [
            "1536 blocks (48Mb) written.\n",
            "1600+0 records in\n",
            "1600+0 records out\n"
          ]
        },
        {
          "output_type": "execute_result",
          "data": {
            "text/plain": []
          },
          "metadata": {},
          "execution_count": 2
        }
      ],
      "source": [
        "%%shell\n",
        "# Task: perform a disk image of device /dev/loop0 and save it as whatever you prefer.\n",
        "# How can I make `dcfldd` also compute the MD5 and SHA256 hash of the original disk device?\n",
        "\n",
        "dcfldd if=/dev/loop0 of=image.dd hash=md5,sha256 hashlog=hash.txt # REMOVE"
      ]
    },
    {
      "cell_type": "code",
      "execution_count": null,
      "id": "d5321aa1-9c48-4749-9910-3abe67a77c72",
      "metadata": {
        "id": "d5321aa1-9c48-4749-9910-3abe67a77c72"
      },
      "outputs": [],
      "source": [
        "%%shell\n",
        "# Task: compare the MD5 and SHA256 hash digest of the original device (as provided by `dcfldd`) to the one of the disk image\n",
        "md5sum image.dd # REMOVE\n",
        "sha256sum image.dd # REMOVE\n",
        "\n",
        "cat hash.txt # REMOVE"
      ]
    },
    {
      "cell_type": "markdown",
      "id": "d7669c4d-e925-4132-a580-4b5d6c1e948b",
      "metadata": {
        "id": "d7669c4d-e925-4132-a580-4b5d6c1e948b"
      },
      "source": [
        "___\n",
        "## Exercise 02: obtain filesystem info of the disk image\n",
        "Each filesystem differs in the way data is arranged physically on the device. Even similar filesystems (e.g. Ext3 and Ext4) or the same filesystem may prefer an arrangement to another when considering the total space available on the device, the flags that were toggled during installation or the characteristics of the device itself (SSD, HDD...).\n",
        "\n",
        "For convenience, it is better to extract the partition from the complete image using `dcfldd` with `if={your_image}.dd` (hint: look at options `bs`, `seek` and `count`).\n",
        "\n",
        "TheSleuthKit (abbreviated as TSK) provides two commands to do so: `mmls` and `fsstat`\n",
        "\n",
        "```\n",
        "usage: mmls [-i imgtype] [-o imgoffset] image [images]\n",
        "\n",
        "usage: fsstat [-f fstype] [-i imgtype] [-o imgoffset] image\n",
        "```"
      ]
    },
    {
      "cell_type": "code",
      "execution_count": null,
      "id": "4f4b68ad-9cd1-470c-9d64-d0d65ca3a7c4",
      "metadata": {
        "id": "4f4b68ad-9cd1-470c-9d64-d0d65ca3a7c4"
      },
      "outputs": [],
      "source": [
        "%%shell\n",
        "# `mmls` provides information on the overall layout scheme of the disk image\n",
        "# Task: list the partition table\n",
        "mmls image.dd # REMOVE\n"
      ]
    },
    {
      "cell_type": "code",
      "source": [
        "%%shell\n",
        "# Task: extract the Linux partition\n",
        "dcfldd if=image.dd of=linux_part.dd skip=2048 count=100352 bs=512 # REMOVE\n"
      ],
      "metadata": {
        "id": "l9T7HiPBTxdn",
        "outputId": "1507002e-3e13-4ed5-d799-c5da0206995a",
        "colab": {
          "base_uri": "https://localhost:8080/"
        }
      },
      "id": "l9T7HiPBTxdn",
      "execution_count": 3,
      "outputs": [
        {
          "output_type": "stream",
          "name": "stdout",
          "text": [
            "100352 blocks (49Mb) written.\n",
            "100352+0 records in\n",
            "100352+0 records out\n"
          ]
        },
        {
          "output_type": "execute_result",
          "data": {
            "text/plain": []
          },
          "metadata": {},
          "execution_count": 3
        }
      ]
    },
    {
      "cell_type": "code",
      "execution_count": null,
      "id": "74b13a59-ac34-4f4e-ab5a-0e08db0684fb",
      "metadata": {
        "id": "74b13a59-ac34-4f4e-ab5a-0e08db0684fb"
      },
      "outputs": [],
      "source": [
        "%%shell\n",
        "# `fsstat` provides information on a single filesystem partition\n",
        "# Task: obtain information on the Ext4 partition within the disk image\n",
        "fsstat linux_part.dd # REMOVE\n",
        "\n",
        "# Question: what is the size of a single inode entry? What is the size of a block?"
      ]
    },
    {
      "cell_type": "markdown",
      "id": "abd64cba-15f0-419d-bab4-e6d221a4efd8",
      "metadata": {
        "id": "abd64cba-15f0-419d-bab4-e6d221a4efd8"
      },
      "source": [
        "___\n",
        "## Exercise 03: recover deallocated files\n",
        "There are multiple ways by which a file can be deleted. A common technique (especially employed if the underlying device is an HDD) is to just **deallocate** the data blocks associated to file's data, deallocate its inode entry and add a \"deleted\" timestamp to it.\n",
        "\n",
        "Under these circumstances, it easily possible to recover the original file's data, provided that none if its data blocks have been overwritten in the meantime.\n",
        "\n",
        "The output of `fls` command allows to obtain information on the files contained within the partition's filesystem; in particular, the asterix `*` denotes a file that spans in unallocated space, thus it has been \"softly deleted\".\n",
        "\n",
        "```\n",
        "usage: fls -r [-f fstype] [-i imgtype] [-o imgoffset] image [images] [inode]\n",
        "```"
      ]
    },
    {
      "cell_type": "code",
      "execution_count": null,
      "id": "6063ccef-2ea4-436e-90e6-647ce2ffb57e",
      "metadata": {
        "id": "6063ccef-2ea4-436e-90e6-647ce2ffb57e"
      },
      "outputs": [],
      "source": [
        "%%shell\n",
        "# `fls` is the `ls` equivalent when inspecting a disk image\n",
        "fls linux_part.dd\n",
        "\n",
        "# Question: what are the numbers displayed on the left-hand side of the output?"
      ]
    },
    {
      "cell_type": "code",
      "source": [
        "# Task: roam around the filesystem. Then, try to list all files recursively\n"
      ],
      "metadata": {
        "id": "kLmzxykXMA-_"
      },
      "id": "kLmzxykXMA-_",
      "execution_count": null,
      "outputs": []
    },
    {
      "cell_type": "markdown",
      "id": "c1a95ce9-6342-4a3e-90fc-bfe5df34932b",
      "metadata": {
        "id": "c1a95ce9-6342-4a3e-90fc-bfe5df34932b"
      },
      "source": [
        "Given an inode number, it is easy to display the associated metadata information by using the command `istat`. To retrieve the associated data blocks, multiple commands can be used, namely `icat`, `blkcat` and `blkls`.\n",
        "\n",
        "```\n",
        "usage: istat [-f fstype] [-i imgtype] [-o imgoffset] image inum\n",
        "\n",
        "usage: icat [-f fstype] [-i imgtype] [-o imgoffset] image [images] inum[-typ[-id]]\n",
        "\n",
        "usage: blkcat [-f fstype] [-i imgtype] [-o imgoffset] [-P pooltype] [-k password] image [images] unit_addr [num]\n",
        "\n",
        "usage: blkls [-f fstype] [-i imgtype] [-o imgoffset] image [images] [start-stop]\n",
        "```"
      ]
    },
    {
      "cell_type": "code",
      "execution_count": null,
      "id": "9bd5e558-1f4f-4343-8e5e-57ba392e0252",
      "metadata": {
        "id": "9bd5e558-1f4f-4343-8e5e-57ba392e0252"
      },
      "outputs": [],
      "source": [
        "%%shell\n",
        "# `istat` is used to display the metadata contained within an inode\n",
        "# Task: display the metadata information regarding a regular file and a deleted one. What are the differences?\n",
        "istat linux_part.dd 21 # REMOVE"
      ]
    },
    {
      "cell_type": "markdown",
      "source": [
        "```\n",
        "Usage:\n",
        "       xxd [options] [infile [outfile]]\n",
        "    or\n",
        "       xxd -r [-s [-]offset] [-c cols] [-ps] [infile [outfile]]\n",
        "Options:\n",
        "    -a          toggle autoskip: A single '*' replaces nul-lines. Default off.\n",
        "    -b          binary digit dump (incompatible with -ps). Default hex.\n",
        "    -C          capitalize variable names in C include file style (-i).\n",
        "    -c cols     format <cols> octets per line. Default 16 (-i: 12, -ps: 30).\n",
        "    -E          show characters in EBCDIC. Default ASCII.\n",
        "    -e          little-endian dump (incompatible with -ps,-i,-r).\n",
        "    -g bytes    number of octets per group in normal output. Default 2 (-e: 4).\n",
        "    -h          print this summary.\n",
        "    -i          output in C include file style.\n",
        "    -l len      stop after <len> octets.\n",
        "    -n name     set the variable name used in C include output (-i).\n",
        "    -o off      add <off> to the displayed file position.\n",
        "    -ps         output in postscript plain hexdump style.\n",
        "    -r          reverse operation: convert (or patch) hexdump into binary.\n",
        "    -r -s off   revert with <off> added to file positions found in hexdump.\n",
        "    -d          show offset in decimal instead of hex.\n",
        "    -s [+][-]seek  start at <seek> bytes abs. (or +: rel.) infile offset.\n",
        "    -u          use upper case hex letters.\n",
        "    -R when     colorize the output; <when> can be 'always', 'auto' or 'never'. Default: 'auto'.\n",
        "    -v          show version: \"xxd 2025-08-24 by Juergen Weigert et al.\".\n",
        "```"
      ],
      "metadata": {
        "id": "HPpO_a8bN-Yg"
      },
      "id": "HPpO_a8bN-Yg"
    },
    {
      "cell_type": "code",
      "execution_count": null,
      "id": "1ef98609-33e7-472c-a315-64b0e008626b",
      "metadata": {
        "id": "1ef98609-33e7-472c-a315-64b0e008626b"
      },
      "outputs": [],
      "source": [
        "%%shell\n",
        "icat linux_part.dd 23 | xxd | head"
      ]
    },
    {
      "cell_type": "code",
      "source": [
        "%%shell\n",
        "# Task: display the content of another file with a different file type. What can you notice at the beginning?\n"
      ],
      "metadata": {
        "id": "6bvqWO1EOXfi"
      },
      "id": "6bvqWO1EOXfi",
      "execution_count": null,
      "outputs": []
    },
    {
      "cell_type": "code",
      "execution_count": null,
      "id": "a132662d-27f0-437c-9d14-49fbf0e0f838",
      "metadata": {
        "id": "a132662d-27f0-437c-9d14-49fbf0e0f838"
      },
      "outputs": [],
      "source": [
        "%%shell\n",
        "icat linux_part.dd 20 > retrieved_data/cat.bmp\n",
        "# Using the side menu \"Files\", you can navigate to /content/retrieved_data and download the recovered file"
      ]
    },
    {
      "cell_type": "code",
      "source": [
        "%%shell\n",
        "# Task: use either `icat`, `blkcat` or `blkls` to recover a file from a given inode\n"
      ],
      "metadata": {
        "id": "t_dVw0fdNwND"
      },
      "id": "t_dVw0fdNwND",
      "execution_count": null,
      "outputs": []
    },
    {
      "cell_type": "markdown",
      "id": "039b7ee8-78e5-4fa9-9832-f941a3be9c0c",
      "metadata": {
        "id": "039b7ee8-78e5-4fa9-9832-f941a3be9c0c"
      },
      "source": [
        "___\n",
        "## Exercise 04: recover orphan files\n",
        "When a directory entry gets corrupted or deleted, an inode might lose its only hard link in the filesystem by which a file was to be accessed. This causes the file to be inaccessible, even if the original inode metadata and data blocks are still properly allocated in the filesystem.\n",
        "\n",
        "Provided by the Linux Kernel Archive package, the `fsck` tool provides a way to check for all inodes looking for a potential mismatch between their metadata \"link count\" and the actual one in the filesystem. Should it find an inode with an actual link count of 0 and a metadata link count greater than 0, such inode is considered \"orphaned\" and gets attached to the `lost+found` directory."
      ]
    },
    {
      "cell_type": "code",
      "execution_count": null,
      "id": "7673c1a0-18b9-49d0-ad1b-d66ff2f8a181",
      "metadata": {
        "id": "7673c1a0-18b9-49d0-ad1b-d66ff2f8a181"
      },
      "outputs": [],
      "source": [
        "%%shell\n",
        "# Task: perform `fsck` on the Ext4 partition, USING THE TERMINAL\n",
        "fsck.ext4 -f linux_part.dd\n"
      ]
    },
    {
      "cell_type": "code",
      "execution_count": null,
      "id": "f042b175-f8bb-4f49-8931-44823275d176",
      "metadata": {
        "id": "f042b175-f8bb-4f49-8931-44823275d176"
      },
      "outputs": [],
      "source": [
        "%%shell\n",
        "# Task: recover the newly attached orphan file (see exercise 03)\n"
      ]
    },
    {
      "cell_type": "markdown",
      "id": "727024b8-0151-4081-ae31-c69280252366",
      "metadata": {
        "id": "727024b8-0151-4081-ae31-c69280252366"
      },
      "source": [
        "___\n",
        "## Exercise 05: perform data carving\n",
        "When the inode content is deallocated and overwritten, the only hope for a successful file recovery is to look in the data blocks (both allocated and deallocated). Each file has a unique heading (and sometime trailing) signature, which makes the recovery process a \"matching game\" against the signatures.\n",
        "| Filetype | Header                              | Trailer                          |\n",
        "|----------|--------------------------------------|----------------------------------|\n",
        "| JPG      | `FF D8`                              | `FF D9`                          |\n",
        "| PNG      | `89 50 4E 47 0D 0A 1A 0A`             | `49 45 4E 44 AE 42 60 82`        |\n",
        "| PDF      | `25 50 44 46`                        | multiple                         |\n",
        "| DOC      | `D0 CF 11 E0 A1 B1 1A E1`             | multiple                         |\n",
        "\n",
        "Data carving is a process that can be performed on single files when embedded data is present (e.g. DOC, PDF...) or on whole disk images.\n",
        "\n",
        "### **Task A: recover an embedded image from a DOC/PDF file**\n",
        "Recover the file `my_dog.docx` using the techniques seen in Exercise 03, and try to open it using Microsoft Word or any other `.docx` opener.\n",
        "\n",
        "When a **container file** (such as DOC/DOCX, PDF) gets corrupted, it may still be possible to retrieve the embedded files. Knowing that `my_dog.docx` contains a single ZIP archive (signature `504b0304`) that holds its data structure, perform data carving on it and extract the image."
      ]
    },
    {
      "cell_type": "code",
      "source": [
        "%%shell\n",
        "# Task: recover the deleted file 'my_dog.docx'\n",
        "icat linux_part.dd 16 > my_dog.docx"
      ],
      "metadata": {
        "id": "CycxqMO47ut2"
      },
      "id": "CycxqMO47ut2",
      "execution_count": null,
      "outputs": []
    },
    {
      "cell_type": "code",
      "execution_count": null,
      "id": "1fd1dfb7-1d09-4037-aa31-32c9438a799b",
      "metadata": {
        "id": "1fd1dfb7-1d09-4037-aa31-32c9438a799b"
      },
      "outputs": [],
      "source": [
        "%%shell\n",
        "# Tip 1: use `grep` with a regular expression to isolate the JPG hexadecimal data\n",
        "# Tip 2: `xxd` can be used to dump the hexadecimal data of a given file, but also do the opposite process\n",
        "xxd -p my_dog.docx | tr -d '\\n' | grep '504b0304' | xxd -r -p - my_dog.zip\n"
      ]
    },
    {
      "cell_type": "code",
      "source": [
        "%%shell\n",
        "# Task: unzip the extracted archive\n",
        "unzip -d my_dog my_dog.zip"
      ],
      "metadata": {
        "id": "9UZxRIM8XpYh"
      },
      "id": "9UZxRIM8XpYh",
      "execution_count": null,
      "outputs": []
    },
    {
      "cell_type": "markdown",
      "id": "99be475a-f232-4087-914d-4ffd1d68f867",
      "metadata": {
        "id": "99be475a-f232-4087-914d-4ffd1d68f867"
      },
      "source": [
        "It is also possible to use dedicated tools that analyze binary data searching for embedded/hidden files. `binwalk` allows both to list and extract the embedded data from a given file. Use it to recover the image from `my_dog.docx`, and try it on other container files.\n",
        "\n",
        "```\n",
        "Analyzes data for embedded file types\n",
        "\n",
        "Usage: binwalk [OPTIONS] [FILE_NAME]\n",
        "\n",
        "Arguments:\n",
        "  [FILE_NAME]  Path to the file to analyze\n",
        "\n",
        "Options:\n",
        "  -L, --list                   List supported signatures and extractors\n",
        "  -q, --quiet                  Supress output to stdout\n",
        "  -v, --verbose                During recursive extraction display *all* results\n",
        "  -e, --extract                Automatically extract known file types\n",
        "  -M, --matryoshka             Recursively scan extracted files\n",
        "  -a, --search-all             Search for all signatures at all offsets\n",
        "  -E, --entropy                Plot the entropy of the specified file\n",
        "  -l, --log <LOG>              Log JSON results to a file\n",
        "  -t, --threads <THREADS>      Manually specify the number of threads to use\n",
        "  -x, --exclude <EXCLUDE>...   Do no scan for these signatures\n",
        "  -y, --include <INCLUDE>...   Only scan for these signatures\n",
        "  -C, --directory <DIRECTORY>  Extract files/folders to a custom directory [default: extractions]\n",
        "  -h, --help                   Print help\n",
        "  -V, --version                Print version\n",
        "```"
      ]
    },
    {
      "cell_type": "code",
      "execution_count": null,
      "id": "c2973980-acc8-4404-b33e-0f75f33b85f0",
      "metadata": {
        "id": "c2973980-acc8-4404-b33e-0f75f33b85f0"
      },
      "outputs": [],
      "source": [
        "%%shell\n",
        "binwalk my_dog.docx\n"
      ]
    },
    {
      "cell_type": "code",
      "source": [
        "%%shell\n",
        "# Task: use `binwalk` on other container files\n"
      ],
      "metadata": {
        "id": "yFN6XKPRPkkY"
      },
      "id": "yFN6XKPRPkkY",
      "execution_count": null,
      "outputs": []
    },
    {
      "cell_type": "markdown",
      "source": [
        "### **Task B: recover files from journal**\n",
        "A **journaling file system** is a file system capable of keeping track of changes in a record-commit fashion. It is a mechanism to prevent data loss in the event of a system crash or power failure.\n",
        "\n",
        "The **journal** is treated as a Unix file, has its own inode and can be extracted from a disk image partition. Depending on the implementation, a journal may contain both data and its metadata, or just the latter (at the expense of possible data loss)."
      ],
      "metadata": {
        "id": "CEWb4obTNZVE"
      },
      "id": "CEWb4obTNZVE"
    },
    {
      "cell_type": "code",
      "source": [
        "%%shell\n",
        "# Hint: use `fsstat` to retrieve the journal inode number\n",
        "fsstat linux_part.dd # REMOVE\n"
      ],
      "metadata": {
        "id": "z-pM8dqDO01E"
      },
      "id": "z-pM8dqDO01E",
      "execution_count": null,
      "outputs": []
    },
    {
      "cell_type": "code",
      "source": [
        "%%shell\n",
        "# Task: extract the journal and extract its data\n",
        "icat linux_part.dd 8 > journal.raw # REMOVE"
      ],
      "metadata": {
        "id": "qlpC--yfUr-h"
      },
      "id": "qlpC--yfUr-h",
      "execution_count": null,
      "outputs": []
    },
    {
      "cell_type": "code",
      "source": [
        "%%shell\n",
        "# Hint: sometimes, we are not looking for binary files...\n",
        "binwalk journal.raw # REMOVE\n",
        "strings journal.raw | grep 'password' # REMOVE\n",
        "strings journal.raw | grep 'mount'"
      ],
      "metadata": {
        "id": "QJpIe5jUTTBU"
      },
      "id": "QJpIe5jUTTBU",
      "execution_count": null,
      "outputs": []
    },
    {
      "cell_type": "markdown",
      "id": "a9501da1-8a1e-45be-bc84-371385229fd9",
      "metadata": {
        "id": "a9501da1-8a1e-45be-bc84-371385229fd9"
      },
      "source": [
        "### **Task C: recover all files from a disk image**\n",
        "Dealing with an entire disk image, it is *unconvenient* to `xxd | grep` for each filetype. Instead, resorting to dedicated tools is a much more efficient option, especially when the amount and diversity of files is considerable.\n",
        "\n",
        "For this experience, `scalpel` will be used to perform a complete data carving on our disk image.\n",
        "\n",
        "**Attention**: `scalpel` requires a configuration file as one of its argument. In the Linux system provided, it is located under `/etc/scalpel.conf`. Please check your specific OS layout should it be any different.\n",
        "\n",
        "```\n",
        "Usage: scalpel [-b] [-c <config file>] [-d] [-e] [-h] [-i <file>]\n",
        "[-n] [-o <outputdir>] [-O] [-p] [-q <clustersize>] [-r]\n",
        "[-v] [-V] <imgfile> [<imgfile>] ...\n",
        "\n",
        "Options:\n",
        "-b  Carve files even if defined footers aren't discovered within\n",
        "    maximum carve size for file type [foremost 0.69 compat mode].\n",
        "-c  Choose configuration file.\n",
        "-d  Generate header/footer database; will bypass certain optimizations\n",
        "    and discover all footers, so performance suffers.  Doesn't affect\n",
        "    the set of files carved.  **EXPERIMENTAL**\n",
        "-e  Do nested header/footer matching, to deal with structured files that may\n",
        "    contain embedded files of the same type.  Applicable only to\n",
        "    FORWARD / NEXT patterns.\n",
        "-h  Print this help message and exit.\n",
        "-i  Read names of disk images from specified file.  Note that minimal parsing of\n",
        "    the pathnames is performed and they should be formatted to be compliant C\n",
        "    strings; e.g., under Windows, backslashes must be properly quoted, etc.\n",
        "-n  Don't add extensions to extracted files.\n",
        "-o  Set output directory for carved files.\n",
        "-O  Don't organize carved files by type. Default is to organize carved files\n",
        "    into subdirectories.\n",
        "-p  Perform image file preview; audit log indicates which files\n",
        "    would have been carved, but no files are actually carved.  Useful for\n",
        "    indexing file or data fragment locations or supporting in-place file\n",
        "    carving.\n",
        "-q  Carve only when header is cluster-aligned.\n",
        "-r  Find only first of overlapping headers/footers [foremost 0.69 compat mode].\n",
        "-V  Print copyright information and exit.\n",
        "-v  Verbose mode.\n",
        "```"
      ]
    },
    {
      "cell_type": "code",
      "execution_count": 4,
      "id": "8fde8714-8cf2-4c01-ba52-11263010e25d",
      "metadata": {
        "id": "8fde8714-8cf2-4c01-ba52-11263010e25d",
        "outputId": "46055010-7860-4e32-96b9-641bc1c55ff3",
        "colab": {
          "base_uri": "https://localhost:8080/",
          "height": 426
        }
      },
      "outputs": [
        {
          "output_type": "stream",
          "name": "stdout",
          "text": [
            "Scalpel version 1.60\n",
            "Written by Golden G. Richard III, based on Foremost 0.69.\n",
            "\n",
            "Opening target \"/content/linux_part.dd\"\n",
            "\n"
          ]
        },
        {
          "output_type": "error",
          "ename": "CalledProcessError",
          "evalue": "Command '# Task: use `scalpel` to perform data carving on the disk image\nscalpel -c /etc/scalpel.conf -o linux_part_recovery linux_part.dd # REMOVE\n' died with <Signals.SIGSEGV: 11>.",
          "traceback": [
            "\u001b[0;31m---------------------------------------------------------------------------\u001b[0m",
            "\u001b[0;31mCalledProcessError\u001b[0m                        Traceback (most recent call last)",
            "\u001b[0;32m/tmp/ipython-input-4082640628.py\u001b[0m in \u001b[0;36m<cell line: 0>\u001b[0;34m()\u001b[0m\n\u001b[0;32m----> 1\u001b[0;31m \u001b[0mget_ipython\u001b[0m\u001b[0;34m(\u001b[0m\u001b[0;34m)\u001b[0m\u001b[0;34m.\u001b[0m\u001b[0mrun_cell_magic\u001b[0m\u001b[0;34m(\u001b[0m\u001b[0;34m'shell'\u001b[0m\u001b[0;34m,\u001b[0m \u001b[0;34m''\u001b[0m\u001b[0;34m,\u001b[0m \u001b[0;34m'# Task: use `scalpel` to perform data carving on the disk image\\nscalpel -c /etc/scalpel.conf -o linux_part_recovery linux_part.dd # REMOVE\\n'\u001b[0m\u001b[0;34m)\u001b[0m\u001b[0;34m\u001b[0m\u001b[0;34m\u001b[0m\u001b[0m\n\u001b[0m",
            "\u001b[0;32m/usr/local/lib/python3.12/dist-packages/google/colab/_shell.py\u001b[0m in \u001b[0;36mrun_cell_magic\u001b[0;34m(self, magic_name, line, cell)\u001b[0m\n\u001b[1;32m    274\u001b[0m     \u001b[0;32mif\u001b[0m \u001b[0mline\u001b[0m \u001b[0;32mand\u001b[0m \u001b[0;32mnot\u001b[0m \u001b[0mcell\u001b[0m\u001b[0;34m:\u001b[0m\u001b[0;34m\u001b[0m\u001b[0;34m\u001b[0m\u001b[0m\n\u001b[1;32m    275\u001b[0m       \u001b[0mcell\u001b[0m \u001b[0;34m=\u001b[0m \u001b[0;34m' '\u001b[0m\u001b[0;34m\u001b[0m\u001b[0;34m\u001b[0m\u001b[0m\n\u001b[0;32m--> 276\u001b[0;31m     \u001b[0;32mreturn\u001b[0m \u001b[0msuper\u001b[0m\u001b[0;34m(\u001b[0m\u001b[0;34m)\u001b[0m\u001b[0;34m.\u001b[0m\u001b[0mrun_cell_magic\u001b[0m\u001b[0;34m(\u001b[0m\u001b[0mmagic_name\u001b[0m\u001b[0;34m,\u001b[0m \u001b[0mline\u001b[0m\u001b[0;34m,\u001b[0m \u001b[0mcell\u001b[0m\u001b[0;34m)\u001b[0m\u001b[0;34m\u001b[0m\u001b[0;34m\u001b[0m\u001b[0m\n\u001b[0m\u001b[1;32m    277\u001b[0m \u001b[0;34m\u001b[0m\u001b[0m\n\u001b[1;32m    278\u001b[0m \u001b[0;34m\u001b[0m\u001b[0m\n",
            "\u001b[0;32m/usr/local/lib/python3.12/dist-packages/IPython/core/interactiveshell.py\u001b[0m in \u001b[0;36mrun_cell_magic\u001b[0;34m(self, magic_name, line, cell)\u001b[0m\n\u001b[1;32m   2471\u001b[0m             \u001b[0;32mwith\u001b[0m \u001b[0mself\u001b[0m\u001b[0;34m.\u001b[0m\u001b[0mbuiltin_trap\u001b[0m\u001b[0;34m:\u001b[0m\u001b[0;34m\u001b[0m\u001b[0;34m\u001b[0m\u001b[0m\n\u001b[1;32m   2472\u001b[0m                 \u001b[0margs\u001b[0m \u001b[0;34m=\u001b[0m \u001b[0;34m(\u001b[0m\u001b[0mmagic_arg_s\u001b[0m\u001b[0;34m,\u001b[0m \u001b[0mcell\u001b[0m\u001b[0;34m)\u001b[0m\u001b[0;34m\u001b[0m\u001b[0;34m\u001b[0m\u001b[0m\n\u001b[0;32m-> 2473\u001b[0;31m                 \u001b[0mresult\u001b[0m \u001b[0;34m=\u001b[0m \u001b[0mfn\u001b[0m\u001b[0;34m(\u001b[0m\u001b[0;34m*\u001b[0m\u001b[0margs\u001b[0m\u001b[0;34m,\u001b[0m \u001b[0;34m**\u001b[0m\u001b[0mkwargs\u001b[0m\u001b[0;34m)\u001b[0m\u001b[0;34m\u001b[0m\u001b[0;34m\u001b[0m\u001b[0m\n\u001b[0m\u001b[1;32m   2474\u001b[0m             \u001b[0;32mreturn\u001b[0m \u001b[0mresult\u001b[0m\u001b[0;34m\u001b[0m\u001b[0;34m\u001b[0m\u001b[0m\n\u001b[1;32m   2475\u001b[0m \u001b[0;34m\u001b[0m\u001b[0m\n",
            "\u001b[0;32m/usr/local/lib/python3.12/dist-packages/google/colab/_system_commands.py\u001b[0m in \u001b[0;36m_shell_cell_magic\u001b[0;34m(args, cmd)\u001b[0m\n\u001b[1;32m    110\u001b[0m   \u001b[0mresult\u001b[0m \u001b[0;34m=\u001b[0m \u001b[0m_run_command\u001b[0m\u001b[0;34m(\u001b[0m\u001b[0mcmd\u001b[0m\u001b[0;34m,\u001b[0m \u001b[0mclear_streamed_output\u001b[0m\u001b[0;34m=\u001b[0m\u001b[0;32mFalse\u001b[0m\u001b[0;34m)\u001b[0m\u001b[0;34m\u001b[0m\u001b[0;34m\u001b[0m\u001b[0m\n\u001b[1;32m    111\u001b[0m   \u001b[0;32mif\u001b[0m \u001b[0;32mnot\u001b[0m \u001b[0mparsed_args\u001b[0m\u001b[0;34m.\u001b[0m\u001b[0mignore_errors\u001b[0m\u001b[0;34m:\u001b[0m\u001b[0;34m\u001b[0m\u001b[0;34m\u001b[0m\u001b[0m\n\u001b[0;32m--> 112\u001b[0;31m     \u001b[0mresult\u001b[0m\u001b[0;34m.\u001b[0m\u001b[0mcheck_returncode\u001b[0m\u001b[0;34m(\u001b[0m\u001b[0;34m)\u001b[0m\u001b[0;34m\u001b[0m\u001b[0;34m\u001b[0m\u001b[0m\n\u001b[0m\u001b[1;32m    113\u001b[0m   \u001b[0;32mreturn\u001b[0m \u001b[0mresult\u001b[0m\u001b[0;34m\u001b[0m\u001b[0;34m\u001b[0m\u001b[0m\n\u001b[1;32m    114\u001b[0m \u001b[0;34m\u001b[0m\u001b[0m\n",
            "\u001b[0;32m/usr/local/lib/python3.12/dist-packages/google/colab/_system_commands.py\u001b[0m in \u001b[0;36mcheck_returncode\u001b[0;34m(self)\u001b[0m\n\u001b[1;32m    135\u001b[0m   \u001b[0;32mdef\u001b[0m \u001b[0mcheck_returncode\u001b[0m\u001b[0;34m(\u001b[0m\u001b[0mself\u001b[0m\u001b[0;34m)\u001b[0m\u001b[0;34m:\u001b[0m\u001b[0;34m\u001b[0m\u001b[0;34m\u001b[0m\u001b[0m\n\u001b[1;32m    136\u001b[0m     \u001b[0;32mif\u001b[0m \u001b[0mself\u001b[0m\u001b[0;34m.\u001b[0m\u001b[0mreturncode\u001b[0m\u001b[0;34m:\u001b[0m\u001b[0;34m\u001b[0m\u001b[0;34m\u001b[0m\u001b[0m\n\u001b[0;32m--> 137\u001b[0;31m       raise subprocess.CalledProcessError(\n\u001b[0m\u001b[1;32m    138\u001b[0m           \u001b[0mreturncode\u001b[0m\u001b[0;34m=\u001b[0m\u001b[0mself\u001b[0m\u001b[0;34m.\u001b[0m\u001b[0mreturncode\u001b[0m\u001b[0;34m,\u001b[0m \u001b[0mcmd\u001b[0m\u001b[0;34m=\u001b[0m\u001b[0mself\u001b[0m\u001b[0;34m.\u001b[0m\u001b[0margs\u001b[0m\u001b[0;34m,\u001b[0m \u001b[0moutput\u001b[0m\u001b[0;34m=\u001b[0m\u001b[0mself\u001b[0m\u001b[0;34m.\u001b[0m\u001b[0moutput\u001b[0m\u001b[0;34m\u001b[0m\u001b[0;34m\u001b[0m\u001b[0m\n\u001b[1;32m    139\u001b[0m       )\n",
            "\u001b[0;31mCalledProcessError\u001b[0m: Command '# Task: use `scalpel` to perform data carving on the disk image\nscalpel -c /etc/scalpel.conf -o linux_part_recovery linux_part.dd # REMOVE\n' died with <Signals.SIGSEGV: 11>."
          ]
        }
      ],
      "source": [
        "%%shell\n",
        "# Task: use `scalpel` to perform data carving on the disk image\n",
        "scalpel -c /etc/scalpel.conf -o linux_part_recovery linux_part.dd # REMOVE\n"
      ]
    }
  ],
  "metadata": {
    "kernelspec": {
      "display_name": "Python 3 (ipykernel)",
      "language": "python",
      "name": "python3"
    },
    "language_info": {
      "codemirror_mode": {
        "name": "ipython",
        "version": 3
      },
      "file_extension": ".py",
      "mimetype": "text/x-python",
      "name": "python",
      "nbconvert_exporter": "python",
      "pygments_lexer": "ipython3",
      "version": "3.14.0"
    },
    "colab": {
      "provenance": []
    }
  },
  "nbformat": 4,
  "nbformat_minor": 5
}