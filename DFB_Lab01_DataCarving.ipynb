{
 "cells": [
  {
   "cell_type": "markdown",
   "id": "5fd26209-b741-47b6-89bf-32b1399d21a2",
   "metadata": {},
   "source": [
    "# Laboratory on Data Carving\n",
    "_Digital Forensics and Biometrics_ A.A. 2025/2026\n",
    "\n",
    "Lecturer: prof. **Simone Milani** (simone.milani@dei.unipd.it)\n",
    "\n",
    "Teaching Assistants: **Mattia Tamiazzo** (mattia.tamiazzo@studenti.unipd.it); **Luca Domeneghetti** (luca.domeneghetti@studenti.unipd.it)\n",
    "\n",
    "### Prerequisites\n",
    "This laboratory requires no prior knowledge concerning digital forensics. Although, basic knowledge of the Unix enviromnent might benefit the understanding of the deletion/recovery process.\n",
    "\n",
    "In general, the following aspects are expected to be known and will not be covered in detail:\n",
    "- Unix paradigm of files, directories and devices\n",
    "- Basic Shell usage\n",
    "- `Ext4` filesystem layout: inodes, block sectors, journaling\n",
    "- Calculations with hexadecimal byte offsets\n",
    "\n",
    "### Contents\n",
    "The goal of this laboratory is to provide the basic theoretical and practical notions on data carving and file recovery. The details related to file system's structure and I/O mechanisms – despite being crucial for a potentially successful data recovery – are out of scope and will be provided as a further reading for the student.\n",
    "\n",
    "At the end of the laboratory the student will have acquired the following skills:\n",
    "- Perform a forensic disk copy using Unix imaging tools (`dcfldd`)\n",
    "- Analyze the partition layout of a disk image\n",
    "- List the files within a filesystem\n",
    "- **Retrieve deallocated/deleted files**\n",
    "- **Perform data carving** (manually and using dedicated tools)\n",
    "___\n",
    "## Theoretical aspects of filesystem forensics\n",
    "Before diving into the practice, a brief theoretical detour is essential to understand how a recovery procedure is to be carried out.\n",
    "\n",
    "Having in mind how a specific filesystem works helps to understand how deletion processes work, how files are allocated logically and physically, and most importantly where to look for when searching for deallocated data.\n",
    "\n",
    "### The Ext filesystem\n",
    "This laboratory will be focused on Ext filesystems as it is widely implemented and tested under Linux environment. Its simplicity makes it the suitable starting point for a comprehensive data forensic approach.\n",
    "\n",
    "#### Inodes\n",
    "An **inode** (index nodes) is a data structure used by Unix filesystems (including the Ext family) to represent metadata on files. Each inode stores the following information:\n",
    "\n",
    "- File type (e.g., regular file, directory, symlink)\n",
    "- Permissions and ownership (UID, GID)\n",
    "- Timestamps (created, modified, accessed)\n",
    "- File size\n",
    "- Link count\n",
    "- Pointers to data blocks\n",
    "\n",
    "Inodes do **not** store the file name or its path — these are maintained in directory entries to map symbolic names to inode numbers. This separation is critical in forensic analysis and data carving where inodes may remain allocated even if directory structures are damaged or missing (this is the case for _orphan files_).\n",
    "\n",
    "Within an Ext partition, inodes are located in inode tables. Each inode is marked as allocated or deallocated by using inode bitmaps.\n",
    "\n",
    "[![](https://www.virtualcuriosities.com/wp-content/uploads/2025/03/linux-diagram-hard-links-inodes-20250326.webp)](https://www.virtualcuriosities.com/articles/4507/how-hard-links-and-inodes-work-on-linux)\n",
    "\n",
    "#### Directories\n",
    "In Ext filesystems, directories are special files (file code `0x2`) that store a list of **directory entries**, each mapping a filename to an **inode number**. These entries are stored sequentially in data blocks and are arranged as such:\n",
    "\n",
    "| Offset | Size                | Name                   | Description                                               |\n",
    "|--------|---------------------|------------------------|-----------------------------------------------------------|\n",
    "| 0x0    | __le32              | inode                  | Number of the inode that this directory entry points to.  |\n",
    "| 0x4    | __le16              | rec_len                | Length of this directory entry.                           |\n",
    "| 0x6    | __u8                | name_len               | Length of the file name.                                  |\n",
    "| 0x7    | __u8                | file_type              | File type code                                            |\n",
    "| 0x8    | char\\[255]          | name                   | File name.                                                |\n",
    "\n",
    "This structure allows multiple filenames (hard links) to point to the same inode.\n",
    "\n",
    "In Ext2 and Ext3, directory entries are stored in a linear list, which can become inefficient as directories grow. Ext4 introduced **HTree indexing**, a hashed B-tree-like structure, to improve performance in large directories.\n",
    "\n",
    "### NTFS and FAT\n",
    "\n",
    "Aside from Ext filesystems, NTFS and FAT filesystems are frequently employed in Windows environments or external data storage (e.g. USBs). Although they share some similarities, understanding the differences is key for a successful file recovery.\n",
    "\n",
    "- **Metadata Handling**:  \n",
    "  Ext uses **inodes** to store file metadata separately from directory entries. In contrast, **NTFS** stores metadata in the **Master File Table (MFT)**, with each file represented as a record. **FAT**, being simpler, uses a **File Allocation Table** and directory entries that contain both metadata and file location info.\n",
    "\n",
    "- **File Deletion Behavior**:  \n",
    "  In **Ext**, when a file is deleted, its directory entry and inode may persist until overwritten, which aids data recovery. **NTFS** marks MFT entries as deleted but often retains significant metadata. **FAT** simply marks the first character of the filename as deleted and updates the FAT chain.\n",
    "\n",
    "- **Journaling**:  \n",
    "  **Ext3/4** and **NTFS** are journaling filesystems, enhancing data integrity but sometimes complicating recovery due to overwrites. **FAT** lacks journaling, making it more vulnerable to corruption but also leaving raw data more directly accessible for carving.\n",
    "\n",
    "- **File Name and Path Storage**:  \n",
    "  Ext separates names (in directory entries) from inodes, while NTFS stores file name attributes directly within MFT records. FAT embeds the file name directly in the directory entry."
   ]
  },
  {
   "cell_type": "markdown",
   "id": "fbf4ac68-701a-4c4b-81b0-cf30c6f45e0f",
   "metadata": {},
   "source": [
    "___\n",
    "## Exercise 01: perform a forensic disk imaging\n",
    "When in possess of a digital forensic device (e.g. an hard disk, USB drive, internal SSD...), the first crucial step is to perform a copy of it as to avoid any accidental modification of the original.\n",
    "\n",
    "This process is called **disk imaging** and abides the following principles:\n",
    "1. the copy is an exact duplicate of the original device\n",
    "2. the original device remains unaltered by the process\n",
    "\n",
    "To avoid that unwanted (or intentional!) modifications are introduced during subsequent procedures, it is important to keep track of the **hash signature** of the original device. This step has to be performed during the first acquisition of the digital media.\n",
    "\n",
    "The target device is located at `/dev/loop0` in the virtual Unix machine. It is **important** to select the root device `loop0` and not any of its partitions (e.g. `loop0p1`) in order to perform a full disk image."
   ]
  },
  {
   "cell_type": "code",
   "execution_count": null,
   "id": "b9c49ac2-9773-4406-8728-810c6ff10602",
   "metadata": {},
   "outputs": [],
   "source": [
    "# `dcfldd` is an advanced version of Unix's `dd` tool to perform bit-by-bit copies of files/devices\n",
    "# if = input file\n",
    "# of = output file\n",
    "\n",
    "# Task: perform a disk image of device /dev/loop0 and save it as whatever you prefer.\n",
    "# How can I make `dcfldd` also compute the MD5 and SHA256 hash of the original disk device?\n",
    "\n",
    "dcfldd if=??? of=???"
   ]
  },
  {
   "cell_type": "code",
   "execution_count": null,
   "id": "d5321aa1-9c48-4749-9910-3abe67a77c72",
   "metadata": {},
   "outputs": [],
   "source": [
    "# Task: compare the MD5 and SHA256 hash digest of the original device (as provided by `dcfldd`) to the one of the disk image\n",
    "md5sum ???\n",
    "sha256sum ???"
   ]
  },
  {
   "cell_type": "markdown",
   "id": "d7669c4d-e925-4132-a580-4b5d6c1e948b",
   "metadata": {},
   "source": [
    "___\n",
    "## Exercise 02: obtain filesystem info of the disk image\n",
    "Each filesystem differs in the way data is arranged physically on the device. Even similar filesystems (e.g. Ext3 and Ext4) or the same filesystem may prefer an arrangement to another when considering the total space available on the device, the flags that were toggled during installation or the characteristics of the device itself (SSD, HDD...)\n",
    "\n",
    "TheSleuthKit (abbreviated as TSK) provides two commands to do so: `mmls` and `fsstat`"
   ]
  },
  {
   "cell_type": "code",
   "execution_count": null,
   "id": "4f4b68ad-9cd1-470c-9d64-d0d65ca3a7c4",
   "metadata": {},
   "outputs": [],
   "source": [
    "# `mmls` provides information on the overall layout scheme of the disk image\n",
    "mmls ???"
   ]
  },
  {
   "cell_type": "code",
   "execution_count": null,
   "id": "74b13a59-ac34-4f4e-ab5a-0e08db0684fb",
   "metadata": {},
   "outputs": [],
   "source": [
    "# `fsstat` provides information on a single filesystem partition\n",
    "# Task: obtain information on the Ext4 partition within the disk image\n",
    "fsstat ???\n",
    "\n",
    "# Question: what is the size of a single inode entry? What is the size of a block?"
   ]
  },
  {
   "cell_type": "markdown",
   "id": "abd64cba-15f0-419d-bab4-e6d221a4efd8",
   "metadata": {},
   "source": [
    "___\n",
    "## Exercise 03: recover deallocated files\n",
    "There are multiple ways by which a file can be deleted. A common technique (especially employed if the underlying device is an HDD) is to just **deallocate** the data blocks associated to file's data, deallocate its inode entry and add a \"deleted\" timestamp to it.\n",
    "\n",
    "Under these circumstances, it easily possible to recover the original file's data, provided that none if its data blocks have been overwritten in the meantime."
   ]
  },
  {
   "cell_type": "code",
   "execution_count": null,
   "id": "6063ccef-2ea4-436e-90e6-647ce2ffb57e",
   "metadata": {},
   "outputs": [],
   "source": [
    "# `fls` is the `ls` equivalent when inspecting a disk image\n",
    "# Task: roam around the filesystem. Then, list all files recursively\n",
    "fls ???\n",
    "\n",
    "# Question: what are the numbers displayed on the left-hand side of the output?"
   ]
  },
  {
   "cell_type": "markdown",
   "id": "c1a95ce9-6342-4a3e-90fc-bfe5df34932b",
   "metadata": {},
   "source": [
    "Given an inode number, it is easy to display the associated metadata information by using the command `istat`. To retrieve the associated data blocks, multiple commands can be used, namely `icat`, `blkcat` and `blkls`."
   ]
  },
  {
   "cell_type": "code",
   "execution_count": null,
   "id": "9bd5e558-1f4f-4343-8e5e-57ba392e0252",
   "metadata": {},
   "outputs": [],
   "source": [
    "# `istat` is used to display the metadata contained within an inode\n",
    "# Task: display the metadata information regarding a regular file and a deleted one. What are the differences?\n",
    "istat ???\n"
   ]
  },
  {
   "cell_type": "code",
   "execution_count": null,
   "id": "1ef98609-33e7-472c-a315-64b0e008626b",
   "metadata": {},
   "outputs": [],
   "source": [
    "# Task: use either `icat`, `blkcat` or `blkls` to display the binary data (in hex form) from a given inode\n",
    "??? ??? | xxd\n",
    "# Question: when displaying the same file type, pay attention to the beginning of the hex output\n"
   ]
  },
  {
   "cell_type": "code",
   "execution_count": null,
   "id": "a132662d-27f0-437c-9d14-49fbf0e0f838",
   "metadata": {},
   "outputs": [],
   "source": [
    "# Task: use either `icat`, `blkcat` or `blkls` to recover a file from a given inode\n",
    "??? ??? > recovered_file.???\n"
   ]
  },
  {
   "cell_type": "markdown",
   "id": "039b7ee8-78e5-4fa9-9832-f941a3be9c0c",
   "metadata": {},
   "source": [
    "___\n",
    "## Exercise 04: recover orphan files\n",
    "When a directory entry gets corrupted or deleted, an inode might lose its only hard link in the filesystem by which a file was to be accessed. This causes the file to be inaccessible, even if the original inode metadata and data blocks are still properly allocated in the filesystem.\n",
    "\n",
    "Provided by the Linux Kernel Archive package, the `fsck` tool provides a way to check for all inodes looking for a potential mismatch between their metadata \"link count\" and the actual one in the filesystem. Should it find an inode with an actual link count of 0 and a metadata link count greater than 0, such inode is considered \"orphaned\" and gets attached to the `lost+found` directory."
   ]
  },
  {
   "cell_type": "code",
   "execution_count": null,
   "id": "4f5ff3f4-9d09-4c18-83ac-354a2dd4e333",
   "metadata": {},
   "outputs": [],
   "source": [
    "# Before using the `fsck` tool, the disk image has to be attached as a loop block device on the Linux machine\n",
    "losetup --show -fP ???\n",
    "# The output is the newly created block device\n"
   ]
  },
  {
   "cell_type": "code",
   "execution_count": null,
   "id": "7673c1a0-18b9-49d0-ad1b-d66ff2f8a181",
   "metadata": {},
   "outputs": [],
   "source": [
    "# Task: perform `fsck` on the Ext4 partition\n",
    "fsck -f ???\n"
   ]
  },
  {
   "cell_type": "code",
   "execution_count": null,
   "id": "f042b175-f8bb-4f49-8931-44823275d176",
   "metadata": {},
   "outputs": [],
   "source": [
    "# Task: recover the newly attached orphan file (see exercise 03)\n"
   ]
  },
  {
   "cell_type": "markdown",
   "id": "727024b8-0151-4081-ae31-c69280252366",
   "metadata": {},
   "source": [
    "___\n",
    "## Exercise 05: perform data carving\n",
    "When the inode content is deallocated and overwritten, the only hope for a successful file recovery is to look in the data blocks (both allocated and deallocated). Each file has a unique heading (and sometime trailing) signature, which makes the recovery process a \"matching game\" against the signatures.\n",
    "| Filetype | Header                              | Trailer                          |\n",
    "|----------|--------------------------------------|----------------------------------|\n",
    "| JPG      | `FF D8`                              | `FF D9`                          |\n",
    "| PNG      | `89 50 4E 47 0D 0A 1A 0A`             | `49 45 4E 44 AE 42 60 82`        |\n",
    "| PDF      | `25 50 44 46`                        | multiple                         |\n",
    "| DOC      | `D0 CF 11 E0 A1 B1 1A E1`             | multiple                         |\n",
    "\n",
    "Data carving is a process that can be performed on single files when embedded data is present (e.g. DOC, PDF...) or on whole disk images.\n",
    "\n",
    "### Task A: recover an embedded image from a DOC/PDF file\n",
    "Recover the file `my_dog.docx` using the techniques seen in Exercise 03, and try to open it using Microsoft Word or any other `.docx` opener.\n",
    "\n",
    "When a **container file** (such as DOC/DOCX, PDF) gets corrupted, it may still be possible to retrieve the embedded files. Knowing that `my_dog.docx` contains a single JPG image, perform data carving on it and extract the image."
   ]
  },
  {
   "cell_type": "code",
   "execution_count": null,
   "id": "1fd1dfb7-1d09-4037-aa31-32c9438a799b",
   "metadata": {},
   "outputs": [],
   "source": [
    "# Tip 1: use `grep` with a regular expression to isolate the JPG hexadecimal data\n",
    "# Tip 2: `xxd` can be used to dump the hexadecimal data of a given file, but also do the opposite process\n",
    "xxd ???\n"
   ]
  },
  {
   "cell_type": "markdown",
   "id": "99be475a-f232-4087-914d-4ffd1d68f867",
   "metadata": {},
   "source": [
    "It is also possible to use dedicated tools that analyze binary data searching for embedded/hidden files. `binwalk` allows both to list and extract the embedded data from a given file. Use it to recover the image from `my_dog.docx`, and try it on other container files."
   ]
  },
  {
   "cell_type": "code",
   "execution_count": null,
   "id": "c2973980-acc8-4404-b33e-0f75f33b85f0",
   "metadata": {},
   "outputs": [],
   "source": [
    "# Task: use `binwalk` to extract embedded files\n",
    "binwalk ???\n"
   ]
  },
  {
   "cell_type": "markdown",
   "id": "a9501da1-8a1e-45be-bc84-371385229fd9",
   "metadata": {},
   "source": [
    "### Task B: recover all files from a disk image\n",
    "Dealing with an entire disk image, it is *unconvenient* to `xxd | grep` for each filetype. Instead, resorting to dedicated tools is a much more efficient option, especially when the amount and diversity of files is considerable.\n",
    "\n",
    "For this experience, `scalpel` will be used to perform a complete data carving on our disk image.\n",
    "\n",
    "**Attention**: `scalpel` requires a configuration file as one of its argument. In the Linux system provided, it is located under `/etc/scalpel.conf`. Please check your specific OS layout should it be any different."
   ]
  },
  {
   "cell_type": "code",
   "execution_count": null,
   "id": "8fde8714-8cf2-4c01-ba52-11263010e25d",
   "metadata": {},
   "outputs": [],
   "source": [
    "# Task: use `scalpel` to perform data carving on the disk image\n",
    "scalpel -c /etc/scalpel.conf ???\n"
   ]
  },
  {
   "cell_type": "markdown",
   "id": "dc4c1fa8-3d91-4e8a-b836-c28b7af155bd",
   "metadata": {},
   "source": [
    "___\n",
    "## Challenge: CTF on a FAT32 disk image\n",
    "Find the flag within the `disko-3.dd` disk image.\n",
    "\n",
    "The flag's format is the following: `picoCTF{...}`\n",
    "\n",
    "*(courtesy of picoCTF)*"
   ]
  }
 ],
 "metadata": {
  "kernelspec": {
   "display_name": "Python 3 (ipykernel)",
   "language": "python",
   "name": "python3"
  },
  "language_info": {
   "codemirror_mode": {
    "name": "ipython",
    "version": 3
   },
   "file_extension": ".py",
   "mimetype": "text/x-python",
   "name": "python",
   "nbconvert_exporter": "python",
   "pygments_lexer": "ipython3",
   "version": "3.14.0"
  }
 },
 "nbformat": 4,
 "nbformat_minor": 5
}
