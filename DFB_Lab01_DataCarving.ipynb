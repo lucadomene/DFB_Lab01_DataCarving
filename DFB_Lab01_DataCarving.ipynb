{
  "cells": [
    {
      "cell_type": "code",
      "execution_count": null,
      "id": "e919b1a9-8857-4033-afe8-bd2b50ec4ad4",
      "metadata": {
        "id": "e919b1a9-8857-4033-afe8-bd2b50ec4ad4"
      },
      "outputs": [],
      "source": [
        "%%shell\n",
        "# SETUP OF GOOGLE COLAB ENVIRONMENT\n",
        "git clone -b colab --single-branch https://github.com/lucadomene/DFB_Lab01_DataCarving /tmp/DFB_lab_init\n",
        "sh /tmp/DFB_lab_init/initialize.sh"
      ]
    },
    {
      "cell_type": "markdown",
      "id": "5fd26209-b741-47b6-89bf-32b1399d21a2",
      "metadata": {
        "id": "5fd26209-b741-47b6-89bf-32b1399d21a2"
      },
      "source": [
        "# Laboratory on Data Carving\n",
        "_Digital Forensics and Biometrics_ A.A. 2025/2026\n",
        "\n",
        "Lecturer: prof. **Simone Milani** (simone.milani@dei.unipd.it)\n",
        "\n",
        "Teaching Assistants: **Mattia Tamiazzo** (mattia.tamiazzo.1@phd.unipd.it); **Luca Domeneghetti** (luca.domeneghetti@studenti.unipd.it)\n",
        "\n",
        "### Prerequisites\n",
        "This laboratory requires no prior knowledge concerning digital forensics. Although, basic knowledge of the Unix enviromnent may help in understanding the deletion and recovery process.\n",
        "\n",
        "In general, the following aspects are assumed to be known and will not be covered in detail:\n",
        "- Unix paradigm of files, directories and devices\n",
        "- Basic Shell usage\n",
        "- `Ext4` filesystem layout: inodes, block sectors, journaling\n",
        "- Calculations with hexadecimal byte offsets\n",
        "\n",
        "### Contents\n",
        "The goal of this laboratory is to provide the fundamental theoretical and practical notions on data carving and file recovery. The details related to file system's structure and I/O mechanisms – although crucial for a successful data recovery – are beyond the scope of this laboratory and will be provided as an additional reading material.\n",
        "\n",
        "By the end of the laboratory the student will have acquired the following skills:\n",
        "- Perform a forensic disk copy using Unix imaging tools (`dcfldd`)\n",
        "- Analyze the partition layout of a disk image\n",
        "- List the files within a filesystem\n",
        "- **Retrieve deallocated/deleted files**\n",
        "- **Perform data carving** (manually and using dedicated tools)\n",
        "___\n",
        "## Theoretical aspects of filesystem forensics\n",
        "Before beginning the practical part, a brief theoretical overview is essential to understand how a recovery procedure should be performed.\n",
        "\n",
        "Understanding how a specific filesystem works helps to clarify how deletion processes work, how files are allocated logically and physically, and most importantly where to look when searching for deallocated data.\n",
        "\n",
        "### The Ext filesystem\n",
        "This laboratory focuses on Ext filesystems as it is widely implemented and tested under Linux environment. Its simplicity makes it the suitable starting point for a comprehensive data forensic approach.\n",
        "\n",
        "#### Inodes\n",
        "An **inode** (index nodes) is a data structure used by Unix filesystems (including the Ext family) to represent metadata of files. Each inode stores the following information:\n",
        "\n",
        "- File type (e.g., regular file, directory, symlink)\n",
        "- Permissions and ownership (UID, GID)\n",
        "- Timestamps (created, modified, accessed)\n",
        "- File size\n",
        "- Link count\n",
        "- Pointers to data blocks\n",
        "\n",
        "(Source: [Linux Kernel](https://github.com/torvalds/linux/blob/211ddde0823f1442e4ad052a2f30f050145ccada/fs/ext4/ext4.h#L787C1-L846C3))\n",
        "\n",
        "Inodes do **not** store the file name or its path — these are maintained in directory entries that map symbolic names to inode numbers. This separation is critical in forensic analysis and data carving: inodes may remain allocated even when directory structures are damaged or missing (this is the case for _orphan files_).\n",
        "\n",
        "Within an Ext partition, inodes are located in inode tables. Each inode is marked as allocated or deallocated by using inode bitmaps.\n",
        "\n",
        "[![](https://www.virtualcuriosities.com/wp-content/uploads/2025/03/linux-diagram-hard-links-inodes-20250326.webp)](https://www.virtualcuriosities.com/articles/4507/how-hard-links-and-inodes-work-on-linux)\n",
        "\n",
        "#### Directories\n",
        "In Ext filesystems, directories are special files (file code `0x2`) that store a list of **directory entries**, each mapping a filename to an **inode number**. These entries are stored sequentially in data blocks and are arranged as such:\n",
        "\n",
        "| Offset | Size                | Name                   | Description                                               |\n",
        "|--------|---------------------|------------------------|-----------------------------------------------------------|\n",
        "| 0x0    | __le32              | inode                  | Number of the inode that this directory entry points to.  |\n",
        "| 0x4    | __le16              | rec_len                | Length of this directory entry.                           |\n",
        "| 0x6    | __u8                | name_len               | Length of the file name.                                  |\n",
        "| 0x7    | __u8                | file_type              | File type code                                            |\n",
        "| 0x8    | char\\[255]          | name                   | File name.                                                |\n",
        "\n",
        "(Source: [Linux Kernel](https://github.com/torvalds/linux/blob/211ddde0823f1442e4ad052a2f30f050145ccada/fs/ext4/ext4.h#L2392C1-L2398C3))\n",
        "\n",
        "This structure allows multiple filenames (hard links) to point to the same inode.\n",
        "\n",
        "In Ext2 and Ext3, directory entries are stored in a linear list, which can become inefficient as directories grow. Ext4 introduced **HTree indexing**, a hashed B-tree-like structure, to improve performance in large directories.\n",
        "\n",
        "### NTFS and FAT\n",
        "\n",
        "Aside from Ext filesystems, NTFS and FAT filesystems are frequently employed in Windows environments or external data storage (e.g. USBs). Although they share some similarities, understanding the differences is key for a successful file recovery.\n",
        "\n",
        "- **Metadata Handling**:  \n",
        "  Ext uses **inodes** to store file metadata separately from directory entries. In contrast, **NTFS** stores metadata in the **Master File Table (MFT)**, with each file represented as a record. **FAT**, being simpler, uses a **File Allocation Table** and directory entries that contain both metadata and file location info.\n",
        "\n",
        "- **File Deletion Behavior**:  \n",
        "  In **Ext**, when a file is deleted, its directory entry and inode may persist until overwritten, which aids data recovery. **NTFS** marks MFT entries as deleted but often retains significant metadata. **FAT** simply marks the first character of the filename as deleted and updates the FAT chain.\n",
        "\n",
        "- **Journaling**:  \n",
        "  **Ext3/4** and **NTFS** are journaling filesystems, enhancing data integrity but sometimes complicating recovery due to overwrites. **FAT** lacks journaling, making it more vulnerable to corruption but also leaving raw data more directly accessible for carving.\n",
        "\n",
        "- **File Name and Path Storage**:  \n",
        "  Ext separates names (in directory entries) from inodes, while NTFS stores file name attributes directly within MFT records. FAT embeds the file name directly in the directory entry."
      ]
    },
    {
      "cell_type": "markdown",
      "id": "fbf4ac68-701a-4c4b-81b0-cf30c6f45e0f",
      "metadata": {
        "id": "fbf4ac68-701a-4c4b-81b0-cf30c6f45e0f"
      },
      "source": [
        "___\n",
        "## Exercise 01: perform a forensic disk imaging\n",
        "When in possess of a digital forensic device (e.g. an hard disk, USB drive, internal SSD...), the first crucial step is to perform a copy of it as to avoid any accidental modification of the original.\n",
        "\n",
        "This process is called **disk imaging** and abides the following principles:\n",
        "1. the copy is an exact duplicate of the original device\n",
        "2. the original device remains unaltered by the process\n",
        "\n",
        "To avoid that unwanted (or intentional!) modifications are introduced during subsequent procedures, it is important to keep track of the **hash signature** of the original device. This step has to be performed during the first acquisition of the digital media.\n",
        "\n",
        "The target device is located at `/dev/loop0` in the virtual Unix machine. It is **important** to select the root device `loop0` and not any of its partitions (e.g. `loop0p1`) in order to perform a full disk image.\n",
        "\n",
        "```\n",
        "Usage: dcfldd [OPTION]...\n",
        "Enhanced version of dd for forensics and security.\n",
        "\n",
        "  bs=BYTES            force ibs=BYTES and obs=BYTES (default=32768)\n",
        "  count=BLOCKS        copy only BLOCKS input blocks\n",
        "  if=FILE             read from FILE instead of stdin\n",
        "  of=FILE             write to FILE instead of stdout\n",
        "  seek=BLOCKS         skip BLOCKS obs-sized blocks at start of output\n",
        "  skip=BLOCKS         skip BLOCKS ibs-sized blocks at start of input\n",
        "  pattern=HEX         use the specified binary pattern as input\n",
        "  textpattern=TEXT    use repeating TEXT as input\n",
        "  errlog=FILE         send error messages to FILE as well as stderr\n",
        "  hash=NAME           do hash calculation (md5, sha1, sha256, sha384 or sha512)\n",
        "  hashlog=FILE        send hash output to FILE instead of stderr\n",
        "  hashwindow=BYTES    perform a hash on every BYTES amount of data\n",
        "  status=[on|off]          display a continual status message on stderr\n",
        "  statusinterval=N         update the status message every N blocks\n",
        "  sizeprobe=[if|of|BYTES]  what to use as value to percentage indicator\n",
        "  vf=FILE                  verify that FILE matches the specified input\n",
        "  verifylog=FILE           send verify results to FILE instead of stderr\n",
        "```"
      ]
    },
    {
      "cell_type": "code",
      "execution_count": null,
      "id": "b9c49ac2-9773-4406-8728-810c6ff10602",
      "metadata": {
        "id": "b9c49ac2-9773-4406-8728-810c6ff10602"
      },
      "outputs": [],
      "source": [
        "%%shell\n",
        "# Task: perform a disk image of device /dev/loop0 and save it as whatever you prefer.\n",
        "# How can I make `dcfldd` also compute the MD5 and SHA256 hash of the original disk device?\n",
        "\n",
        "dcfldd if=/dev/loop0 of=image.dd hash=md5,sha256 hashlog=hash.txt # REMOVE"
      ]
    },
    {
      "cell_type": "code",
      "execution_count": null,
      "id": "d5321aa1-9c48-4749-9910-3abe67a77c72",
      "metadata": {
        "id": "d5321aa1-9c48-4749-9910-3abe67a77c72"
      },
      "outputs": [],
      "source": [
        "%%shell\n",
        "# Task: compare the MD5 and SHA256 hash digest of the original device (as provided by `dcfldd`) to the one of the disk image\n",
        "md5sum image.dd # REMOVE\n",
        "sha256sum image.dd # REMOVE\n",
        "\n",
        "cat hash.txt # REMOVE"
      ]
    },
    {
      "cell_type": "markdown",
      "id": "d7669c4d-e925-4132-a580-4b5d6c1e948b",
      "metadata": {
        "id": "d7669c4d-e925-4132-a580-4b5d6c1e948b"
      },
      "source": [
        "___\n",
        "## Exercise 02: obtain filesystem info of the disk image\n",
        "Each filesystem differs in the way data is arranged physically on the device. Even similar filesystems (e.g. Ext3 and Ext4) or the same filesystem may prefer an arrangement to another when considering the total space available on the device, the flags that were toggled during installation or the characteristics of the device itself (SSD, HDD...).\n",
        "\n",
        "For convenience, it is better to extract the partition from the complete image using `dcfldd` with `if={your_image}.dd` (hint: look at options `bs`, `seek` and `count`).\n",
        "\n",
        "TheSleuthKit (abbreviated as TSK) provides two commands to do so: `mmls` and `fsstat`\n",
        "\n",
        "```\n",
        "usage: mmls [-i imgtype] [-o imgoffset] image [images]\n",
        "\n",
        "usage: fsstat [-f fstype] [-i imgtype] [-o imgoffset] image\n",
        "```"
      ]
    },
    {
      "cell_type": "code",
      "execution_count": null,
      "id": "4f4b68ad-9cd1-470c-9d64-d0d65ca3a7c4",
      "metadata": {
        "id": "4f4b68ad-9cd1-470c-9d64-d0d65ca3a7c4"
      },
      "outputs": [],
      "source": [
        "%%shell\n",
        "# `mmls` provides information on the overall layout scheme of the disk image\n",
        "# Task: list the partition table\n",
        "mmls image.dd # REMOVE\n"
      ]
    },
    {
      "cell_type": "code",
      "source": [
        "%%shell\n",
        "# Task: extract the Linux partition\n",
        "dcfldd if=image.dd of=linux_part.dd skip=2048 count=100352 bs=512 # REMOVE\n"
      ],
      "metadata": {
        "id": "l9T7HiPBTxdn"
      },
      "id": "l9T7HiPBTxdn",
      "execution_count": null,
      "outputs": []
    },
    {
      "cell_type": "code",
      "execution_count": null,
      "id": "74b13a59-ac34-4f4e-ab5a-0e08db0684fb",
      "metadata": {
        "id": "74b13a59-ac34-4f4e-ab5a-0e08db0684fb"
      },
      "outputs": [],
      "source": [
        "%%shell\n",
        "# `fsstat` provides information on a single filesystem partition\n",
        "# Task: obtain information on the Ext4 partition within the disk image\n",
        "fsstat linux_part.dd # REMOVE\n",
        "\n",
        "# Question: what is the size of a single inode entry? What is the size of a block?"
      ]
    },
    {
      "cell_type": "markdown",
      "id": "abd64cba-15f0-419d-bab4-e6d221a4efd8",
      "metadata": {
        "id": "abd64cba-15f0-419d-bab4-e6d221a4efd8"
      },
      "source": [
        "___\n",
        "## Exercise 03: recover deallocated files\n",
        "There are multiple ways by which a file can be deleted. A common technique (especially employed if the underlying device is an HDD) is to just **deallocate** the data blocks associated to file's data, deallocate its inode entry and add a \"deleted\" timestamp to it.\n",
        "\n",
        "Under these circumstances, it easily possible to recover the original file's data, provided that none if its data blocks have been overwritten in the meantime.\n",
        "\n",
        "The output of `fls` command allows to obtain information on the files contained within the partition's filesystem; in particular, the asterix `*` denotes a file that spans in unallocated space, thus it has been \"softly deleted\".\n",
        "\n",
        "```\n",
        "usage: fls -r [-f fstype] [-i imgtype] [-o imgoffset] image [images] [inode]\n",
        "```"
      ]
    },
    {
      "cell_type": "code",
      "execution_count": null,
      "id": "6063ccef-2ea4-436e-90e6-647ce2ffb57e",
      "metadata": {
        "id": "6063ccef-2ea4-436e-90e6-647ce2ffb57e"
      },
      "outputs": [],
      "source": [
        "%%shell\n",
        "# `fls` is the `ls` equivalent when inspecting a disk image\n",
        "fls linux_part.dd\n",
        "\n",
        "# Question: what are the numbers displayed on the left-hand side of the output?"
      ]
    },
    {
      "cell_type": "code",
      "source": [
        "# Task: roam around the filesystem. Then, try to list all files recursively\n"
      ],
      "metadata": {
        "id": "kLmzxykXMA-_"
      },
      "id": "kLmzxykXMA-_",
      "execution_count": null,
      "outputs": []
    },
    {
      "cell_type": "markdown",
      "id": "c1a95ce9-6342-4a3e-90fc-bfe5df34932b",
      "metadata": {
        "id": "c1a95ce9-6342-4a3e-90fc-bfe5df34932b"
      },
      "source": [
        "Given an inode number, it is easy to display the associated metadata information by using the command `istat`. To retrieve the associated data blocks, multiple commands can be used, namely `icat`, `blkcat` and `blkls`.\n",
        "\n",
        "```\n",
        "usage: istat [-f fstype] [-i imgtype] [-o imgoffset] image inum\n",
        "\n",
        "usage: icat [-f fstype] [-i imgtype] [-o imgoffset] image [images] inum[-typ[-id]]\n",
        "\n",
        "usage: blkcat [-f fstype] [-i imgtype] [-o imgoffset] [-P pooltype] [-k password] image [images] unit_addr [num]\n",
        "\n",
        "usage: blkls [-f fstype] [-i imgtype] [-o imgoffset] image [images] [start-stop]\n",
        "```"
      ]
    },
    {
      "cell_type": "code",
      "execution_count": null,
      "id": "9bd5e558-1f4f-4343-8e5e-57ba392e0252",
      "metadata": {
        "id": "9bd5e558-1f4f-4343-8e5e-57ba392e0252"
      },
      "outputs": [],
      "source": [
        "%%shell\n",
        "# `istat` is used to display the metadata contained within an inode\n",
        "# Task: display the metadata information regarding a regular file and a deleted one. What are the differences?\n",
        "istat linux_part.dd 21 # REMOVE"
      ]
    },
    {
      "cell_type": "markdown",
      "source": [
        "```\n",
        "Usage:\n",
        "       xxd [options] [infile [outfile]]\n",
        "    or\n",
        "       xxd -r [-s [-]offset] [-c cols] [-ps] [infile [outfile]]\n",
        "Options:\n",
        "    -a          toggle autoskip: A single '*' replaces nul-lines. Default off.\n",
        "    -b          binary digit dump (incompatible with -ps). Default hex.\n",
        "    -C          capitalize variable names in C include file style (-i).\n",
        "    -c cols     format <cols> octets per line. Default 16 (-i: 12, -ps: 30).\n",
        "    -E          show characters in EBCDIC. Default ASCII.\n",
        "    -e          little-endian dump (incompatible with -ps,-i,-r).\n",
        "    -g bytes    number of octets per group in normal output. Default 2 (-e: 4).\n",
        "    -h          print this summary.\n",
        "    -i          output in C include file style.\n",
        "    -l len      stop after <len> octets.\n",
        "    -n name     set the variable name used in C include output (-i).\n",
        "    -o off      add <off> to the displayed file position.\n",
        "    -ps         output in postscript plain hexdump style.\n",
        "    -r          reverse operation: convert (or patch) hexdump into binary.\n",
        "    -r -s off   revert with <off> added to file positions found in hexdump.\n",
        "    -d          show offset in decimal instead of hex.\n",
        "    -s [+][-]seek  start at <seek> bytes abs. (or +: rel.) infile offset.\n",
        "    -u          use upper case hex letters.\n",
        "    -R when     colorize the output; <when> can be 'always', 'auto' or 'never'. Default: 'auto'.\n",
        "    -v          show version: \"xxd 2025-08-24 by Juergen Weigert et al.\".\n",
        "```"
      ],
      "metadata": {
        "id": "HPpO_a8bN-Yg"
      },
      "id": "HPpO_a8bN-Yg"
    },
    {
      "cell_type": "code",
      "execution_count": null,
      "id": "1ef98609-33e7-472c-a315-64b0e008626b",
      "metadata": {
        "id": "1ef98609-33e7-472c-a315-64b0e008626b"
      },
      "outputs": [],
      "source": [
        "%%shell\n",
        "icat linux_part.dd 23 | xxd | head"
      ]
    },
    {
      "cell_type": "code",
      "source": [
        "%%shell\n",
        "# Task: display the content of another file with a different file type. What can you notice at the beginning?\n"
      ],
      "metadata": {
        "id": "6bvqWO1EOXfi"
      },
      "id": "6bvqWO1EOXfi",
      "execution_count": null,
      "outputs": []
    },
    {
      "cell_type": "code",
      "execution_count": null,
      "id": "a132662d-27f0-437c-9d14-49fbf0e0f838",
      "metadata": {
        "id": "a132662d-27f0-437c-9d14-49fbf0e0f838"
      },
      "outputs": [],
      "source": [
        "%%shell\n",
        "icat linux_part.dd 20 > retrieved_data/cat.bmp\n",
        "# Using the side menu \"Files\", you can navigate to /content/retrieved_data and download the recovered file"
      ]
    },
    {
      "cell_type": "code",
      "source": [
        "%%shell\n",
        "# Task: use either `icat`, `blkcat` or `blkls` to recover a file from a given inode\n"
      ],
      "metadata": {
        "id": "t_dVw0fdNwND"
      },
      "id": "t_dVw0fdNwND",
      "execution_count": null,
      "outputs": []
    },
    {
      "cell_type": "markdown",
      "id": "039b7ee8-78e5-4fa9-9832-f941a3be9c0c",
      "metadata": {
        "id": "039b7ee8-78e5-4fa9-9832-f941a3be9c0c"
      },
      "source": [
        "___\n",
        "## Exercise 04: recover orphan files\n",
        "When a directory entry gets corrupted or deleted, an inode might lose its only hard link in the filesystem by which a file was to be accessed. This causes the file to be inaccessible, even if the original inode metadata and data blocks are still properly allocated in the filesystem.\n",
        "\n",
        "Provided by the Linux Kernel Archive package, the `fsck` tool provides a way to check for all inodes looking for a potential mismatch between their metadata \"link count\" and the actual one in the filesystem. Should it find an inode with an actual link count of 0 and a metadata link count greater than 0, such inode is considered \"orphaned\" and gets attached to the `lost+found` directory."
      ]
    },
    {
      "cell_type": "code",
      "execution_count": null,
      "id": "7673c1a0-18b9-49d0-ad1b-d66ff2f8a181",
      "metadata": {
        "id": "7673c1a0-18b9-49d0-ad1b-d66ff2f8a181"
      },
      "outputs": [],
      "source": [
        "%%shell\n",
        "# Task: perform `fsck` on the Ext4 partition, USING THE TERMINAL\n",
        "fsck.ext4 -f linux_part.dd\n"
      ]
    },
    {
      "cell_type": "code",
      "execution_count": null,
      "id": "f042b175-f8bb-4f49-8931-44823275d176",
      "metadata": {
        "id": "f042b175-f8bb-4f49-8931-44823275d176"
      },
      "outputs": [],
      "source": [
        "%%shell\n",
        "# Task: recover the newly attached orphan file (see exercise 03)\n"
      ]
    },
    {
      "cell_type": "markdown",
      "id": "727024b8-0151-4081-ae31-c69280252366",
      "metadata": {
        "id": "727024b8-0151-4081-ae31-c69280252366"
      },
      "source": [
        "___\n",
        "## Exercise 05: perform data carving\n",
        "When the inode content is deallocated and overwritten, the only hope for a successful file recovery is to look in the data blocks (both allocated and deallocated). Each file has a unique heading (and sometime trailing) signature, which makes the recovery process a \"matching game\" against the signatures.\n",
        "| Filetype | Header                              | Trailer                          |\n",
        "|----------|--------------------------------------|----------------------------------|\n",
        "| JPG      | `FF D8`                              | `FF D9`                          |\n",
        "| PNG      | `89 50 4E 47 0D 0A 1A 0A`             | `49 45 4E 44 AE 42 60 82`        |\n",
        "| PDF      | `25 50 44 46`                        | multiple                         |\n",
        "| DOC      | `D0 CF 11 E0 A1 B1 1A E1`             | multiple                         |\n",
        "\n",
        "Data carving is a process that can be performed on single files when embedded data is present (e.g. DOC, PDF...) or on whole disk images.\n",
        "\n",
        "### **Task A: recover an embedded image from a DOC/PDF file**\n",
        "Recover the file `my_dog.docx` using the techniques seen in Exercise 03, and try to open it using Microsoft Word or any other `.docx` opener.\n",
        "\n",
        "When a **container file** (such as DOC/DOCX, PDF) gets corrupted, it may still be possible to retrieve the embedded files. Knowing that `my_dog.docx` contains a single ZIP archive (signature `504b0304`) that holds its data structure, perform data carving on it and extract the image."
      ]
    },
    {
      "cell_type": "code",
      "source": [
        "%%shell\n",
        "# Task: recover the deleted file 'my_dog.docx'\n",
        "icat linux_part.dd 16 > my_dog.docx"
      ],
      "metadata": {
        "id": "CycxqMO47ut2"
      },
      "id": "CycxqMO47ut2",
      "execution_count": null,
      "outputs": []
    },
    {
      "cell_type": "code",
      "execution_count": null,
      "id": "1fd1dfb7-1d09-4037-aa31-32c9438a799b",
      "metadata": {
        "id": "1fd1dfb7-1d09-4037-aa31-32c9438a799b"
      },
      "outputs": [],
      "source": [
        "%%shell\n",
        "# Tip 1: use `grep` with a regular expression to isolate the JPG hexadecimal data\n",
        "# Tip 2: `xxd` can be used to dump the hexadecimal data of a given file, but also do the opposite process\n",
        "xxd -p my_dog.docx | tr -d '\\n' | grep -o '504b0304.*' | xxd -r -p - my_dog.zip\n"
      ]
    },
    {
      "cell_type": "code",
      "source": [
        "%%shell\n",
        "# Task: unzip the extracted archive\n",
        "unzip -d my_dog my_dog.zip"
      ],
      "metadata": {
        "id": "9UZxRIM8XpYh"
      },
      "id": "9UZxRIM8XpYh",
      "execution_count": null,
      "outputs": []
    },
    {
      "cell_type": "markdown",
      "id": "99be475a-f232-4087-914d-4ffd1d68f867",
      "metadata": {
        "id": "99be475a-f232-4087-914d-4ffd1d68f867"
      },
      "source": [
        "It is also possible to use dedicated tools that analyze binary data searching for embedded/hidden files. `binwalk` allows both to list and extract the embedded data from a given file. Use it to recover the image from `my_dog.docx`, and try it on other container files.\n",
        "\n",
        "```\n",
        "Analyzes data for embedded file types\n",
        "\n",
        "Usage: binwalk [OPTIONS] [FILE_NAME]\n",
        "\n",
        "Arguments:\n",
        "  [FILE_NAME]  Path to the file to analyze\n",
        "\n",
        "Options:\n",
        "  -L, --list                   List supported signatures and extractors\n",
        "  -q, --quiet                  Supress output to stdout\n",
        "  -v, --verbose                During recursive extraction display *all* results\n",
        "  -e, --extract                Automatically extract known file types\n",
        "  -M, --matryoshka             Recursively scan extracted files\n",
        "  -a, --search-all             Search for all signatures at all offsets\n",
        "  -E, --entropy                Plot the entropy of the specified file\n",
        "  -l, --log <LOG>              Log JSON results to a file\n",
        "  -t, --threads <THREADS>      Manually specify the number of threads to use\n",
        "  -x, --exclude <EXCLUDE>...   Do no scan for these signatures\n",
        "  -y, --include <INCLUDE>...   Only scan for these signatures\n",
        "  -C, --directory <DIRECTORY>  Extract files/folders to a custom directory [default: extractions]\n",
        "  -h, --help                   Print help\n",
        "  -V, --version                Print version\n",
        "```"
      ]
    },
    {
      "cell_type": "code",
      "execution_count": null,
      "id": "c2973980-acc8-4404-b33e-0f75f33b85f0",
      "metadata": {
        "id": "c2973980-acc8-4404-b33e-0f75f33b85f0"
      },
      "outputs": [],
      "source": [
        "%%shell\n",
        "binwalk my_dog.docx\n"
      ]
    },
    {
      "cell_type": "code",
      "source": [
        "%%shell\n",
        "# Task: use `binwalk` to extract data on other container files\n",
        "binwalk -e -C retrieved_data/binwalk my_dog.docx"
      ],
      "metadata": {
        "id": "yFN6XKPRPkkY"
      },
      "id": "yFN6XKPRPkkY",
      "execution_count": null,
      "outputs": []
    },
    {
      "cell_type": "markdown",
      "source": [
        "### **Task B: recover files from journal**\n",
        "A **journaling file system** is a file system capable of keeping track of changes in a record-commit fashion. It is a mechanism to prevent data loss in the event of a system crash or power failure.\n",
        "\n",
        "The **journal** is treated as a Unix file, has its own inode and can be extracted from a disk image partition. Depending on the implementation, a journal may contain both data and its metadata, or just the latter (at the expense of possible data loss)."
      ],
      "metadata": {
        "id": "CEWb4obTNZVE"
      },
      "id": "CEWb4obTNZVE"
    },
    {
      "cell_type": "code",
      "source": [
        "%%shell\n",
        "# Hint: use `fsstat` to retrieve the journal inode number\n",
        "fsstat linux_part.dd # REMOVE\n"
      ],
      "metadata": {
        "id": "z-pM8dqDO01E"
      },
      "id": "z-pM8dqDO01E",
      "execution_count": null,
      "outputs": []
    },
    {
      "cell_type": "code",
      "source": [
        "%%shell\n",
        "# Task: extract the journal and extract its data\n",
        "icat linux_part.dd 8 > journal.raw # REMOVE"
      ],
      "metadata": {
        "id": "qlpC--yfUr-h"
      },
      "id": "qlpC--yfUr-h",
      "execution_count": null,
      "outputs": []
    },
    {
      "cell_type": "code",
      "source": [
        "%%shell\n",
        "# Hint: sometimes, we are not looking for binary files...\n",
        "binwalk journal.raw # REMOVE\n",
        "strings journal.raw | grep 'password' # REMOVE\n",
        "strings journal.raw | grep 'mount'"
      ],
      "metadata": {
        "id": "QJpIe5jUTTBU"
      },
      "id": "QJpIe5jUTTBU",
      "execution_count": null,
      "outputs": []
    },
    {
      "cell_type": "markdown",
      "id": "a9501da1-8a1e-45be-bc84-371385229fd9",
      "metadata": {
        "id": "a9501da1-8a1e-45be-bc84-371385229fd9"
      },
      "source": [
        "### **Task C: recover all files from a disk image**\n",
        "Dealing with an entire disk image, it is *unconvenient* to `xxd | grep` for each filetype. Instead, resorting to dedicated tools is a much more efficient option, especially when the amount and diversity of files is considerable.\n",
        "\n",
        "For this experience, `foremost` will be used to perform a complete data carving on our disk image.\n",
        "\n",
        "**Attention**: `foremost` accepts a configuration file as one of its argument. In the Linux system provided, it is located under `/etc/foremost.conf`. Please check your specific OS layout should it be any different.\n",
        "\n",
        "```\n",
        "$ foremost [-v|-V|-h|-T|-Q|-q|-a|-w-d] [-t <type>] [-s <blocks>] [-k <size>]\n",
        "        [-b <size>] [-c <file>] [-o <dir>] [-i <file]\n",
        "\n",
        "-V  - display copyright information and exit\n",
        "-t  - specify file type.  (-t jpeg,pdf ...)\n",
        "-d  - turn on indirect block detection (for UNIX file-systems)\n",
        "-i  - specify input file (default is stdin)\n",
        "-a  - Write all headers, perform no error detection (corrupted files)\n",
        "-w  - Only write the audit file, do not write any detected files to the disk\n",
        "-o  - set output directory (defaults to output)\n",
        "-c  - set configuration file to use (defaults to foremost.conf)\n",
        "-q  - enables quick mode. Search are performed on 512 byte boundaries.\n",
        "-Q  - enables quiet mode. Suppress output messages.\n",
        "-v  - verbose mode. Logs all messages to screen\n",
        "```"
      ]
    },
    {
      "cell_type": "code",
      "execution_count": null,
      "id": "8fde8714-8cf2-4c01-ba52-11263010e25d",
      "metadata": {
        "id": "8fde8714-8cf2-4c01-ba52-11263010e25d"
      },
      "outputs": [],
      "source": [
        "%%shell\n",
        "# Task: use `scalpel` to perform data carving on the disk image\n",
        "foremost -d -v -a -c /etc/foremost.conf -o linux_part_recovery linux_part.dd # REMOVE\n"
      ]
    },
    {
      "cell_type": "markdown",
      "source": [
        "---\n",
        "# Challenges\n",
        "For those who want to test their skills in data carving and file system forensics, four optional challenges are provided as an additional task to perform.\n",
        "\n",
        "Some of the disk images are provided as a `gzip` archive. To extract it (and keep the original archive file) use the following command:\n",
        "``` shell\n",
        "gunzip -k image.dd.gz\n",
        "```\n",
        "\n",
        "## CTF challenges\n",
        "The three CTF challenges are taken from [picoCTF](https://play.picoctf.org/practice).\n",
        "- `disko-3.dd.gz`\n",
        "- `dds2-alpine.flag.img.gz`\n",
        "- `tskapprentice.img.gz`\n",
        "\n",
        "They require you to perform an analysis of the provided disk images and extract the flag with the format `picoCTF{...}`\n",
        "\n",
        "## NTFS Timestamp recovery (HARD)\n",
        "This challenge is taken from [CTF-Questions](https://github.com/mfput/CTF-Questions) repository.\n",
        "\n",
        "- `file6.E01`\n",
        "\n",
        "What is the exact original modification time by the kernel of the document `New Text Document.txt`? Format: YYYY-MM-DD HH:MM:SS.SSSSSS"
      ],
      "metadata": {
        "id": "SZQ5tMTudLFQ"
      },
      "id": "SZQ5tMTudLFQ"
    }
  ],
  "metadata": {
    "kernelspec": {
      "display_name": "Python 3 (ipykernel)",
      "language": "python",
      "name": "python3"
    },
    "language_info": {
      "codemirror_mode": {
        "name": "ipython",
        "version": 3
      },
      "file_extension": ".py",
      "mimetype": "text/x-python",
      "name": "python",
      "nbconvert_exporter": "python",
      "pygments_lexer": "ipython3",
      "version": "3.14.0"
    },
    "colab": {
      "provenance": []
    }
  },
  "nbformat": 4,
  "nbformat_minor": 5
}